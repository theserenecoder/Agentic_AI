{
 "cells": [
  {
   "cell_type": "markdown",
   "id": "5ff8a3b2",
   "metadata": {},
   "source": [
    "#### Pydantic Basics: Creating and Using Models\n",
    "Pydantic models are the foundation of data validation in Python. They use Python type annotations to define the structure and validate data at runtime. Here's a detailed exploration of basic model creation with several examples."
   ]
  },
  {
   "cell_type": "code",
   "execution_count": 2,
   "id": "98768542",
   "metadata": {},
   "outputs": [
    {
     "name": "stdout",
     "output_type": "stream",
     "text": [
      "Person(name='John Doe', age=30, city=35)\n"
     ]
    }
   ],
   "source": [
    "## dataclass decorator automatically generates special methods\n",
    "# __init__(), __repr__(), __eq__(), and __hash__() etc\n",
    "from dataclasses import dataclass\n",
    "\n",
    "@dataclass\n",
    "class Person():\n",
    "    name:str\n",
    "    age:int\n",
    "    city:str\n",
    "    \n",
    "person = Person(name=\"John Doe\", age=30, city=35)\n",
    "print(person)"
   ]
  },
  {
   "cell_type": "markdown",
   "id": "85a2ce0b",
   "metadata": {},
   "source": [
    "Even though in our class Person we defined city to be of str tyle there is no validation on it and therefore if we provide an integer it will accept that.\n",
    "Though pydantic BaseModel validate the datatype."
   ]
  },
  {
   "cell_type": "code",
   "execution_count": 3,
   "id": "a61dd112",
   "metadata": {},
   "outputs": [
    {
     "name": "stdout",
     "output_type": "stream",
     "text": [
      "name='John Doe' age=30 city='Kelowna' \n",
      "\n",
      "Error: 2 validation errors for PersonModel\n",
      "age\n",
      "  Input should be a valid integer, unable to parse string as an integer [type=int_parsing, input_value='thirty', input_type=str]\n",
      "    For further information visit https://errors.pydantic.dev/2.11/v/int_parsing\n",
      "city\n",
      "  Input should be a valid string [type=string_type, input_value=35, input_type=int]\n",
      "    For further information visit https://errors.pydantic.dev/2.11/v/string_type\n"
     ]
    }
   ],
   "source": [
    "from pydantic import BaseModel\n",
    "\n",
    "class PersonModel(BaseModel):\n",
    "    name: str\n",
    "    age: int\n",
    "    city: str\n",
    "\n",
    "# Pydantic will validate the data types\n",
    "# and raise an error if they do not match    \n",
    "person1 = PersonModel(name=\"John Doe\", age=30, city=\"Kelowna\")\n",
    "print(person1,'\\n')\n",
    "\n",
    "try:\n",
    "    person2 = PersonModel(name=\"John Doe\", age=\"thirty\", city=35)\n",
    "except ValueError as e:\n",
    "    print(f\"Error: {e}\")"
   ]
  },
  {
   "cell_type": "markdown",
   "id": "32c4ab52",
   "metadata": {},
   "source": [
    "#### 2. Model with Optional Fields\n",
    "Add optional fields using Python's Optional type:"
   ]
  },
  {
   "cell_type": "code",
   "execution_count": 4,
   "id": "c0cddade",
   "metadata": {},
   "outputs": [
    {
     "name": "stdout",
     "output_type": "stream",
     "text": [
      "id=1 name='John Doe' depratment='HR' salary=None is_active=True\n",
      "id=2 name='Jane Doe' depratment='IT' salary=50000.0 is_active=True\n"
     ]
    }
   ],
   "source": [
    "from typing import Optional\n",
    "class Employee(BaseModel):\n",
    "    id: int\n",
    "    name: str\n",
    "    depratment: str\n",
    "    salary: Optional[float] = None #optional field with default value\n",
    "    is_active: Optional[bool] = True #optional field with default value\n",
    "    \n",
    "employee = Employee(id=1, name=\"John Doe\", depratment=\"HR\")\n",
    "print(employee)\n",
    "employee1 = Employee(id=2, name=\"Jane Doe\", depratment=\"IT\", salary=50000.0)\n",
    "print(employee1)\n"
   ]
  },
  {
   "cell_type": "markdown",
   "id": "08ebd517",
   "metadata": {},
   "source": [
    "Definition:\n",
    "- Optional[type]: Indicates the field can be None\n",
    "\n",
    "- Default value (= None or = True): Makes the field optional\n",
    "\n",
    "- Required fields must still be provided\n",
    "\n",
    "- Pydantic validates types even for optional fields when values are provided"
   ]
  },
  {
   "cell_type": "code",
   "execution_count": 5,
   "id": "5e5eed53",
   "metadata": {},
   "outputs": [
    {
     "name": "stdout",
     "output_type": "stream",
     "text": [
      "room_no='A101' students=['Ash', 'Shanu', 'Krish'] capacity=40\n"
     ]
    }
   ],
   "source": [
    "from typing import List\n",
    "\n",
    "class Classroom(BaseModel):\n",
    "    room_no: str\n",
    "    students: List[str]\n",
    "    capacity: int\n",
    "    \n",
    "classroom = Classroom(room_no=\"A101\", students=(\"Ash\",\"Shanu\",\"Krish\"), capacity=40)\n",
    "print(classroom)"
   ]
  },
  {
   "cell_type": "markdown",
   "id": "0b658572",
   "metadata": {},
   "source": [
    "#### 4. Model with Nested Models\n",
    "Create complex structures with nested models:"
   ]
  },
  {
   "cell_type": "code",
   "execution_count": 6,
   "id": "ffb48f89",
   "metadata": {},
   "outputs": [
    {
     "name": "stdout",
     "output_type": "stream",
     "text": [
      "customer_id=1 name='Ash' address=Address(street='123 main st', city='Kelowna', zip_code='V1Y 1A1')\n"
     ]
    }
   ],
   "source": [
    "class Address(BaseModel):\n",
    "    street: str\n",
    "    city: str\n",
    "    zip_code : str\n",
    "    \n",
    "class Customer(BaseModel):\n",
    "    customer_id: int\n",
    "    name: str\n",
    "    address: Address ## nested model\n",
    "    \n",
    "address1 = Address(street=\"123 main st\", city=\"Kelowna\", zip_code = \"V1Y 1A1\")\n",
    "customer = Customer(customer_id = 1, name= \"Ash\", address=address1)\n",
    "print(customer)"
   ]
  },
  {
   "cell_type": "markdown",
   "id": "2c83a95a",
   "metadata": {},
   "source": [
    "#### Pydantic Fields: Customization and Constraints\n",
    "\n",
    "The Field function in Pydantic enhances model fields beyond basic type hints by allowing you to specify validation rules, default values, aliases, and more. Here's a comprehensive tutorial with examples.\n",
    "\n",
    "Now let's take some examples:\n",
    "\n",
    "Assume we have an output from LLM where we are getting name, age and email. We need to validate the data structure. Without pydantic we have to write if else conditions to check for multiple validations as below."
   ]
  },
  {
   "cell_type": "code",
   "execution_count": 5,
   "id": "a4edef26",
   "metadata": {},
   "outputs": [],
   "source": [
    "## We will check for name, age and email in the JSON output\n",
    "import json\n",
    "import re\n",
    "\n",
    "def process_json_output_manual(json_output_string):\n",
    "    try:\n",
    "        data = json.loads(json_output_string)\n",
    "        if not isinstance(data.get('name'),str):\n",
    "            raise ValueError(\"Name is missing or not a string\")\n",
    "        if not isinstance(data.get('age'),int):\n",
    "            ## In case instead of 30 it returns \"30\". Then we need to manually convert it.\n",
    "            data['age'] = int(data['age'])\n",
    "            ## In case LLM age which is out of range\n",
    "        if not (18 <= data['age'] <= 99):\n",
    "            raise ValueError(\"Age must be between 18 and 99\")\n",
    "        if not isinstance(data.get('email'),str):\n",
    "            raise ValueError(\"Email is missing or not a string\")\n",
    "        if not re.match(r\"[^@]+@[^@]+\\.[^@]+\", data.get('email')):\n",
    "            raise ValueError(\"Email is not valid\")\n",
    "            \n",
    "\n",
    "        ## Manual Validations\n",
    "        #if not isinstance(data.)\n",
    "    except (json.JSONDecodeError,ValueError,KeyError,TypeError) as e:\n",
    "        print(f'Error:{e}')\n",
    "    return None\n",
    "        "
   ]
  },
  {
   "cell_type": "code",
   "execution_count": 11,
   "id": "264a95ad",
   "metadata": {},
   "outputs": [
    {
     "name": "stdout",
     "output_type": "stream",
     "text": [
      "Error:Email is not valid\n"
     ]
    }
   ],
   "source": [
    "process_json_output_manual('''{\n",
    "    \"name\":\"Ash\",\n",
    "    \"age\":30,\n",
    "    \"email\":\"ashumail.com\"}\n",
    "''')\n",
    "\n",
    "# This approach is brittle and error-prone for LLM outputs"
   ]
  },
  {
   "cell_type": "code",
   "execution_count": 9,
   "id": "698ef695",
   "metadata": {},
   "outputs": [],
   "source": [
    "from pydantic import BaseModel, Field\n",
    "from typing import Optional, Literal\n",
    "\n",
    "## Define the structured data we expect from the LLM or as tool input\n",
    "class UserProfile(BaseModel):\n",
    "    name:str = Field(..., description=\"The name of the user\")\n",
    "    age: int = Field(...,ge=18, le=99, description=\"The age of the user must be between 18 and 99\")\n",
    "    email: str = Field(...,pattern=r\"^[a-zA-Z0-9._%+-]+@[a-zA-Z0-9.-]+\\.[a-zA-Z]{2,}$\", description=\"The user's email address.\")\n",
    "    status: Literal[\"active\",\"inactive\"] = Field(\"active\", description=\"The status of the user, either 'active' or 'inactive'.\")\n",
    "    notes: Optional[str] = Field(None, description=\"Any additional notes about the user.\")\n",
    "    \n",
    "\n",
    "    "
   ]
  },
  {
   "cell_type": "code",
   "execution_count": null,
   "id": "932df5e5",
   "metadata": {},
   "outputs": [
    {
     "name": "stdout",
     "output_type": "stream",
     "text": [
      "Successfully parsed data (LLM output or Tool Input):\n",
      "name='Ash' age=30 email='ashu@gmail.com' status='active' notes=None\n"
     ]
    }
   ],
   "source": [
    "## Scenatrio 1: LLM generates a valid JSON output/ Valid Tool Input\n",
    "valid_json_output = {\n",
    "    \"name\":\"Ash\",\n",
    "    \"age\":30,\n",
    "    \"email\":\"ashu@gmail.com\",\n",
    "    \"status\":\"active\"\n",
    "}\n",
    "\n",
    "\n",
    "try:\n",
    "    ## adding ** to unpack the dictionary into keyword arguments\n",
    "    user_profile = UserProfile(**valid_json_output)\n",
    "    print(f\"Successfully parsed data (LLM output or Tool Input):\")\n",
    "    print(user_profile)\n",
    "except Exception as e:\n",
    "    print(f\"Error: {e}\")"
   ]
  },
  {
   "cell_type": "code",
   "execution_count": 19,
   "id": "abd4511a",
   "metadata": {},
   "outputs": [
    {
     "name": "stdout",
     "output_type": "stream",
     "text": [
      "\n",
      " Error parsing data : 2 validation errors for UserProfile\n",
      "age\n",
      "  Input should be greater than or equal to 18 [type=greater_than_equal, input_value=17, input_type=int]\n",
      "    For further information visit https://errors.pydantic.dev/2.11/v/greater_than_equal\n",
      "email\n",
      "  String should match pattern '^[a-zA-Z0-9._%+-]+@[a-zA-Z0-9.-]+\\.[a-zA-Z]{2,}$' [type=string_pattern_mismatch, input_value='ashumail.com', input_type=str]\n",
      "    For further information visit https://errors.pydantic.dev/2.11/v/string_pattern_mismatch\n"
     ]
    }
   ],
   "source": [
    "## Scenario2: LLM generates an invalid JSON output/ Invalid Tool Input\n",
    "invalid_json_output = {\n",
    "    \"name\":\"Ash\",\n",
    "    \"age\":17,  # Invalid age\n",
    "    \"email\":\"ashumail.com\",  # Invalid email format\n",
    "    \"status\":\"active\"\n",
    "}\n",
    "\n",
    "try:\n",
    "    user_profile_invalid = UserProfile(**invalid_json_output)\n",
    "except Exception as e:\n",
    "    print(f'\\n Error parsing data : {e}')"
   ]
  },
  {
   "cell_type": "code",
   "execution_count": 20,
   "id": "7df6ccdf",
   "metadata": {},
   "outputs": [
    {
     "name": "stdout",
     "output_type": "stream",
     "text": [
      "\n",
      " Error parsing data : 1 validation error for UserProfile\n",
      "age\n",
      "  Field required [type=missing, input_value={'name': 'Ash', 'email': ...om', 'status': 'active'}, input_type=dict]\n",
      "    For further information visit https://errors.pydantic.dev/2.11/v/missing\n"
     ]
    }
   ],
   "source": [
    "## Scenario 3: LLM generates a missing required field JSON output/ Invalid Tool Input\n",
    "malformed_json_output = {\n",
    "    \"name\":\"Ash\",\n",
    "    \"email\":\"ashu@gmail.com\",  # Invalid email format\n",
    "    \"status\":\"active\"\n",
    "}\n",
    "\n",
    "try:\n",
    "    user_profile_missingdata = UserProfile(**malformed_json_output)\n",
    "except Exception as e:\n",
    "    print(f'\\n Error parsing data : {e}')"
   ]
  }
 ],
 "metadata": {
  "kernelspec": {
   "display_name": "Python 3",
   "language": "python",
   "name": "python3"
  },
  "language_info": {
   "codemirror_mode": {
    "name": "ipython",
    "version": 3
   },
   "file_extension": ".py",
   "mimetype": "text/x-python",
   "name": "python",
   "nbconvert_exporter": "python",
   "pygments_lexer": "ipython3",
   "version": "3.12.0"
  }
 },
 "nbformat": 4,
 "nbformat_minor": 5
}
