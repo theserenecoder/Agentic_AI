{
 "cells": [
  {
   "cell_type": "markdown",
   "id": "8c936682",
   "metadata": {},
   "source": [
    "### Agentic RAG\n",
    "\n",
    "We will be building an Agentic RAG. Retrieval Agent comes in handy when we want LLM to decide when to retrieve context from vector store or respond directly to user query.\n",
    "\n",
    "<img src=\"./images/Agentic_RAG.png\" alt=\"Agentic RAG\" width=\"1000\"/>\n",
    "\n",
    "Let's discuss the Agentic RAG architecture:\n",
    "\n",
    "1. **LLM Supervisor** : Decides when to retrieve from vectore store and when to repond directly.\n",
    "\n",
    "2. **Vectore Retriver** : Retriever tool which will provide us the context based on user query.\n",
    "\n",
    "3. **Grader** : Decides based if retrieved context is relevant to user query, if not, redirect to rewrite query else output generator.\n",
    "\n",
    "4. **Output Generator** : Generates the final output based on the retrieved context.\n",
    "\n",
    "5. **Rewriter** : Rewrites query and redirect it to LLM Supervisor to run the loop again until relevant context is retrieved.\n"
   ]
  },
  {
   "cell_type": "code",
   "execution_count": 144,
   "id": "b98de841",
   "metadata": {},
   "outputs": [],
   "source": [
    "## Setup\n",
    "import os\n",
    "from dotenv import load_dotenv\n",
    "load_dotenv()\n",
    "from langchain_community.document_loaders import WebBaseLoader\n",
    "from langchain_groq import ChatGroq"
   ]
  },
  {
   "cell_type": "code",
   "execution_count": 4,
   "id": "2a04db04",
   "metadata": {},
   "outputs": [],
   "source": [
    "## Load LLM model\n",
    "model = 'qwen/qwen3-32b'\n",
    "llm = ChatGroq(model=model)"
   ]
  },
  {
   "cell_type": "markdown",
   "id": "21a1e4f0",
   "metadata": {},
   "source": [
    "Reading all the urls from a text file."
   ]
  },
  {
   "cell_type": "code",
   "execution_count": 145,
   "id": "109c6471",
   "metadata": {},
   "outputs": [],
   "source": [
    "with open('url.txt','r') as file:\n",
    "    urls = file.read().splitlines()\n"
   ]
  },
  {
   "cell_type": "code",
   "execution_count": 36,
   "id": "abae9172",
   "metadata": {},
   "outputs": [],
   "source": [
    "from bs4 import SoupStrainer"
   ]
  },
  {
   "cell_type": "markdown",
   "id": "fbd7ade7",
   "metadata": {},
   "source": [
    "Loading all the documents in a list of documents."
   ]
  },
  {
   "cell_type": "code",
   "execution_count": null,
   "id": "bac63019",
   "metadata": {},
   "outputs": [],
   "source": [
    "docs = [WebBaseLoader(web_path=url,bs_kwargs={'parse_only': SoupStrainer('main', class_='wp-block-group is-layout-flow wp-block-group-is-layout-flow')}).load() for url in urls]\n"
   ]
  },
  {
   "cell_type": "markdown",
   "id": "6c88d234",
   "metadata": {},
   "source": [
    "As web scraped data can have multiple line brakes and spaces we need to clean the content of each document extracted."
   ]
  },
  {
   "cell_type": "code",
   "execution_count": 68,
   "id": "f454794d",
   "metadata": {},
   "outputs": [],
   "source": [
    "## cleaning data\n",
    "import re\n",
    "cleaned_docs = []\n",
    "for i,doc in enumerate(docs):\n",
    "    original_content = doc[0].page_content\n",
    "    \n",
    "    category_block_pattern = re.compile(\n",
    "        r'(?:'               # Start a non-capturing group for repeated lines\n",
    "        r'(?: {2,}|\\t+)'     # Match 2 or more spaces OR one or more tabs (for indentation)\n",
    "        r'[A-Za-z& ]+'       # Match the category text (letters, ampersands, spaces)\n",
    "        r'\\s*'               # Match any trailing whitespace on the line\n",
    "        r'\\n'                # Match the newline at the end of the category line\n",
    "        r')+'                # Match one or more such category lines\n",
    "        , re.IGNORECASE      # Make \"All Categories\" case-insensitive\n",
    "    )\n",
    "    # Use sub to replace the entire matched block with an empty string\n",
    "    temp_content = re.sub(category_block_pattern, '', original_content, count=1)\n",
    "    \n",
    "    #temp_content = re.sub(r'\\n+','\\n',temp_content)\n",
    "    \n",
    "    # Step 2: Normalize Line Breaks (reduce 3+ newlines to two)\n",
    "    # This preserves single and double newlines for paragraph breaks\n",
    "    temp_content = re.sub(r'\\n{3,}', '\\n', temp_content)\n",
    "    \n",
    "    # Step 3: Normalize Spaces (reduce 2+ spaces/tabs to a single space)\n",
    "    # This also handles other horizontal whitespace characters like tabs\n",
    "    temp_content = re.sub(r'[ \\t]{2,}', ' ', temp_content)\n",
    "    \n",
    "    # Step 4: Final strip of leading/trailing whitespace\n",
    "    cleaned_content = temp_content.strip()\n",
    "    \n",
    "    doc[0].page_content = cleaned_content\n",
    "    cleaned_docs.append(doc)"
   ]
  },
  {
   "cell_type": "code",
   "execution_count": 146,
   "id": "9be3334a",
   "metadata": {},
   "outputs": [
    {
     "name": "stdout",
     "output_type": "stream",
     "text": [
      "About us\n",
      "Be certain.\n",
      "We’re in the business of giving you certainty. At Acera Insurance, all that we do revolves around giving our clients the best service experience and the utmost confidence in what \n"
     ]
    }
   ],
   "source": [
    "print(cleaned_docs[1][0].page_content[0:200])"
   ]
  },
  {
   "cell_type": "markdown",
   "id": "368967c5",
   "metadata": {},
   "source": [
    "#### We have got cleaned data, now we will split the data into smaller chunks"
   ]
  },
  {
   "cell_type": "code",
   "execution_count": 76,
   "id": "fc547090",
   "metadata": {},
   "outputs": [],
   "source": [
    "from langchain_text_splitters import RecursiveCharacterTextSplitter\n",
    "\n",
    "doc_list = [item for sublist in cleaned_docs for item in sublist]\n",
    "\n",
    "text_splitter = RecursiveCharacterTextSplitter.from_tiktoken_encoder(chunk_size = 500, chunk_overlap = 50)\n",
    "\n",
    "doc_splits = text_splitter.split_documents(doc_list)"
   ]
  },
  {
   "cell_type": "code",
   "execution_count": 147,
   "id": "76f6ac34",
   "metadata": {},
   "outputs": [
    {
     "name": "stdout",
     "output_type": "stream",
     "text": [
      "Speak to your broker for more details on trip cancellation insurance. This coverage can be very valuable – especially when cancellations are so common due to the pandemic. However, not all scenarios a\n"
     ]
    }
   ],
   "source": [
    "print(doc_splits[10].page_content[0:200])"
   ]
  },
  {
   "cell_type": "markdown",
   "id": "a8a5e423",
   "metadata": {},
   "source": [
    "#### We have split our documents, now we will store it in vectore store and will create a retriever. We will be usign Chroma VS."
   ]
  },
  {
   "cell_type": "code",
   "execution_count": 84,
   "id": "849a1b70",
   "metadata": {},
   "outputs": [],
   "source": [
    "from langchain_openai import OpenAIEmbeddings\n",
    "openai_embedding = OpenAIEmbeddings(model = 'text-embedding-3-large')"
   ]
  },
  {
   "cell_type": "code",
   "execution_count": 85,
   "id": "75634714",
   "metadata": {},
   "outputs": [],
   "source": [
    "from langchain_community.vectorstores import Chroma\n",
    "\n",
    "vectore_store = Chroma.from_documents(\n",
    "    documents=doc_splits,\n",
    "    collection_name='acera_rag',\n",
    "    embedding=openai_embedding\n",
    ")\n",
    "\n",
    "retriever = vectore_store.as_retriever()"
   ]
  },
  {
   "cell_type": "code",
   "execution_count": 120,
   "id": "12a4d1a6",
   "metadata": {},
   "outputs": [
    {
     "data": {
      "text/plain": [
       "[Document(metadata={'source': 'https://acera.ca/careers/'}, page_content='Careers at Acera Insurance\\nChanging the way people feel about a career in insurance.\\nChoose a career that empowers you to excel in and take ownership of your work, while having fun. Choose a career with Acera Insurance — we put people first!\\n\\nSee Current Opportunities\\nBe a part of our growing team.\\nAs an employer of choice, Acera Insurance offers an outstanding workplace and employee culture that creates valuable opportunities for all of our employees.\\nChoosing a career with Acera Insurance means you’ll be:\\n\\nEncouraged to challenge the status quo and never stop learning in your commitment to excellence.\\nEmpowered with a sense of accountability and autonomy to take ownership of your work.\\nTreated with respect as we put our people first.\\nRecognized for your achievements and engaged in festivities — big and small — that make work fun.'),\n",
       " Document(metadata={'source': 'https://acera.ca/careers/'}, page_content='If this sounds good to you, come join our network of more than 1,300 professionals.\\nAbout Acera Insurance\\nAs the largest independent, employee-controlled brokerage in Canada, we provide our employees with a unique opportunity to change the way people feel about insurance. That’s because we are:\\nIndependent\\nWithout financial ties to any carriers, we provide impartial advice and work in the best interest of our clients.\\nEmployee-controlled\\nWe’re the only Canadian brokerage to be widely owned by its employees (more than half of our employees are owners).\\nCanadian owned\\nOur distinct Canadian perspective enables us to better understand our clients’ unique needs.\\nEmployer of choice\\nOur award-winning culture creates valuable opportunities for our employees.\\nExperienced\\nAs a full-service brokerage — with specialized expertise in all sectors across Canada, as well as group benefits capabilities — we have served the needs of Canadians for more than 60 years.\\nBy the numbers\\n1,300+\\nEmployees\\n680+\\nEmployee owners\\n70+\\nLocal branches\\n100%\\nCanadian owned\\n30\\nWorkplace culture awards\\nWorking with us.\\nAcera Insurance is committed to offering an outstanding workplace and employee culture that creates valuable opportunities for new and long-term employees.\\nOur values\\nAcera Insurance provides an engaging and supportive culture that is committed to our people’s professional success and personal wellbeing. Our four core values are reflected in everything we do:\\nEmployee ownership\\nAcera Insurance is the only Canadian brokerage to be widely owned by its people.\\nWe proudly offer most employees the opportunity to become owners as we believe our people deserve to share in our success — which they make possible.\\nOur employee owners benefit from:'),\n",
       " Document(metadata={'source': 'https://acera.ca/careers/'}, page_content='Personal Insurance Discounts\\nWe provide our employees coverage at cost when they purchase their personal insurance (i.e., home, private auto) through Acera Insurance.\\nUltimate Experience\\nWe support our employees in making life-long memories. Each year, we randomly award six employees with an Ultimate Experience of their choice — four prizes valued at $5,000 and two prizes valued at $10,000.\\nVacation Policy\\nWe consider both tenure with Acera Insurance and industry experience when calculating employees’ annual vacation time.\\n \\nExplore our career opportunities.\\nAcera Insurance offers a variety of career opportunities in both personal and commercial insurance, as well as in group benefits, including:\\nClaims Advisors\\nClient Advisors\\nClient Executives\\nBrokers\\nBusiness Development & Client Relations Specialists\\nEmployee Benefits Consultants\\nGroup Benefits Savings & Wellness Advisors\\nLearning & Development Specialists\\nLoss Control Specialists\\nUnderwriters\\nWe also hire for a variety of positions in each of our corporate services departments:\\nAdministration\\nFinance & Accounting\\nMarketing & Communications\\nInformation Technology\\nPeople & Culture\\nSee Current Opportunities'),\n",
       " Document(metadata={'source': 'https://acera.ca/leadership/'}, page_content='Read Bio\\nFayeanne Beattie\\nChief Financial Officer\\nFayeanne Beattie brings over 25 years of experience within the insurance industry, working for both private and public companies. During that time, she has held various finance positions with insurance carriers and brokerages, including serving as the CFO for the Americas region of Gallagher.\\nFayeanne leads the financial reporting, budgeting and forecasting for Acera Insurance, as well as mergers and acquisitions and capital investment opportunities. As a chartered professional accountant, she focuses her financial acumen on growing our business through strategic financial investments in key partnerships and resources.\\u200b\\nHugh Watt\\nChief Operating Officer\\n\\nRead Bio\\nHugh Watt\\nChief Operating Officer\\nWith 20 years of senior leadership experience in the finance and insurance sectors, Hugh has a proven track record in driving organizational growth through strategic planning, mergers and acquisitions, and business process enhancements. He oversees and guides Acera Insurance’s operational excellence through unified national standards, collaborative partner integration and streamlined regional execution.\\nHugh believes the foundations of success are building teams of humble, hungry and smart individuals; fostering a culture of integrity and collaboration; and clear communication. He is committed to inspiring others in seeing challenges as opportunities for growth and progress.\\nTony Fairfield\\nExecutive Vice President, Acera Benefits')]"
      ]
     },
     "execution_count": 120,
     "metadata": {},
     "output_type": "execute_result"
    }
   ],
   "source": [
    "retriever.invoke('How many employees are in Acera')"
   ]
  },
  {
   "cell_type": "markdown",
   "id": "f42eb8fb",
   "metadata": {},
   "source": [
    "#### Now we will create a retriever tool"
   ]
  },
  {
   "cell_type": "code",
   "execution_count": 121,
   "id": "f572267a",
   "metadata": {},
   "outputs": [],
   "source": [
    "from langchain.tools.retriever import create_retriever_tool\n",
    "retriever_tool = create_retriever_tool(\n",
    "    retriever=retriever,\n",
    "    name='acera_retriever',\n",
    "    description='''\n",
    "    Search and return information about Acera Insurance. Insurance coverages and services provided by Acera Insurance. You are a specialied agent.\n",
    "    Use the 'retriever_tool' **only** when the query explicitly relates to Acera Insurance and Insurance Coverage. For all other queries, respond directly without using any tool. \n",
    "    For simple queries like 'hi', 'hello', or 'how are you', provide a normal response.\",\n",
    "    '''\n",
    ")"
   ]
  },
  {
   "cell_type": "code",
   "execution_count": 122,
   "id": "e88e7705",
   "metadata": {},
   "outputs": [
    {
     "data": {
      "text/plain": [
       "'Careers at Acera Insurance\\nChanging the way people feel about a career in insurance.\\nChoose a career that empowers you to excel in and take ownership of your work, while having fun. Choose a career with Acera Insurance — we put people first!\\n\\nSee Current Opportunities\\nBe a part of our growing team.\\nAs an employer of choice, Acera Insurance offers an outstanding workplace and employee culture that creates valuable opportunities for all of our employees.\\nChoosing a career with Acera Insurance means you’ll be:\\n\\nEncouraged to challenge the status quo and never stop learning in your commitment to excellence.\\nEmpowered with a sense of accountability and autonomy to take ownership of your work.\\nTreated with respect as we put our people first.\\nRecognized for your achievements and engaged in festivities — big and small — that make work fun.\\n\\nIf this sounds good to you, come join our network of more than 1,300 professionals.\\nAbout Acera Insurance\\nAs the largest independent, employee-controlled brokerage in Canada, we provide our employees with a unique opportunity to change the way people feel about insurance. That’s because we are:\\nIndependent\\nWithout financial ties to any carriers, we provide impartial advice and work in the best interest of our clients.\\nEmployee-controlled\\nWe’re the only Canadian brokerage to be widely owned by its employees (more than half of our employees are owners).\\nCanadian owned\\nOur distinct Canadian perspective enables us to better understand our clients’ unique needs.\\nEmployer of choice\\nOur award-winning culture creates valuable opportunities for our employees.\\nExperienced\\nAs a full-service brokerage — with specialized expertise in all sectors across Canada, as well as group benefits capabilities — we have served the needs of Canadians for more than 60 years.\\nBy the numbers\\n1,300+\\nEmployees\\n680+\\nEmployee owners\\n70+\\nLocal branches\\n100%\\nCanadian owned\\n30\\nWorkplace culture awards\\nWorking with us.\\nAcera Insurance is committed to offering an outstanding workplace and employee culture that creates valuable opportunities for new and long-term employees.\\nOur values\\nAcera Insurance provides an engaging and supportive culture that is committed to our people’s professional success and personal wellbeing. Our four core values are reflected in everything we do:\\nEmployee ownership\\nAcera Insurance is the only Canadian brokerage to be widely owned by its people.\\nWe proudly offer most employees the opportunity to become owners as we believe our people deserve to share in our success — which they make possible.\\nOur employee owners benefit from:\\n\\nPersonal Insurance Discounts\\nWe provide our employees coverage at cost when they purchase their personal insurance (i.e., home, private auto) through Acera Insurance.\\nUltimate Experience\\nWe support our employees in making life-long memories. Each year, we randomly award six employees with an Ultimate Experience of their choice — four prizes valued at $5,000 and two prizes valued at $10,000.\\nVacation Policy\\nWe consider both tenure with Acera Insurance and industry experience when calculating employees’ annual vacation time.\\n \\nExplore our career opportunities.\\nAcera Insurance offers a variety of career opportunities in both personal and commercial insurance, as well as in group benefits, including:\\nClaims Advisors\\nClient Advisors\\nClient Executives\\nBrokers\\nBusiness Development & Client Relations Specialists\\nEmployee Benefits Consultants\\nGroup Benefits Savings & Wellness Advisors\\nLearning & Development Specialists\\nLoss Control Specialists\\nUnderwriters\\nWe also hire for a variety of positions in each of our corporate services departments:\\nAdministration\\nFinance & Accounting\\nMarketing & Communications\\nInformation Technology\\nPeople & Culture\\nSee Current Opportunities\\n\\nRead Bio\\nFayeanne Beattie\\nChief Financial Officer\\nFayeanne Beattie brings over 25 years of experience within the insurance industry, working for both private and public companies. During that time, she has held various finance positions with insurance carriers and brokerages, including serving as the CFO for the Americas region of Gallagher.\\nFayeanne leads the financial reporting, budgeting and forecasting for Acera Insurance, as well as mergers and acquisitions and capital investment opportunities. As a chartered professional accountant, she focuses her financial acumen on growing our business through strategic financial investments in key partnerships and resources.\\u200b\\nHugh Watt\\nChief Operating Officer\\n\\nRead Bio\\nHugh Watt\\nChief Operating Officer\\nWith 20 years of senior leadership experience in the finance and insurance sectors, Hugh has a proven track record in driving organizational growth through strategic planning, mergers and acquisitions, and business process enhancements. He oversees and guides Acera Insurance’s operational excellence through unified national standards, collaborative partner integration and streamlined regional execution.\\nHugh believes the foundations of success are building teams of humble, hungry and smart individuals; fostering a culture of integrity and collaboration; and clear communication. He is committed to inspiring others in seeing challenges as opportunities for growth and progress.\\nTony Fairfield\\nExecutive Vice President, Acera Benefits'"
      ]
     },
     "execution_count": 122,
     "metadata": {},
     "output_type": "execute_result"
    }
   ],
   "source": [
    "retriever_tool.invoke('How many employees are in Acera')"
   ]
  },
  {
   "cell_type": "code",
   "execution_count": 89,
   "id": "4dbad78d",
   "metadata": {},
   "outputs": [],
   "source": [
    "from langgraph.prebuilt import ToolNode, tools_condition\n",
    "\n",
    "retriever_node = ToolNode([retriever_tool])"
   ]
  },
  {
   "cell_type": "markdown",
   "id": "2e9a2fbf",
   "metadata": {},
   "source": [
    "#### Bind LLM with Tool and will create LLM Decision function"
   ]
  },
  {
   "cell_type": "code",
   "execution_count": 90,
   "id": "c29d5251",
   "metadata": {},
   "outputs": [],
   "source": [
    "llm_with_tool = llm.bind_tools([retriever_tool])"
   ]
  },
  {
   "cell_type": "code",
   "execution_count": 92,
   "id": "9aa2f876",
   "metadata": {},
   "outputs": [],
   "source": [
    "from typing import Annotated, Sequence, TypedDict, List\n",
    "from langgraph.graph.message import add_messages\n",
    "from langchain_core.messages import HumanMessage, SystemMessage\n",
    "\n",
    "class State(TypedDict):\n",
    "    messages : Annotated[List[Sequence], add_messages]"
   ]
  },
  {
   "cell_type": "code",
   "execution_count": 97,
   "id": "bbaa85d7",
   "metadata": {},
   "outputs": [],
   "source": [
    "def LLM_Decision_Function(state: State):\n",
    "    print('<-- LLM Decision -->')\n",
    "    \n",
    "    message = state['messages']\n",
    "    last_message = message[-1]\n",
    "    print(last_message)\n",
    "    question = last_message.content\n",
    "    \n",
    "    response = llm_with_tool.invoke(question)\n",
    "    \n",
    "    return {'messages': [response]}"
   ]
  },
  {
   "cell_type": "code",
   "execution_count": 123,
   "id": "ddaf084f",
   "metadata": {},
   "outputs": [
    {
     "name": "stdout",
     "output_type": "stream",
     "text": [
      "<-- LLM Decision -->\n",
      "content='How many employees are there in Acera' additional_kwargs={} response_metadata={}\n"
     ]
    },
    {
     "data": {
      "text/plain": [
       "{'messages': [AIMessage(content='', additional_kwargs={'tool_calls': [{'id': '6r572jjmj', 'function': {'arguments': '{\"query\":\"number of employees\"}', 'name': 'acera_retriever'}, 'type': 'function'}]}, response_metadata={'token_usage': {'completion_tokens': 122, 'prompt_tokens': 158, 'total_tokens': 280, 'completion_time': 0.211150902, 'prompt_time': 0.005922592, 'queue_time': 0.059838442, 'total_time': 0.217073494}, 'model_name': 'qwen/qwen3-32b', 'system_fingerprint': 'fp_7a0b0d2d9a', 'finish_reason': 'tool_calls', 'logprobs': None}, id='run--9233114a-af96-4065-9282-93e3fed490b3-0', tool_calls=[{'name': 'acera_retriever', 'args': {'query': 'number of employees'}, 'id': '6r572jjmj', 'type': 'tool_call'}], usage_metadata={'input_tokens': 158, 'output_tokens': 122, 'total_tokens': 280})]}"
      ]
     },
     "execution_count": 123,
     "metadata": {},
     "output_type": "execute_result"
    }
   ],
   "source": [
    "message = [HumanMessage(content='How many employees are there in Acera')]\n",
    "LLM_Decision_Function({'messages':message})"
   ]
  },
  {
   "cell_type": "markdown",
   "id": "bd84315a",
   "metadata": {},
   "source": [
    "#### We will now create a grader function which will decide if the retrieved chunk answers the user query correctly and will redirect to next step accordingly"
   ]
  },
  {
   "cell_type": "code",
   "execution_count": 100,
   "id": "a0087276",
   "metadata": {},
   "outputs": [],
   "source": [
    "from pydantic import BaseModel, Field\n",
    "from typing import Literal\n",
    "from langchain_core.prompts import PromptTemplate\n",
    "\n",
    "class Grader(BaseModel):\n",
    "    binary_result : str = Field(description=\"Relevance score 'yes' or 'no'\")"
   ]
  },
  {
   "cell_type": "code",
   "execution_count": 109,
   "id": "09013448",
   "metadata": {},
   "outputs": [],
   "source": [
    "from urllib import response\n",
    "\n",
    "\n",
    "def grade_documents(state: State) -> Literal['generate_answer','rewrite_question']:\n",
    "    print('<-- Grade Document -->')\n",
    "    \n",
    "    llm_with_structured_output = llm.with_structured_output(Grader)\n",
    "    \n",
    "    prompt = PromptTemplate(\n",
    "        template='''You are a grader assessing relevance of a retrieved document to a user question.\n",
    "            Here is the retrieved document: \\n\\n {context}\n",
    "            Here is the user question: {question}\n",
    "            If the document contains keyword(s) or semantic meaning related to the user question, grade it as relevant.\n",
    "            Give a binary score 'yes' or 'no' score to indicate whether the document is relevant to the question.\n",
    "        ''',\n",
    "        input_variables=['context','question']\n",
    "    )\n",
    "    \n",
    "    chain = prompt | llm_with_structured_output\n",
    "    \n",
    "    message = state['messages']\n",
    "    question = message[0].content\n",
    "    context = message[-1].content\n",
    "    \n",
    "    response = chain.invoke({'question':question,'context':context})\n",
    "    \n",
    "    score = response.binary_result\n",
    "    \n",
    "    if score =='yes':\n",
    "        print(print(\"---Decision: Docs Are Relevant-------\"))\n",
    "        return 'generate_answer'\n",
    "    else:\n",
    "        print('---Decision: Docs Are Not Relevant------------')\n",
    "        return 'rewrite_question'\n"
   ]
  },
  {
   "cell_type": "code",
   "execution_count": 110,
   "id": "c5fed0a0",
   "metadata": {},
   "outputs": [
    {
     "name": "stdout",
     "output_type": "stream",
     "text": [
      "<-- Grade Document -->\n",
      "---Decision: Docs Are Relevant-------\n",
      "None\n"
     ]
    },
    {
     "data": {
      "text/plain": [
       "'generate_answer'"
      ]
     },
     "execution_count": 110,
     "metadata": {},
     "output_type": "execute_result"
    }
   ],
   "source": [
    "from langchain_core.messages import convert_to_messages\n",
    "\n",
    "input = {\n",
    "    \"messages\": convert_to_messages(\n",
    "        [\n",
    "            {\n",
    "                \"role\": \"user\",\n",
    "                \"content\": \"How many employees are there in Acera?\",\n",
    "            },\n",
    "            {\n",
    "                \"role\": \"assistant\",\n",
    "                \"content\": \"\",\n",
    "                \"tool_calls\": [\n",
    "                    {\n",
    "                        'id': 'npgbkf9js', \n",
    "                        'function': {\n",
    "                            'arguments': '{\"query\":\"number of employees\"}', \n",
    "                            'name': 'acera_retriever'\n",
    "                            }, \n",
    "                        'type': 'function'\n",
    "                    }\n",
    "                ]\n",
    "            },\n",
    "\n",
    "            {\"role\": \"tool\", \"content\": \"If this sounds good to you, come join our network of more than 1,300 professionals.\", \"tool_call_id\": \"1\"},\n",
    "        ]\n",
    "    )\n",
    "}\n",
    "grade_documents(input)"
   ]
  },
  {
   "cell_type": "markdown",
   "id": "4f415d46",
   "metadata": {},
   "source": [
    "#### We will write function to rewrite question in case the content provided by retriever is not relevant."
   ]
  },
  {
   "cell_type": "code",
   "execution_count": null,
   "id": "5b47e7aa",
   "metadata": {},
   "outputs": [],
   "source": [
    "def rewrite(state:State):\n",
    "    ('<-- Rewrite User Query -->')\n",
    "    \n",
    "    message = state['messages']\n",
    "    question = message[-1].content\n",
    "    \n",
    "    input = [HumanMessage(content=f\"\"\"Look at the input and try to reason about the underlying semantic intent or meaning. \n",
    "                    Here is the initial question: {question} \n",
    "                    Formulate an improved question: \"\"\")\n",
    "    ]\n",
    "    \n",
    "    response = llm.invoke(input)\n",
    "    \n",
    "    return {'messages':[response]}"
   ]
  },
  {
   "cell_type": "markdown",
   "id": "5876a8bf",
   "metadata": {},
   "source": [
    "#### Now we will build Generate Answer node. If we pass the grader check, we can generate the final answer based on the original question and the retrieved context."
   ]
  },
  {
   "cell_type": "code",
   "execution_count": 138,
   "id": "e9997985",
   "metadata": {},
   "outputs": [],
   "source": [
    "from langchain import hub\n",
    "\n",
    "def generate_answer(state: State):\n",
    "    print('<-- Generate Output -->')\n",
    "    \n",
    "    message = state['messages']\n",
    "    question = message[0].content\n",
    "    context = message[-1].content\n",
    "    \n",
    "    prompt = PromptTemplate(\n",
    "        template= '''\"You are an Insurance assistant working for Acera Insurance for question-answering tasks. \"\n",
    "            \"Use the following pieces of retrieved context to answer the question. \"\n",
    "            \"Also provide information about coverages which Acera Insurance can provide related to user query\"\n",
    "            \"If you don't know the answer, just say that you don't know. \"\n",
    "            \"Use three sentences maximum and keep the answer concise.\\n\"\n",
    "            \"Question: {question} \\n\"\n",
    "            \"Context: {context}\"\n",
    "        '''\n",
    "    )\n",
    "    \n",
    "    rag_llm = prompt | llm\n",
    "    response = rag_llm.invoke({'question':question, 'context':context})\n",
    "    \n",
    "    return {'messages':[response]}"
   ]
  },
  {
   "cell_type": "markdown",
   "id": "7cd01be1",
   "metadata": {},
   "source": [
    "### Now we will create the graph"
   ]
  },
  {
   "cell_type": "code",
   "execution_count": 139,
   "id": "0c5fbe45",
   "metadata": {},
   "outputs": [],
   "source": [
    "from langgraph.graph import StateGraph, START, END\n",
    "\n",
    "builder = StateGraph(State)\n",
    "builder.add_node('LLM Supervisor', LLM_Decision_Function)\n",
    "builder.add_node('Vector Retriever', retriever_node)\n",
    "builder.add_node('Query Rewriter', rewrite)\n",
    "builder.add_node('Output Generator', generate_answer)\n",
    "\n",
    "## Logic\n",
    "builder.add_edge(START,'LLM Supervisor')\n",
    "builder.add_conditional_edges(\n",
    "    'LLM Supervisor',\n",
    "    tools_condition,\n",
    "    {\n",
    "        'tools': 'Vector Retriever',\n",
    "        END:END\n",
    "    }\n",
    ")\n",
    "builder.add_conditional_edges(\n",
    "    'Vector Retriever',\n",
    "    grade_documents,\n",
    "    {\n",
    "        'generate_answer':'Output Generator',\n",
    "        'rewrite_question':'Query Rewriter'\n",
    "    }\n",
    ")\n",
    "builder.add_edge('Query Rewriter','LLM Supervisor')\n",
    "builder.add_edge('Output Generator', END)\n",
    "\n",
    "app = builder.compile()"
   ]
  },
  {
   "cell_type": "code",
   "execution_count": 140,
   "id": "25d20534",
   "metadata": {},
   "outputs": [
    {
     "data": {
      "image/png": "[encoded data removed]",
      "text/plain": [
       "<langgraph.graph.state.CompiledStateGraph object at 0x000002547AAB1250>"
      ]
     },
     "execution_count": 140,
     "metadata": {},
     "output_type": "execute_result"
    }
   ],
   "source": [
    "app"
   ]
  },
  {
   "cell_type": "code",
   "execution_count": 148,
   "id": "e2582e6a",
   "metadata": {},
   "outputs": [
    {
     "name": "stdout",
     "output_type": "stream",
     "text": [
      "<-- LLM Decision -->\n",
      "content='I live in a 2 bedroom apartment, need tenant insurance?' additional_kwargs={} response_metadata={} id='2702367b-1b0f-4d21-939f-69cd6988a7bc'\n",
      "<-- Grade Document -->\n",
      "---Decision: Docs Are Relevant-------\n",
      "None\n",
      "<-- Generate Output -->\n"
     ]
    }
   ],
   "source": [
    "message = [HumanMessage(content='I live in a 2 bedroom apartment, need tenant insurance?')]\n",
    "res = app.invoke({'messages':message})\n"
   ]
  },
  {
   "cell_type": "code",
   "execution_count": 149,
   "id": "d65ae555",
   "metadata": {},
   "outputs": [
    {
     "name": "stdout",
     "output_type": "stream",
     "text": [
      "================================\u001b[1m Human Message \u001b[0m=================================\n",
      "\n",
      "I live in a 2 bedroom apartment, need tenant insurance?\n",
      "==================================\u001b[1m Ai Message \u001b[0m==================================\n",
      "Tool Calls:\n",
      "  acera_retriever (t9mjw1xk5)\n",
      " Call ID: t9mjw1xk5\n",
      "  Args:\n",
      "    query: tenant insurance requirements for 2 bedroom apartments\n",
      "=================================\u001b[1m Tool Message \u001b[0m=================================\n",
      "Name: acera_retriever\n",
      "\n",
      "Type of building (i.e., high-rise condo, house, etc.)\n",
      "Building construction material\n",
      "Distance to the nearest fire hydrant and fire station\n",
      "Location and neighbourhood specifics (i.e., crime rate, proximity to natural hazards like rivers, etc.)\n",
      "Your insurance and claims history\n",
      "The replacement value of your personal belongings\n",
      "\n",
      "The deductible, policy limit and any additional coverages you choose will also make a difference in your tenant insurance premium.\n",
      "\n",
      "Is tenant insurance mandatory in Canada?\n",
      "While you are not legally mandated to carry tenant insurance in Canada, landlords will often require tenant insurance as a condition in their lease agreements. A minimum amount of coverage may also be specified in the lease wording. A copy of your insurance policy may be requested before you moving in.\n",
      "\n",
      "What is not covered by tenant insurance?\n",
      "Tenant insurance is designed to cover your costs for accidental and unexpected incidents. The following is excluded in standard tenant insurance policies:\n",
      "\n",
      "Wear and tear\n",
      "Regular maintenance\n",
      "Rust or corrosion\n",
      "Mould\n",
      "Slow seepage and leaks\n",
      "Damage by rodents, insects, and animals\n",
      "Damage caused by negligence or lack of maintenance\n",
      "Will my tenant insurance cover my roommate(s)?\n",
      "While tenant insurance will usually cover your family members, it does not automatically extend to everyone that lives with you. While it is possible to add roommates onto one policy, it is not advised as a claim filed by your roommate could have an impact on your claims history and premiums in the future. We recommend every roommate to have their own tenant insurance policy.\n",
      "\n",
      "What causes of damage are covered by tenant insurance?\n",
      "Common sources of claims that are covered include:\n",
      "\n",
      "Theft\n",
      "Vandalism\n",
      "Fire\n",
      "Smoke\n",
      "Explosion\n",
      "Wind\n",
      "Hail\n",
      "Impact by vehicle or aircraft\n",
      "Impact by falling object (like a tree)\n",
      "\n",
      "Special endorsements must be added to cover damage caused by earthquake, sewer backup and overland water (flooding). These endorsements may not be offered by all insurers or available to all clients. Get in touch with your Acera Insurance advisor for more information.\n",
      "\n",
      "Helpful tips from our advisors.\n",
      "Keep your space and belongings protected. Our advisors are here to help you find the right coverage for you.\n",
      "“Your landlord’s insurance will not cover your personal property you brought into the home nor would it cover those additional expenses should you be faced with being forced out of your home due to a mass evacuation or loss. Your comprehensive tenant insurance policy is personal to protecting you.”\n",
      " – Carol Moeller, Client Advisor | Kelowna, BC“Tenant insurance protects more than just your personal belongings. Working with experienced brokers is essential to ensure you have the coverage physical damage. Don’t take any chances when it comes to your financial security. Let the experts help you get the protection you need.”\n",
      " – Sheralea Moon Raymond, Client Advisor | Fort McMurray, AB \n",
      "Answering your most common questions.\n",
      "How much does tenant insurance cost?\n",
      "Tenant insurance is usually offered at a monthly or annual fee that is affordable to most Canadians. However, rates do vary based on several factors, including:\n",
      "\n",
      "Tenant Insurance\n",
      "Insure your space to ensure your peace.\n",
      "Whether you rent a house, townhome or condo, as a tenant, you’re vulnerable to many of the same risks as your landlord. The expert advisors at Acera Insurance are here to help make sure you and your personal belongings are properly protected.\n",
      "\n",
      "Get a Quote\n",
      "Your guide to tenant insurance.\n",
      "Your landlord’s insurance protects only the building itself and the contents owned by the landlord. This is where tenant insurance comes in.\n",
      "What your tenant insurance can cover:\n",
      "\n",
      "Loss or damage to your personal belongings such as furniture, appliances, clothing and electronics \n",
      "Your liability in the event someone is injured inside the home and pursues legal action\n",
      "Any expenses you incur for having to relocate temporarily while repairs are being done due to a claim or an evacuation\n",
      "Coverage across Canada.\n",
      "Get your tenant insurance by phone or in person at your nearest branch.\n",
      "\n",
      "Get a Quote\n",
      "Find a Branch\n",
      "Explore your insurance options as a tenant.\n",
      "With decades of experience and expertise, your Acera Insurance advisors provide personalized, professional advice and customizable, competitively priced coverage that’s perfectly fit for your needs.\n",
      "Personal Property\n",
      "Coverage for loss or damage to your personal belongings (e.g. furniture, appliances, clothing, electronics) due to common causes such as theft, fire and vandalism.\n",
      "Personal Liability\n",
      "Covers your legal expenses if you are sued and held responsible for accidentally causing damage to your landlord or neighbour’s property, or someone is injured while visiting your rental unit.\n",
      "Additional Living Expenses\n",
      "Covers the cost of alternate accommodation, such as a hotel or rental unit, while your rental unit is under repair due to a covered loss or an evacuation order.\n",
      "Replacement Cost Coverage\n",
      "Your policy will pay to restore damaged or lost possessions to their original condition or buy replacements of similar kind and quality. Depreciation is not factored into the calculation for the amount paid out.\n",
      "Water Damage Protection\n",
      "Pays for water damage caused to your belongings as a result of sudden and accidental incidents such as burst pipes and appliance leaks.\n",
      "Earthquake Coverage\n",
      "Pays for the costs to replace or restore your damaged personal property in the event of an earthquake – a recommended optional coverage if you live in an earthquake-prone area.\n",
      "Why choose Acera for tenant insurance?\n",
      "We help demystify your options so you know exactly what you’re covered for.\n",
      "Customize Your Coverage\n",
      "We partner with Canada’s leading insurers to bring you comprehensive, customizable coverage with flexible limits, deductibles and optional add-ons.\n",
      "Meeting You Where You Are\n",
      "We are available by email, over the phone and in-person at our offices across Canada to answer your questions, bind coverage and make changes to your policy.\n",
      "We Advocate For You\n",
      "Our in-house claims team will support and guide you every step of the way in the unfortunate event you have to file a claim. We’re here to ensure it’s settled as quickly, efficiently and fairly as possible.\n",
      "Helpful tips from our advisors.\n",
      "Keep your space and belongings protected. Our advisors are here to help you find the right coverage for you.\n",
      "==================================\u001b[1m Ai Message \u001b[0m==================================\n",
      "\n",
      "<think>\n",
      "Okay, let's see. The user lives in a 2-bedroom apartment and is asking if they need tenant insurance. I need to answer based on the provided context.\n",
      "\n",
      "First, the context mentions that tenant insurance isn't mandatory in Canada, but landlords might require it. So I should note that even though it's not a legal requirement, their lease could stipulate it. They might need to check their lease agreement.\n",
      "\n",
      "Next, the coverage details: personal property, liability, additional living expenses. The user's belongings like furniture and electronics would be covered. Also, if someone gets injured, they're protected. If they have to move out temporarily, the policy covers that too. The context also lists exclusions like wear and tear, mold, etc., but the user should be aware of those.\n",
      "\n",
      "Acera offers various coverages. They can mention the standard coverages and suggest optional ones like earthquake or sewer backup if needed. The user should contact Acera for a tailored quote, considering factors like building type and neighborhood risks.\n",
      "\n",
      "Wait, the user is in a 2-bedroom apartment. The building type (high-rise, etc.) affects the premium. Also, the replacement value of their belongings is important. They might not know their exact deductible or policy limits, so advising them to get a quote is good. Also, since they have roommates, the context says each should have their own policy. But the user might not know that, so maybe mention that briefly.\n",
      "\n",
      "Putting it all together: Yes, they need it if the lease requires it. Coverages include personal property, liability, etc. Advise to contact Acera for a quote considering their specific situation and building details.\n",
      "</think>\n",
      "\n",
      "Yes, tenant insurance is recommended for your 2-bedroom apartment, as it protects your personal belongings (furniture, electronics, etc.), covers liability if someone is injured, and provides additional living expenses if you need temporary relocation. Acera offers customizable coverage including personal property, liability, and optional add-ons like earthquake or water backup. Contact Acera for a tailored quote considering your building type, neighborhood risks, and replacement value of your belongings.\n"
     ]
    }
   ],
   "source": [
    "import pprint\n",
    "for r in res['messages']:\n",
    "    r.pretty_print()"
   ]
  }
 ],
 "metadata": {
  "kernelspec": {
   "display_name": "Python 3",
   "language": "python",
   "name": "python3"
  },
  "language_info": {
   "codemirror_mode": {
    "name": "ipython",
    "version": 3
   },
   "file_extension": ".py",
   "mimetype": "text/x-python",
   "name": "python",
   "nbconvert_exporter": "python",
   "pygments_lexer": "ipython3",
   "version": "3.12.0"
  }
 },
 "nbformat": 4,
 "nbformat_minor": 5
}
