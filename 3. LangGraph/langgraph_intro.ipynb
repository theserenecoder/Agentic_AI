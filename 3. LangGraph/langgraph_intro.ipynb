{
 "cells": [
  {
   "cell_type": "markdown",
   "id": "5d13d96b",
   "metadata": {},
   "source": [
    "## LangGraph\n",
    "\n",
    "## Graph\n"
   ]
  },
  {
   "cell_type": "code",
   "execution_count": 1,
   "id": "7cd1c20c",
   "metadata": {},
   "outputs": [],
   "source": [
    "## we have created three fucntion\n",
    "def function1(input1):\n",
    "    return input1 + \" from first function.\"\n",
    "\n",
    "def function2(input2):\n",
    "    return input2 + \" Sharma from second function\"\n",
    "\n",
    "def function3(input3):\n",
    "    pass"
   ]
  },
  {
   "cell_type": "code",
   "execution_count": 2,
   "id": "fef2b5a8",
   "metadata": {},
   "outputs": [
    {
     "data": {
      "text/plain": [
       "'Ashutosh from first function.'"
      ]
     },
     "execution_count": 2,
     "metadata": {},
     "output_type": "execute_result"
    }
   ],
   "source": [
    "function1(\"Ashutosh\")"
   ]
  },
  {
   "cell_type": "code",
   "execution_count": 3,
   "id": "e042e988",
   "metadata": {},
   "outputs": [
    {
     "data": {
      "text/plain": [
       "'Sharma Sharma from second function'"
      ]
     },
     "execution_count": 3,
     "metadata": {},
     "output_type": "execute_result"
    }
   ],
   "source": [
    "function2(\"Sharma\")"
   ]
  },
  {
   "cell_type": "code",
   "execution_count": 4,
   "id": "cc7f59ee",
   "metadata": {},
   "outputs": [
    {
     "data": {
      "text/plain": [
       "<langgraph.graph.graph.Graph at 0x2a4cb5c51c0>"
      ]
     },
     "execution_count": 4,
     "metadata": {},
     "output_type": "execute_result"
    }
   ],
   "source": [
    "## orchestrate thee function using langgraph\n",
    "from langgraph.graph import Graph\n",
    "\n",
    "workflow1 = Graph()\n",
    "## adding function1 as a node\n",
    "workflow1.add_node('func1', function1)"
   ]
  },
  {
   "cell_type": "code",
   "execution_count": 5,
   "id": "be2423fe",
   "metadata": {},
   "outputs": [
    {
     "data": {
      "text/plain": [
       "<langgraph.graph.graph.Graph at 0x2a4cb5c51c0>"
      ]
     },
     "execution_count": 5,
     "metadata": {},
     "output_type": "execute_result"
    }
   ],
   "source": [
    "workflow1.add_node('func2', function2)"
   ]
  },
  {
   "cell_type": "code",
   "execution_count": 6,
   "id": "17d8c1aa",
   "metadata": {},
   "outputs": [
    {
     "data": {
      "text/plain": [
       "<langgraph.graph.graph.Graph at 0x2a4cb5c51c0>"
      ]
     },
     "execution_count": 6,
     "metadata": {},
     "output_type": "execute_result"
    }
   ],
   "source": [
    "## adding edges\n",
    "workflow1.add_edge('func1','func2')"
   ]
  },
  {
   "cell_type": "code",
   "execution_count": 7,
   "id": "ed64a7cf",
   "metadata": {},
   "outputs": [
    {
     "data": {
      "text/plain": [
       "<langgraph.graph.graph.Graph at 0x2a4cb5c51c0>"
      ]
     },
     "execution_count": 7,
     "metadata": {},
     "output_type": "execute_result"
    }
   ],
   "source": [
    "## set entrypoint\n",
    "workflow1.set_entry_point('func1')\n",
    "workflow1.set_finish_point('func2')"
   ]
  },
  {
   "cell_type": "code",
   "execution_count": 8,
   "id": "ba2177b7",
   "metadata": {},
   "outputs": [
    {
     "data": {
      "image/png": "[encoded data removed]",
      "text/plain": [
       "<langgraph.graph.graph.CompiledGraph object at 0x000002A4CB9776E0>"
      ]
     },
     "execution_count": 8,
     "metadata": {},
     "output_type": "execute_result"
    }
   ],
   "source": [
    "## comple the workflow\n",
    "app = workflow1.compile()\n",
    "app"
   ]
  },
  {
   "cell_type": "code",
   "execution_count": 9,
   "id": "098babc2",
   "metadata": {},
   "outputs": [
    {
     "data": {
      "image/png": "[encoded data removed]",
      "text/plain": [
       "<IPython.core.display.Image object>"
      ]
     },
     "metadata": {},
     "output_type": "display_data"
    }
   ],
   "source": [
    "from IPython.display import Image,display\n",
    "## display the flow as png image\n",
    "display(Image(app.get_graph().draw_mermaid_png()))"
   ]
  },
  {
   "cell_type": "code",
   "execution_count": 10,
   "id": "2c8197b5",
   "metadata": {},
   "outputs": [
    {
     "data": {
      "text/plain": [
       "'Hi this is Ashu from first function. Sharma from second function'"
      ]
     },
     "execution_count": 10,
     "metadata": {},
     "output_type": "execute_result"
    }
   ],
   "source": [
    "app.invoke(\"Hi this is Ashu\")"
   ]
  },
  {
   "cell_type": "code",
   "execution_count": 11,
   "id": "398e42d2",
   "metadata": {},
   "outputs": [
    {
     "name": "stdout",
     "output_type": "stream",
     "text": [
      "Here is output from :  func1\n",
      "------------------------------\n",
      "Here is output from :  Hi this is Shanu from first function.\n",
      "Here is output from :  func2\n",
      "------------------------------\n",
      "Here is output from :  Hi this is Shanu from first function. Sharma from second function\n"
     ]
    }
   ],
   "source": [
    "for output in app.stream(\"Hi this is Shanu\"):\n",
    "    for key,value in output.items():\n",
    "        print(f\"Here is output from :  {key}\")\n",
    "        print(\"-\"*30)\n",
    "        print(f\"Here is output from :  {value}\")"
   ]
  },
  {
   "cell_type": "code",
   "execution_count": 12,
   "id": "b3071e2c",
   "metadata": {},
   "outputs": [],
   "source": [
    "from langchain_openai import ChatOpenAI"
   ]
  },
  {
   "cell_type": "code",
   "execution_count": 13,
   "id": "6df58330",
   "metadata": {},
   "outputs": [],
   "source": [
    "def llm(input):\n",
    "    model= ChatOpenAI(model='gpt-4o-mini')\n",
    "    output = model.invoke(input)\n",
    "    return output.content\n",
    "\n",
    "def token_counter(input):\n",
    "    token = str(input).split()\n",
    "    count_no = len(token)\n",
    "    return count_no"
   ]
  },
  {
   "cell_type": "code",
   "execution_count": 14,
   "id": "88e691b0",
   "metadata": {},
   "outputs": [
    {
     "data": {
      "text/plain": [
       "3"
      ]
     },
     "execution_count": 14,
     "metadata": {},
     "output_type": "execute_result"
    }
   ],
   "source": [
    "token_counter(\"This is ashu\")"
   ]
  },
  {
   "cell_type": "code",
   "execution_count": 18,
   "id": "f5a6d62a",
   "metadata": {},
   "outputs": [
    {
     "data": {
      "image/png": "[encoded data removed]",
      "text/plain": [
       "<langgraph.graph.graph.CompiledGraph object at 0x000002A4CE076570>"
      ]
     },
     "execution_count": 18,
     "metadata": {},
     "output_type": "execute_result"
    }
   ],
   "source": [
    "workflow2 = Graph()\n",
    "workflow2.add_node('LLM_Model',llm)\n",
    "workflow2.add_node('Get_Token_Counter',token_counter)\n",
    "workflow2.add_edge('LLM_Model','Get_Token_Counter')\n",
    "workflow2.set_entry_point('LLM_Model')\n",
    "workflow2.set_finish_point('Get_Token_Counter')\n",
    "app2 = workflow2.compile()\n",
    "app2"
   ]
  },
  {
   "cell_type": "code",
   "execution_count": 19,
   "id": "1f49a2bf",
   "metadata": {},
   "outputs": [
    {
     "data": {
      "text/plain": [
       "256"
      ]
     },
     "execution_count": 19,
     "metadata": {},
     "output_type": "execute_result"
    }
   ],
   "source": [
    "app2.invoke(\"What is an AI Agent?\")"
   ]
  },
  {
   "cell_type": "code",
   "execution_count": 21,
   "id": "f9a9449c",
   "metadata": {},
   "outputs": [
    {
     "name": "stdout",
     "output_type": "stream",
     "text": [
      "Here is output from :  LLM_Model\n",
      "------------------------------\n",
      "Here is output from :  An AI agent is a software entity that uses artificial intelligence techniques to perceive its environment, reason, and take actions to achieve specific goals. AI agents can autonomously make decisions based on the data they receive from their surroundings, which could include inputs from sensors, user interactions, or data sources. Here are some key characteristics of AI agents:\n",
      "\n",
      "1. **Autonomy**: AI agents can operate without human intervention to achieve their objectives.\n",
      "\n",
      "2. **Perception**: They can sense their environment through various means, such as sensors, data input, or user commands, and then interpret this information.\n",
      "\n",
      "3. **Reasoning and Learning**: Many AI agents are equipped with the ability to process the information they gather, learn from it, and improve their performance over time through techniques like machine learning.\n",
      "\n",
      "4. **Action**: Based on their reasoning, AI agents can take actions to interact with their environment, such as making recommendations, controlling devices, or performing tasks.\n",
      "\n",
      "5. **Goal-Oriented**: AI agents typically have specific goals or objectives they are designed to achieve, such as enhancing user experience, optimizing processes, or automating tasks.\n",
      "\n",
      "AI agents can take various forms, ranging from simple rule-based systems to complex algorithms capable of natural language processing, computer vision, autonomous decision-making, and more. Examples of AI agents include virtual assistants like Siri or Alexa, chatbots, recommendation systems, and autonomous vehicles.\n",
      "Here is output from :  Get_Token_Counter\n",
      "------------------------------\n",
      "Here is output from :  218\n"
     ]
    }
   ],
   "source": [
    "for output in app2.stream(\"what is an AI Agent?\"):\n",
    "    for key,value in output.items():\n",
    "        print(f\"Here is output from :  {key}\")\n",
    "        print(\"-\"*30)\n",
    "        print(f\"Here is output from :  {value}\")"
   ]
  },
  {
   "cell_type": "code",
   "execution_count": null,
   "id": "919ea203",
   "metadata": {},
   "outputs": [],
   "source": []
  }
 ],
 "metadata": {
  "kernelspec": {
   "display_name": "Python 3",
   "language": "python",
   "name": "python3"
  },
  "language_info": {
   "codemirror_mode": {
    "name": "ipython",
    "version": 3
   },
   "file_extension": ".py",
   "mimetype": "text/x-python",
   "name": "python",
   "nbconvert_exporter": "python",
   "pygments_lexer": "ipython3",
   "version": "3.12.0"
  }
 },
 "nbformat": 4,
 "nbformat_minor": 5
}
