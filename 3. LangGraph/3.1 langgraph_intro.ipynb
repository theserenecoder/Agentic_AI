{
 "cells": [
  {
   "cell_type": "markdown",
   "id": "5d13d96b",
   "metadata": {},
   "source": [
    "## LangGraph\n",
    "\n",
    "LangGraph is a framework which is used for building adaptable AI agents. It is build on top of langchain, and provides a flexible and intutive way to build highly customizable and state agnostic multi agentic applications. It allows to define a workflow as directed acyclic graphs (DAGs), where each node in the graph represents a specific action or AI agent, and edges define the flow of control. \n",
    "\n",
    "### Core Concepts\n",
    "\n",
    "Let's break down the fundamental building blocks of a LangGraph application:\n",
    "\n",
    "1. **Graph**: The central component, representing your application's workflow as a collection of nodes and edges.\n",
    "2. **Nodes**: These are the \"actors\" or \"steps\" in your workflow. It represents any specefic action or AI agent. A node can be:\n",
    "    - An LLM call\n",
    "    - A tool invocation (e.g., a search API, a calculator)\n",
    "    - A custom Python function\n",
    "    - Another LangChain runnable\n",
    "3. **Edges**: These define the transitions between nodes. They dictate which node executes next after a particular node completes. Edges can be:\n",
    "    - **Conditional Edges**: Based on the output of a node, the graph can transition to different subsequent nodes.\n",
    "    - **Direct Edges**: Simply point from one node to the next.\n",
    "4. **State**: While LangGraph itself is state-agnostic in its node execution, you often define a shared \"graph state\" that is passed between nodes. Each node can read from and write to this state. This state is often defined as a TypedDict. \n",
    "5. **Entry Point (START)**: The designated starting node for your graph's execution.\n",
    "6. **Finish Point (END)**: A special marker signifying the conclusion of a workflow path.\n",
    "\n",
    "This notebook will guide you through the fundamental steps of constructing a graph, including defining its state, adding simple Python functions as nodes, connecting them with edges, setting a starting point, and compiling it. We'll then significantly enhance our graph by integrating external tools like WikipediaQueryRun and TavilySearchResults, and demonstrating how to wrap a custom function into a tool (In 3.2 tools notebook).\n",
    "\n",
    "\n",
    "### Step-by-Step : Building a Simple Graph\n",
    "\n",
    "Let's start with a basic graph structure as mentioned above, which initialy takes your first name as input, then adds your last name in the result. This will help us ensure our foundational understanding. This also introduces the concept of a \"headless\" graph where the node function directly takes the input of the graph as its parameter and returns its output, rather than operating on a shared TypedDict state. While StateGraph is more common for complex workflows, Graph (the simpler version) is ideal for basic sequential chains like this."
   ]
  },
  {
   "cell_type": "code",
   "execution_count": 1,
   "id": "7cd1c20c",
   "metadata": {},
   "outputs": [
    {
     "name": "stdout",
     "output_type": "stream",
     "text": [
      "Ashutosh Sharma\n"
     ]
    }
   ],
   "source": [
    "## we have created two fucntion\n",
    "## first one will take your first name as input\n",
    "def first_name(input1):\n",
    "    return input1 \n",
    "\n",
    "## in our graph return from first function will work as input for second function\n",
    "def last_name(input2):\n",
    "    return input2 + \" Sharma\"\n",
    "\n",
    "print(last_name(first_name('Ashutosh')))"
   ]
  },
  {
   "cell_type": "code",
   "execution_count": 2,
   "id": "cc7f59ee",
   "metadata": {},
   "outputs": [
    {
     "data": {
      "image/png": "[encoded data removed]",
      "text/plain": [
       "<langgraph.graph.graph.CompiledGraph object at 0x000001B3E9B15BE0>"
      ]
     },
     "execution_count": 2,
     "metadata": {},
     "output_type": "execute_result"
    }
   ],
   "source": [
    "## orchestrate these function using langgraph\n",
    "from langgraph.graph import Graph\n",
    "\n",
    "## Building the graph\n",
    "workflow_name = Graph()\n",
    "## adding first_name as a node\n",
    "workflow_name.add_node('First_Name', first_name)\n",
    "## adding second name as node\n",
    "workflow_name.add_node('Last_Name', last_name)\n",
    "## adding edges from 1st function to 2nd\n",
    "## result from first node will be passed to second node\n",
    "workflow_name.add_edge('First_Name','Last_Name')\n",
    "## set the entry point of our graph\n",
    "workflow_name.set_entry_point('First_Name')\n",
    "## set the finish point\n",
    "workflow_name.set_finish_point('Last_Name')\n",
    "## compile the graph\n",
    "app = workflow_name.compile()\n",
    "app\n"
   ]
  },
  {
   "cell_type": "code",
   "execution_count": 3,
   "id": "2c8197b5",
   "metadata": {},
   "outputs": [
    {
     "name": "stdout",
     "output_type": "stream",
     "text": [
      "Here is output from :  First_Name\n",
      "------------------------------\n",
      "Here is output :  Ashutosh\n",
      "\n",
      "Here is output from :  Last_Name\n",
      "------------------------------\n",
      "Here is output :  Ashutosh Sharma\n",
      "\n"
     ]
    }
   ],
   "source": [
    "for output in app.stream(\"Ashutosh\"):\n",
    "    for key,value in output.items():\n",
    "        print(f\"Here is output from :  {key}\")\n",
    "        print(\"-\"*30)\n",
    "        print(f\"Here is output :  {value}\\n\")"
   ]
  },
  {
   "cell_type": "markdown",
   "id": "8e955a83",
   "metadata": {},
   "source": [
    "Now, let's look at a very common pattern: passing the output of one step (an LLM call) directly as input to the next step (a token counter). Another example of Headless Graph"
   ]
  },
  {
   "cell_type": "code",
   "execution_count": 4,
   "id": "f5a36d89",
   "metadata": {},
   "outputs": [
    {
     "data": {
      "image/png": "[encoded data removed]",
      "text/plain": [
       "<langgraph.graph.graph.CompiledGraph object at 0x000001B3EB6A75F0>"
      ]
     },
     "execution_count": 4,
     "metadata": {},
     "output_type": "execute_result"
    }
   ],
   "source": [
    "from langchain_openai import ChatOpenAI\n",
    "def llm(input):\n",
    "    model= ChatOpenAI(model='gpt-4o-mini')\n",
    "    output = model.invoke(input)\n",
    "    return output.content\n",
    "\n",
    "def token_counter(input):\n",
    "    token = str(input).split()\n",
    "    count_no = len(token)\n",
    "    return count_no\n",
    "\n",
    "workflow2 = Graph()\n",
    "workflow2.add_node('LLM_Model',llm)\n",
    "workflow2.add_node('Get_Token_Counter',token_counter)\n",
    "workflow2.add_edge('LLM_Model','Get_Token_Counter')\n",
    "workflow2.set_entry_point('LLM_Model')\n",
    "workflow2.set_finish_point('Get_Token_Counter')\n",
    "app2 = workflow2.compile()\n",
    "app2"
   ]
  },
  {
   "cell_type": "code",
   "execution_count": 5,
   "id": "964e8d82",
   "metadata": {},
   "outputs": [
    {
     "name": "stdout",
     "output_type": "stream",
     "text": [
      "Here is output from :  LLM_Model\n",
      "------------------------------\n",
      "Here is output from :  An AI agent is a system or software that uses artificial intelligence techniques to perform tasks autonomously or semi-autonomously in a given environment. AI agents can perceive their environment, process information, and make decisions based on predefined algorithms, machine learning models, or other AI methods.\n",
      "\n",
      "There are various types of AI agents, including:\n",
      "\n",
      "1. **Reactive Agents**: These agents respond directly to their environment without maintaining a significant internal state or memory. They operate based on a set of predefined rules.\n",
      "\n",
      "2. **Deliberative Agents**: These agents maintain an internal model of the world and can plan their actions based on that model. They can reason about future states and outcomes.\n",
      "\n",
      "3. **Learning Agents**: These agents improve their performance over time through experience. They employ machine learning techniques to adapt their behavior based on past interactions and feedback.\n",
      "\n",
      "4. **Autonomous Agents**: These agents can operate independently with minimal human intervention. They can perceive their surroundings, make decisions, and take actions to achieve specific goals.\n",
      "\n",
      "5. **Multi-Agent Systems**: In these systems, multiple AI agents interact with each other and possibly with human users. They can cooperate, compete, or coordinate their actions to achieve common or individual objectives.\n",
      "\n",
      "AI agents are used in various applications, including robotics, virtual assistants, recommendation systems, autonomous vehicles, game playing, and many more. Their complexity and functionality can vary widely depending on their design and intended use.\n",
      "Here is output from :  Get_Token_Counter\n",
      "------------------------------\n",
      "Here is output from :  228\n"
     ]
    }
   ],
   "source": [
    "for output in app2.stream(\"what is an AI Agent?\"):\n",
    "    for key,value in output.items():\n",
    "        print(f\"Here is output from :  {key}\")\n",
    "        print(\"-\"*30)\n",
    "        print(f\"Here is output from :  {value}\")"
   ]
  },
  {
   "cell_type": "markdown",
   "id": "138771df",
   "metadata": {},
   "source": [
    "Key Takeaways from this Example:\n",
    "\n",
    "1.  **Graph() vs. StateGraph()**:\n",
    "    - Graph() is simpler. It's used when the output of one node directly becomes the input of the next. There's no explicit TypedDict for a shared state that all nodes read from and write to.\n",
    "    - StateGraph() (used in previous and next examples) is for more complex scenarios where multiple nodes might read/write different parts of a shared, evolving state, often involving conditional logic or parallel execution.\n",
    "2. **Direct Input/Output Flow**: In Graph(), workflow2.add_edge('LLM_Model', 'Get_Token_Counter') means that whatever llm() returns will be passed as the single positional argument to token_counter().\n",
    "3. **set_finish_point()**: This explicitly tells LangGraph which node's output should be returned as the final result of app2.invoke()."
   ]
  },
  {
   "cell_type": "markdown",
   "id": "39d9b3f4",
   "metadata": {},
   "source": [
    "## Core Components deep dive\n",
    "\n",
    "### State\n",
    "\n",
    "The first thing we do when we deine a **Graph** is define the **State** of the graph. The **State** schema serves as the input schema for all Nodes and Edges in the graph. We define state as TypeDict. TypeDict work as a plain dict at runtime."
   ]
  },
  {
   "cell_type": "code",
   "execution_count": 6,
   "id": "398e42d2",
   "metadata": {},
   "outputs": [],
   "source": [
    "from typing import TypedDict\n",
    "\n",
    "class State(TypedDict):\n",
    "    ## we will only define a single key graph_state for this example\n",
    "    graph_state: str"
   ]
  },
  {
   "cell_type": "markdown",
   "id": "0d83bccb",
   "metadata": {},
   "source": [
    "### Nodes\n",
    "\n",
    "As mentioned above nodes represent any actions or a function. The first positional argument is the State. Each node operates on the state. Also each node will override the prior state value."
   ]
  },
  {
   "cell_type": "code",
   "execution_count": 7,
   "id": "b3071e2c",
   "metadata": {},
   "outputs": [],
   "source": [
    "def node_1(state):\n",
    "    print('--Node1--')\n",
    "    return {'graph_state': state['graph_state'] + \"I am\"}\n",
    "\n",
    "def node_2(state):\n",
    "    print('--Node2--')\n",
    "    return {'graph_state': state['graph_state'] + \" happy\"}\n",
    "\n",
    "def node_3(state):\n",
    "    print('--Node3--')\n",
    "    return {'graph_state': state['graph_state'] + \" sad\"}"
   ]
  },
  {
   "cell_type": "code",
   "execution_count": 9,
   "id": "9996018d",
   "metadata": {},
   "outputs": [
    {
     "name": "stdout",
     "output_type": "stream",
     "text": [
      "--Node2--\n"
     ]
    },
    {
     "data": {
      "text/plain": [
       "{'graph_state': ' happy'}"
      ]
     },
     "execution_count": 9,
     "metadata": {},
     "output_type": "execute_result"
    }
   ],
   "source": [
    "node_2({\"graph_state\":\"\"})"
   ]
  },
  {
   "cell_type": "markdown",
   "id": "dd279787",
   "metadata": {},
   "source": [
    "### Edges\n",
    "\n",
    "Edges connects the nodes. Normal edges are used if you want to always go from first node to second.\n",
    "\n",
    "Conditional Edges are used when we need to conditionaly route between the nodes"
   ]
  },
  {
   "cell_type": "code",
   "execution_count": 26,
   "id": "6df58330",
   "metadata": {},
   "outputs": [],
   "source": [
    "import random\n",
    "from typing import Literal\n",
    "\n",
    "## conditional edge function\n",
    "## function to define conditional edge\n",
    "## randomly we will decide which node to route\n",
    "def mood(state) -> Literal[\"node_2\",\"node_3\"]:\n",
    "    \n",
    "    user_input = state['graph_state']\n",
    "    \n",
    "    ## 50% of the time we will return node2\n",
    "    if random.random() > 0.5:\n",
    "        return 'call node_2'\n",
    "    \n",
    "    ## rest 50% we will return node3\n",
    "    return 'call node_3'"
   ]
  },
  {
   "cell_type": "code",
   "execution_count": 27,
   "id": "bd26ddd1",
   "metadata": {},
   "outputs": [
    {
     "data": {
      "text/plain": [
       "'call node_3'"
      ]
     },
     "execution_count": 27,
     "metadata": {},
     "output_type": "execute_result"
    }
   ],
   "source": [
    "mood({'graph_state':\"Hi\"})"
   ]
  },
  {
   "cell_type": "markdown",
   "id": "e4ee65a9",
   "metadata": {},
   "source": [
    "Nodes update the state whereas conditional edge decide which node to go to next.\n",
    "\n",
    "### Graph Construction\n",
    "\n",
    "We will use **StateGraph** class to define our graph. \n",
    "\n",
    "1. First we will initialize a StateGraph with the State class which we have defined above. \n",
    "2. Then we will add nodes and edges to it.\n",
    "3. Then we will use START node which sends user input to the graph or indicate where to start the graph.\n",
    "4. Then we will define END node which represent a terminal node.\n",
    "5. Compile our graph, do basic check.\n",
    "6. Vizualize the graph."
   ]
  },
  {
   "cell_type": "code",
   "execution_count": 28,
   "id": "88e691b0",
   "metadata": {},
   "outputs": [
    {
     "data": {
      "image/png": "[encoded data removed]",
      "text/plain": [
       "<langgraph.graph.state.CompiledStateGraph object at 0x000001B3EC1543B0>"
      ]
     },
     "execution_count": 28,
     "metadata": {},
     "output_type": "execute_result"
    }
   ],
   "source": [
    "from langgraph.graph import StateGraph, START, END\n",
    "\n",
    "## Build graph\n",
    "workflow = StateGraph(State)\n",
    "workflow.add_node('node_1',node_1)\n",
    "workflow.add_node('node_2',node_2)\n",
    "workflow.add_node('node_3',node_3)\n",
    "\n",
    "## Define the flow\n",
    "workflow.add_edge(START,'node_1')\n",
    "workflow.add_conditional_edges(\n",
    "    'node_1',\n",
    "    mood,\n",
    "    {\n",
    "        'call node_2':'node_2',\n",
    "        'call node_3':'node_3'\n",
    "    }\n",
    ")\n",
    "workflow.add_edge('node_2',END)\n",
    "workflow.add_edge('node_3',END)\n",
    "\n",
    "## Compile our graph\n",
    "app = workflow.compile()\n",
    "\n",
    "## View the Graph\n",
    "app"
   ]
  },
  {
   "cell_type": "markdown",
   "id": "3dd14339",
   "metadata": {},
   "source": [
    "### Graph Invocation\n",
    "\n",
    "The compiled graph implements the runnable protocal. Therefore we can execute it using invoke methods.\n",
    "\n",
    "When invoke is called, the graph starts execution from the START node. The progress through the defined node in order. The conditional node will travers from 1 to 2 or 3 using the condition. Each nodes function receives the current state and override it. The execution continues until it reaches the END node."
   ]
  },
  {
   "cell_type": "code",
   "execution_count": 33,
   "id": "919ea203",
   "metadata": {},
   "outputs": [
    {
     "name": "stdout",
     "output_type": "stream",
     "text": [
      "--Node1--\n",
      "--Node2--\n",
      "{'graph_state': 'Hi, my name is Ashutosh.I am happy'}\n"
     ]
    }
   ],
   "source": [
    "try:\n",
    "    print(app.invoke({\"graph_state\":\"Hi, my name is Ashutosh.\"}))\n",
    "except Exception as e:\n",
    "    print(f'Exception : {e}')"
   ]
  },
  {
   "cell_type": "markdown",
   "id": "5a878365",
   "metadata": {},
   "source": [
    "invoke runs the entire graph synchronously. It waits for each step to complete before it moving to the next step. It returns the final state once all the nodes of the graph have been executed."
   ]
  },
  {
   "cell_type": "markdown",
   "id": "6f679e8d",
   "metadata": {},
   "source": [
    "## Building Chain\n",
    "\n",
    "We are aware with the core components of LangGraph. Now we will learn to build chains which will combine 4 key concepts:\n",
    "1. Using chat messages in ou graph.\n",
    "2. Using chat models.\n",
    "3. Binding tools to our LLM.\n",
    "4. Executing tool calls in our graph.\n",
    "\n",
    "### Messages\n",
    "\n",
    "Chat models use messages which captures the different roles within a conversation. LangChain supports various message type\n",
    " - HumanMessage\n",
    " - AIMessage\n",
    " - SystemMessage\n",
    " - ToolMessage\n",
    "\n",
    "Let's create a list of few messages and we will supply each message with some information:\n",
    "    - content : content of the message.\n",
    "    - name : optional, who is creating the message.\n",
    "    - response_metadata : optional, a dict of metadata that is specific to each model provider."
   ]
  },
  {
   "cell_type": "code",
   "execution_count": 2,
   "id": "e5c3c3a3",
   "metadata": {},
   "outputs": [
    {
     "name": "stdout",
     "output_type": "stream",
     "text": [
      "==================================\u001b[1m Ai Message \u001b[0m==================================\n",
      "Name: Model\n",
      "\n",
      "So you were researching about LangGraph?\n",
      "================================\u001b[1m Human Message \u001b[0m=================================\n",
      "Name: Ashu\n",
      "\n",
      "Yes\n",
      "==================================\u001b[1m Ai Message \u001b[0m==================================\n",
      "Name: Model\n",
      "\n",
      "What would you want to learn about?\n",
      "================================\u001b[1m Human Message \u001b[0m=================================\n",
      "Name: Ashu\n",
      "\n",
      "I want to learn about stategraph in langgraph\n"
     ]
    }
   ],
   "source": [
    "from pprint import pprint\n",
    "from langchain_core.messages import AIMessage, HumanMessage, SystemMessage\n",
    "\n",
    "messages = [AIMessage(content=f'So you were researching about LangGraph?',name='Model')]\n",
    "messages.extend([HumanMessage(content=f'Yes', name='Ashu')])\n",
    "messages.extend([AIMessage(content=f'What would you want to learn about?',name='Model')])\n",
    "messages.extend([HumanMessage(content=f'I want to learn about stategraph in langgraph', name='Ashu')])\n",
    "\n",
    "for msg in messages:\n",
    "    msg.pretty_print()\n",
    "    \n",
    "## We will take the list of this message list and will pass it to our chat model"
   ]
  },
  {
   "cell_type": "markdown",
   "id": "f65ba267",
   "metadata": {},
   "source": [
    "### Chat Model\n",
    "\n",
    "Chat model can use the sequence of messages as input and support roles."
   ]
  },
  {
   "cell_type": "code",
   "execution_count": 3,
   "id": "b41e7081",
   "metadata": {},
   "outputs": [
    {
     "name": "stdout",
     "output_type": "stream",
     "text": [
      "In LangGraph, a StateGraph is a structure that is used to represent different states and transitions between those states within a language model framework. While specific implementations may vary, he\n",
      "\n",
      "{'token_usage': {'completion_tokens': 263, 'prompt_tokens': 56, 'total_tokens': 319, 'completion_tokens_details': {'accepted_prediction_tokens': 0, 'audio_tokens': 0, 'reasoning_tokens': 0, 'rejected_prediction_tokens': 0}, 'prompt_tokens_details': {'audio_tokens': 0, 'cached_tokens': 0}}, 'model_name': 'gpt-4o-mini-2024-07-18', 'system_fingerprint': 'fp_34a54ae93c', 'id': 'chatcmpl-BhVCwLPIkEWD7OVWL95fST4eXvEas', 'service_tier': 'default', 'finish_reason': 'stop', 'logprobs': None}\n"
     ]
    }
   ],
   "source": [
    "from dotenv import load_dotenv\n",
    "load_dotenv()\n",
    "from langchain_openai import ChatOpenAI\n",
    "llm = ChatOpenAI(model='gpt-4o-mini')\n",
    "result = llm.invoke(messages)\n",
    "print(result.content[0:200])\n",
    "print(f'\\n{result.response_metadata}')"
   ]
  },
  {
   "cell_type": "markdown",
   "id": "d986cb4b",
   "metadata": {},
   "source": [
    "### Tools\n",
    "\n",
    "Tools are needed whenever we want a model to control parts of our code to call external APIs. Most of the LLMs support tool calling. In LangChain we can pass any function to ChatModel.bind_tool()."
   ]
  },
  {
   "cell_type": "code",
   "execution_count": 84,
   "id": "6e3d81e2",
   "metadata": {},
   "outputs": [],
   "source": [
    "from langchain_core.tools import tool\n",
    "\n",
    "@tool\n",
    "def multiply(a:int, b:int) ->int:\n",
    "    \"Multiply a and b\"\n",
    "    return a*b\n",
    "\n",
    "## Binding tool with LLM model\n",
    "llm_with_tool = llm.bind_tools([multiply])"
   ]
  },
  {
   "cell_type": "code",
   "execution_count": 85,
   "id": "3902ce1e",
   "metadata": {},
   "outputs": [
    {
     "data": {
      "text/plain": [
       "AIMessage(content='', additional_kwargs={'tool_calls': [{'id': 'call_uAeYMq9QkpZkqCDhleuEPTVP', 'function': {'arguments': '{\"a\":2,\"b\":3}', 'name': 'multiply'}, 'type': 'function'}], 'refusal': None}, response_metadata={'token_usage': {'completion_tokens': 17, 'prompt_tokens': 53, 'total_tokens': 70, 'completion_tokens_details': {'accepted_prediction_tokens': 0, 'audio_tokens': 0, 'reasoning_tokens': 0, 'rejected_prediction_tokens': 0}, 'prompt_tokens_details': {'audio_tokens': 0, 'cached_tokens': 0}}, 'model_name': 'gpt-4o-mini-2024-07-18', 'system_fingerprint': 'fp_62a23a81ef', 'id': 'chatcmpl-BhlOG22S7SNYNWzv2x4Z55X2ezfB5', 'service_tier': 'default', 'finish_reason': 'tool_calls', 'logprobs': None}, id='run--d48e32c1-63d2-4a8f-b0b6-1c8b10745a7a-0', tool_calls=[{'name': 'multiply', 'args': {'a': 2, 'b': 3}, 'id': 'call_uAeYMq9QkpZkqCDhleuEPTVP', 'type': 'tool_call'}], usage_metadata={'input_tokens': 53, 'output_tokens': 17, 'total_tokens': 70, 'input_token_details': {'audio': 0, 'cache_read': 0}, 'output_token_details': {'audio': 0, 'reasoning': 0}})"
      ]
     },
     "execution_count": 85,
     "metadata": {},
     "output_type": "execute_result"
    }
   ],
   "source": [
    "tool_call = llm_with_tool.invoke('what is 2 multiply by 3')\n",
    "tool_call\n",
    "## So we found that there is no content in AIMessage but there is a tool call"
   ]
  },
  {
   "cell_type": "code",
   "execution_count": 86,
   "id": "7c3a13c3",
   "metadata": {},
   "outputs": [
    {
     "data": {
      "text/plain": [
       "[{'id': 'call_uAeYMq9QkpZkqCDhleuEPTVP',\n",
       "  'function': {'arguments': '{\"a\":2,\"b\":3}', 'name': 'multiply'},\n",
       "  'type': 'function'}]"
      ]
     },
     "execution_count": 86,
     "metadata": {},
     "output_type": "execute_result"
    }
   ],
   "source": [
    "## We can see that it is calling a function multiply and providing the arguments\n",
    "tool_call.additional_kwargs['tool_calls']"
   ]
  },
  {
   "cell_type": "markdown",
   "id": "8463ad7f",
   "metadata": {},
   "source": [
    "### Using Messages as State\n",
    "\n",
    "We can use these messages as state. We will define our state class. Define it as TypedDict with a single key: messages, where messages will be a list of messages."
   ]
  },
  {
   "cell_type": "code",
   "execution_count": 87,
   "id": "528ae262",
   "metadata": {},
   "outputs": [],
   "source": [
    "from typing import TypedDict\n",
    "from langchain_core.messages import AnyMessage\n",
    "\n",
    "class MessageState(TypedDict):\n",
    "    messages: list[AnyMessage]"
   ]
  },
  {
   "cell_type": "markdown",
   "id": "fab33e13",
   "metadata": {},
   "source": [
    "### Reducers\n",
    "\n",
    "As we discussed earlier that as our graph runs, each node overrides the prior state. Whereas we would want to preserve our messages, so that means we would want to append messages to our message state key.\n",
    "\n",
    "To overcome this we use Reducer functions.\n",
    "\n",
    "Reducer functions allow us to specify how the state would be updated. If no reducer function is specified that it would update to the key should be override. Since we want to append our messages we would use a pre-build reducer add_messages.\n",
    "\n",
    "We will annotate our key with the reducer function as metadata."
   ]
  },
  {
   "cell_type": "code",
   "execution_count": 88,
   "id": "362ebd2d",
   "metadata": {},
   "outputs": [],
   "source": [
    "from typing import Annotated\n",
    "from langchain_core.messages import AnyMessage\n",
    "from langgraph.graph.message import add_messages\n",
    "\n",
    "class MessageState(TypedDict):\n",
    "    messages : Annotated[list[AnyMessage], add_messages]"
   ]
  },
  {
   "cell_type": "markdown",
   "id": "e772f191",
   "metadata": {},
   "source": [
    "### Building a Graph using MessageState and calling tools"
   ]
  },
  {
   "cell_type": "code",
   "execution_count": 96,
   "id": "b10cfda6",
   "metadata": {},
   "outputs": [
    {
     "data": {
      "image/png": "[encoded data removed]",
      "text/plain": [
       "<langgraph.graph.state.CompiledStateGraph object at 0x00000162DCC8F230>"
      ]
     },
     "execution_count": 96,
     "metadata": {},
     "output_type": "execute_result"
    }
   ],
   "source": [
    "from typing import Annotated, TypedDict\n",
    "from langchain_core.messages import BaseMessage\n",
    "from langgraph.graph import StateGraph, START, END\n",
    "from langgraph.graph.message import add_messages, AnyMessage\n",
    "from langgraph.prebuilt import ToolNode, tools_condition\n",
    "from langchain_community.tools.tavily_search import TavilySearchResults\n",
    "from langchain_openai import ChatOpenAI\n",
    "\n",
    "## llm\n",
    "llm = ChatOpenAI(model='o3-mini')\n",
    "\n",
    "tavily_tool = TavilySearchResults(max_results=3)\n",
    "\n",
    "@tool\n",
    "def multiply(a:int,b:int)->int:\n",
    "    \"\"\"this tool will do multiplication\"\"\"\n",
    "    return a*b\n",
    "\n",
    "@tool\n",
    "def add(a:int, b:int) -> int:\n",
    "    \"Add two integers\"\n",
    "    return a+b\n",
    "\n",
    "tools_list = [tavily_tool, multiply, add]\n",
    "\n",
    "## Binding tools with llm\n",
    "llm_with_tool = llm.bind_tools(tools_list)\n",
    "\n",
    "## defining stateclass\n",
    "class State(TypedDict):\n",
    "    messages : Annotated[list[AnyMessage], add_messages]\n",
    "\n",
    "## ToolNode runs the tools which are called in last AIMessage\n",
    "## If there are multiple tools called, it will run in parallel\n",
    "tool_call = ToolNode([tavily_tool, multiply, add])\n",
    "\n",
    "def llm_chatbot(state: State):\n",
    "    return {'messages': [llm_with_tool.invoke(state['messages'])]}\n",
    "\n",
    "## Graph\n",
    "build = StateGraph(State)\n",
    "build.add_node('LLM Chatbot', llm_chatbot)\n",
    "build.add_node('tools',tool_call)\n",
    "build.add_edge(START,'LLM Chatbot')\n",
    "build.add_conditional_edges(\n",
    "    \"LLM Chatbot\",\n",
    "    ## it route to the ToolNode if last message has tool calls\n",
    "    tools_condition,\n",
    ")\n",
    "build.add_edge('tools','LLM Chatbot')\n",
    "\n",
    "app = build.compile()\n",
    "app"
   ]
  },
  {
   "cell_type": "code",
   "execution_count": 92,
   "id": "caaa5e66",
   "metadata": {},
   "outputs": [
    {
     "data": {
      "text/plain": [
       "{'messages': [HumanMessage(content='Hi', additional_kwargs={}, response_metadata={}, id='f8b71577-6628-435e-8a1d-365dfd8abf92'),\n",
       "  AIMessage(content='Hello! How can I assist you today?', additional_kwargs={'refusal': None}, response_metadata={'token_usage': {'completion_tokens': 87, 'prompt_tokens': 124, 'total_tokens': 211, 'completion_tokens_details': {'accepted_prediction_tokens': 0, 'audio_tokens': 0, 'reasoning_tokens': 64, 'rejected_prediction_tokens': 0}, 'prompt_tokens_details': {'audio_tokens': 0, 'cached_tokens': 0}}, 'model_name': 'o3-mini-2025-01-31', 'system_fingerprint': 'fp_e20469f047', 'id': 'chatcmpl-BhmWF6DWNK0hH3Olp2SuhzpuZmox7', 'service_tier': 'default', 'finish_reason': 'stop', 'logprobs': None}, id='run--1b914636-be70-48ec-beed-774eac0a1e0f-0', usage_metadata={'input_tokens': 124, 'output_tokens': 87, 'total_tokens': 211, 'input_token_details': {'audio': 0, 'cache_read': 0}, 'output_token_details': {'audio': 0, 'reasoning': 64}})]}"
      ]
     },
     "execution_count": 92,
     "metadata": {},
     "output_type": "execute_result"
    }
   ],
   "source": [
    "## natural response\n",
    "app.invoke({'messages': 'Hi'})"
   ]
  },
  {
   "cell_type": "code",
   "execution_count": 97,
   "id": "62a3399e",
   "metadata": {},
   "outputs": [
    {
     "data": {
      "text/plain": [
       "{'messages': [HumanMessage(content='Air India crash', additional_kwargs={}, response_metadata={}, id='4e2dd3da-56ba-46e4-a227-89986726fbd8'),\n",
       "  AIMessage(content='', additional_kwargs={'tool_calls': [{'id': 'call_uq2I7qnrazKksGSvScxG6vE4', 'function': {'arguments': '{\"query\": \"Air India crash\"}', 'name': 'tavily_search_results_json'}, 'type': 'function'}], 'refusal': None}, response_metadata={'token_usage': {'completion_tokens': 227, 'prompt_tokens': 126, 'total_tokens': 353, 'completion_tokens_details': {'accepted_prediction_tokens': 0, 'audio_tokens': 0, 'reasoning_tokens': 192, 'rejected_prediction_tokens': 0}, 'prompt_tokens_details': {'audio_tokens': 0, 'cached_tokens': 0}}, 'model_name': 'o3-mini-2025-01-31', 'system_fingerprint': 'fp_e20469f047', 'id': 'chatcmpl-Bi78fHCiBfTNK0sBKp7SiBu0I4rrl', 'service_tier': 'default', 'finish_reason': 'tool_calls', 'logprobs': None}, id='run--4adbecd4-04f9-4dd2-b52f-0666be2ace3d-0', tool_calls=[{'name': 'tavily_search_results_json', 'args': {'query': 'Air India crash'}, 'id': 'call_uq2I7qnrazKksGSvScxG6vE4', 'type': 'tool_call'}], usage_metadata={'input_tokens': 126, 'output_tokens': 227, 'total_tokens': 353, 'input_token_details': {'audio': 0, 'cache_read': 0}, 'output_token_details': {'audio': 0, 'reasoning': 192}}),\n",
       "  ToolMessage(content='[{\"title\": \"Air India plane crash: Investigation underway, black boxes found\", \"url\": \"https://abcnews.go.com/International/air-india-plane-crash-investigation-underway-black-boxes/story?id=122809083\", \"content\": \"The plane, a Boeing 787-8 Dreamliner, was en route to the United Kingdom and crashed into a building in India\\'s Meghaninager area near Ahmedabad airport, leaving 246 dead and [at least one surviving passenger](https://abcnews.go.com/International/thought-die-sole-survivor-air-india-plane-crash/story?id=122806797), local officials and the airline said. Boeing\\'s Dreamliner planes had not previously been involved in an incident where passenger fatalities were reported. [...] An investigation is underway as to what caused an Air India airliner carrying 230 passengers and 12 crew members to [crash shortly after takeoff](https://abcnews.go.com/International/air-india-plane-involved-incident-en-route-united/story?id=122762055) on Thursday. Both black boxes of the aircraft have been found on Friday, an Indian official confirmed to ABC News. [...] There were around 125,000 liters of fuel inside the aircraft, with temperatures so high that there was no opportunity to rescue the passengers, Shah said.\\\\n\\\\n![Image 5](https://i.abcnewsfe.com/a/92e2b951-025c-49f5-a22e-80c4fd96fbad/air-india-9-gty-gmh-250613_1749819388320_hpMain.jpg)\\\\n\\\\nRescue officials carry a victim\\'s body at the site where Air India flight 171 crashed in a residential area near the airport in Ahmedabad on June 12, 2025.\\\\n\\\\nSam Panthaky/AFP via Getty Images\", \"score\": 0.8945781}, {\"title\": \"Air India black box recovered a day after deadly crash | AP News\", \"url\": \"https://apnews.com/article/air-india-plane-crash-ahmedabad-survivor-boeing-787-18a1e45cb65bd716d6529b8922cc94b7\", \"content\": \"[](https://apnews.com/live/air-india-plane-crash-ai171-ahmedabad-london)[Air India crash: Plane headed to London crashes with 241 dead An Air India passenger plane bound for London and carrying more than 240 people crashed into a medical college after takeoff Thursday in Ahmedabad, India, officials said.AP News](https://apnews.com/live/air-india-plane-crash-ai171-ahmedabad-london)\\\\n\\\\nUndo [...] Read More\\\\n\\\\nModi is scheduled to hold a meeting with senior officials later Friday. He also met some of those injured on the ground during the hospital visit.\\\\n\\\\nThursday’s Air India crash involved a 12-year-old Boeing 787. Boeing planes have been [plagued by safety issues](https://apnews.com/article/boeing-aviation-aircraft-air-india-crash-f12b20e65dc57ae655a1e0759b58938f) on other types of aircraft. [...] [![Image 23: Air India AI 171 passenger flight crashes in Ahmedabad](https://dims.apnews.com/dims4/default/3dde56d/2147483647/strip/false/crop/4160x3120+0+0/resize/1486x1115!/quality/90/?url=https%3A%2F%2Fassets.apnews.com%2Fd2%2Fca%2F404ae9ac47ebb70c7339d6773c4c%2Fap25163341095177-1.jpg)](https://apnews.com/article/india-plane-crash-cad8dad5cd0e92795b03d357404af5f8)\", \"score\": 0.8891543}, {\"title\": \"Who are the victims of the Air India plane crash? - BBC\", \"url\": \"https://www.bbc.com/news/articles/cdd28legnzvo\", \"content\": \"There were 242 passengers and crew on board the plane, including 169 Indian nationals, 53 Britons, seven Portuguese nationals and one Canadian.\\\\n\\\\nOfficials earlier said some local people would also have died, given the populated area of Ahmedabad where the plane came down.\\\\n\\\\nOne passenger, [British national Vishwashkumar Ramesh](https://www.bbc.co.uk/news/articles/ce3v6drp96zo), survived the crash and was treated in hospital for injuries. [...] ![Image 1: Reuters The tail of an Air India Boeing 787 Dreamliner is seen lodged in a building after the crash in Ahmedabad](https://ichef.bbci.co.uk/news/480/cpsprodpb/b5e5/live/bbc6c750-47b3-11f0-96d7-795fe3aefdde.jpg.webp)Reuters\\\\n\\\\nAlmost all those on board an Air India flight bound for London Gatwick Airport that crashed shortly after take-off in western India have died, the airline has confirmed.\", \"score\": 0.83549726}]', name='tavily_search_results_json', id='937d0655-1c39-4c10-ac1d-fd37b5cf4b0f', tool_call_id='call_uq2I7qnrazKksGSvScxG6vE4', artifact={'query': 'Air India crash', 'follow_up_questions': None, 'answer': None, 'images': [], 'results': [{'url': 'https://abcnews.go.com/International/air-india-plane-crash-investigation-underway-black-boxes/story?id=122809083', 'title': 'Air India plane crash: Investigation underway, black boxes found', 'content': \"The plane, a Boeing 787-8 Dreamliner, was en route to the United Kingdom and crashed into a building in India's Meghaninager area near Ahmedabad airport, leaving 246 dead and [at least one surviving passenger](https://abcnews.go.com/International/thought-die-sole-survivor-air-india-plane-crash/story?id=122806797), local officials and the airline said. Boeing's Dreamliner planes had not previously been involved in an incident where passenger fatalities were reported. [...] An investigation is underway as to what caused an Air India airliner carrying 230 passengers and 12 crew members to [crash shortly after takeoff](https://abcnews.go.com/International/air-india-plane-involved-incident-en-route-united/story?id=122762055) on Thursday. Both black boxes of the aircraft have been found on Friday, an Indian official confirmed to ABC News. [...] There were around 125,000 liters of fuel inside the aircraft, with temperatures so high that there was no opportunity to rescue the passengers, Shah said.\\n\\n![Image 5](https://i.abcnewsfe.com/a/92e2b951-025c-49f5-a22e-80c4fd96fbad/air-india-9-gty-gmh-250613_1749819388320_hpMain.jpg)\\n\\nRescue officials carry a victim's body at the site where Air India flight 171 crashed in a residential area near the airport in Ahmedabad on June 12, 2025.\\n\\nSam Panthaky/AFP via Getty Images\", 'score': 0.8945781, 'raw_content': None}, {'url': 'https://apnews.com/article/air-india-plane-crash-ahmedabad-survivor-boeing-787-18a1e45cb65bd716d6529b8922cc94b7', 'title': 'Air India black box recovered a day after deadly crash | AP News', 'content': '[](https://apnews.com/live/air-india-plane-crash-ai171-ahmedabad-london)[Air India crash: Plane headed to London crashes with 241 dead An Air India passenger plane bound for London and carrying more than 240 people crashed into a medical college after takeoff Thursday in Ahmedabad, India, officials said.AP News](https://apnews.com/live/air-india-plane-crash-ai171-ahmedabad-london)\\n\\nUndo [...] Read More\\n\\nModi is scheduled to hold a meeting with senior officials later Friday. He also met some of those injured on the ground during the hospital visit.\\n\\nThursday’s Air India crash involved a 12-year-old Boeing 787. Boeing planes have been [plagued by safety issues](https://apnews.com/article/boeing-aviation-aircraft-air-india-crash-f12b20e65dc57ae655a1e0759b58938f) on other types of aircraft. [...] [![Image 23: Air India AI 171 passenger flight crashes in Ahmedabad](https://dims.apnews.com/dims4/default/3dde56d/2147483647/strip/false/crop/4160x3120+0+0/resize/1486x1115!/quality/90/?url=https%3A%2F%2Fassets.apnews.com%2Fd2%2Fca%2F404ae9ac47ebb70c7339d6773c4c%2Fap25163341095177-1.jpg)](https://apnews.com/article/india-plane-crash-cad8dad5cd0e92795b03d357404af5f8)', 'score': 0.8891543, 'raw_content': None}, {'url': 'https://www.bbc.com/news/articles/cdd28legnzvo', 'title': 'Who are the victims of the Air India plane crash? - BBC', 'content': 'There were 242 passengers and crew on board the plane, including 169 Indian nationals, 53 Britons, seven Portuguese nationals and one Canadian.\\n\\nOfficials earlier said some local people would also have died, given the populated area of Ahmedabad where the plane came down.\\n\\nOne passenger, [British national Vishwashkumar Ramesh](https://www.bbc.co.uk/news/articles/ce3v6drp96zo), survived the crash and was treated in hospital for injuries. [...] ![Image 1: Reuters The tail of an Air India Boeing 787 Dreamliner is seen lodged in a building after the crash in Ahmedabad](https://ichef.bbci.co.uk/news/480/cpsprodpb/b5e5/live/bbc6c750-47b3-11f0-96d7-795fe3aefdde.jpg.webp)Reuters\\n\\nAlmost all those on board an Air India flight bound for London Gatwick Airport that crashed shortly after take-off in western India have died, the airline has confirmed.', 'score': 0.83549726, 'raw_content': None}], 'response_time': 1.65}),\n",
       "  AIMessage(content='Several news outlets have reported on a recent Air India crash involving a Boeing 787 Dreamliner. Here are the key details compiled from various sources:\\n\\n• The aircraft, which was bound for London, crashed shortly after takeoff near Ahmedabad airport in India. Reports state that it struck a building in a densely populated area, worsening the tragedy by affecting people on the ground as well.\\n\\n• The plane had around 230–242 passengers and crew on board. The exact number has varied slightly between reports, but the vast majority of those on board did not survive. One notable account, for instance, mentioned that the aircraft had 242 people (including a mix of Indian, British, Portuguese, and Canadian nationals).\\n\\n• Investigations are currently underway. Authorities have recovered both black boxes from the wreckage, which will be critical in determining the cause of the crash.\\n\\n• In addition to the tragic loss of life on board, there were reports of casualties on the ground due to the impact in a residential area.\\n\\nAs investigations progress, more information will likely emerge regarding the factors that contributed to this devastating incident.', additional_kwargs={'refusal': None}, response_metadata={'token_usage': {'completion_tokens': 809, 'prompt_tokens': 1253, 'total_tokens': 2062, 'completion_tokens_details': {'accepted_prediction_tokens': 0, 'audio_tokens': 0, 'reasoning_tokens': 576, 'rejected_prediction_tokens': 0}, 'prompt_tokens_details': {'audio_tokens': 0, 'cached_tokens': 0}}, 'model_name': 'o3-mini-2025-01-31', 'system_fingerprint': 'fp_e20469f047', 'id': 'chatcmpl-Bi78muspnJZ9Wt3dZeuCeuMQSD9Ap', 'service_tier': 'default', 'finish_reason': 'stop', 'logprobs': None}, id='run--ac17bca2-ef57-4274-af42-8f52821b4cd9-0', usage_metadata={'input_tokens': 1253, 'output_tokens': 809, 'total_tokens': 2062, 'input_token_details': {'audio': 0, 'cache_read': 0}, 'output_token_details': {'audio': 0, 'reasoning': 576}})]}"
      ]
     },
     "execution_count": 97,
     "metadata": {},
     "output_type": "execute_result"
    }
   ],
   "source": [
    "app.invoke({'messages': \"Air India crash\"})"
   ]
  },
  {
   "cell_type": "code",
   "execution_count": null,
   "id": "46bd0de6",
   "metadata": {},
   "outputs": [
    {
     "name": "stdout",
     "output_type": "stream",
     "text": [
      "================================\u001b[1m Human Message \u001b[0m=================================\n",
      "\n",
      "first tell me about Air India ahmedabad plane crash. Second calculate 10*2\n",
      "==================================\u001b[1m Ai Message \u001b[0m==================================\n",
      "Tool Calls:\n",
      "  tavily_search_results_json (call_gVNzzMUgTG4bHJqVByO3vqsd)\n",
      " Call ID: call_gVNzzMUgTG4bHJqVByO3vqsd\n",
      "  Args:\n",
      "    query: Air India Ahmedabad plane crash\n",
      "=================================\u001b[1m Tool Message \u001b[0m=================================\n",
      "Name: tavily_search_results_json\n",
      "\n",
      "[{\"title\": \"Air India AI 171 passenger flight crashes in Ahmedabad | AP News\", \"url\": \"https://apnews.com/article/india-plane-crash-cad8dad5cd0e92795b03d357404af5f8\", \"content\": \"NEW DELHI (AP) — An Air India passenger plane bound for London with 244 people onboard crashed Thursday in India’s northwestern city of Ahmedabad, the airline and local media reported.\\n\\nVisuals on local television channels showed smoke billowing from the crash site near the airport in Ahmedabad, a city with a population of more than 5 million. [...] Faiz Ahmed Kidwai, the director general of the directorate of civil aviation, told The Associated Press that Air India flight AI 171, a Boeing 787-8, crashed into a residential area called Meghani Nagar five minutes after taking off at 1:38 pm local time.\\n\\nThere were 232 passengers and 12 crew members onboard the flight, which had been bound for London’s Gatwick Airport, Kidwai said. [...] Read More\\n\\nAir India passenger plane with 244 aboard crashes in India’s northwestern Ahmedabad city\\n\\nRead More\\n\\n1 of 4\\n\\nAn airplane crashed in India’s northwestern city of Ahmedabad in Gujarat state on Thursday, news agency the Press Trust of India reported. Air India said the crashed aircraft is Flight AI171, a passenger flight to London Gatwick airport.\\n\\nShare\\n\\n Share\", \"score\": 0.93624437}, {\"title\": \"London-bound Air India flight with more than 240 aboard ... - NPR\", \"url\": \"https://www.npr.org/2025/06/12/nx-s1-5431407/air-india-crash-ahmedabad-boeing\", \"content\": \"**Air India plane carrying more than 240 people crashes in India's Ahmedabad city****A Boeing 787 crashed into a residential area in Ahmedabad city five minutes after taking off. The flight was bound for London's Gatwick Airport. There were 232 passengers and 12 crew members onboard.**\\n\\n### [Asia](https://www.npr.org/sections/asia/)\\n\\nAir India plane carrying more than 240 people crashes in India's Ahmedabad city\\n=============================================================================== [...] Firefighters work at the site of an airplane that crashed in India's northwestern city of Ahmedabad in Gujarat state on Thursday. **Ajit Solanki/AP******hide caption****\\n\\n****toggle caption****\\n\\n Ajit Solanki/AP \\n\\nNEW DELHI — An Air India passenger plane with 244 people onboard crashed Thursday in India's northwestern city of Ahmedabad, the airline and local media reported.\\n\\nVisuals on local television channels showed smoke billowing from the crash site near the airport in Ahmedabad.\", \"score\": 0.9247491}, {\"title\": \"Live updates: Air India flight to London crashes with 242 on board\", \"url\": \"https://www.cnn.com/world/live-news/ahmedabad-india-plane-crash-06-12-25\", \"content\": \"A passenger plane has crashed at an airport in India’s western city of Ahmedabad.\\n\\nImages from the scene showed thick black smoke rising up into the sky.\\n\\nIt was not immediately clear how many people were on board or the number of casualties.\\n\\nAir India said that one of its flights bound for London was involved in an “incident.” [...] [![Image 1: Plane crash in Ahmedabad Accident during take off at Ahmedabad airport Air India plane crashes](https://media.cnn.com/api/v1/images/stellar/prod/still-21697925-0-still.jpg?q=h_128,w_128,c_fill) ChaudharyParvez/X](https://www.cnn.com/world/live-news/ahmedabad-india-plane-crash-06-12-25)[Live Updates India plane crash](https://www.cnn.com/world/live-news/ahmedabad-india-plane-crash-06-12-25) [...] “Flight AI171, operating Ahmedabad-London Gatwick, was involved in an incident today, 12 June 2025,” a statement said, adding that the airline is gathering more information and will give further updates.\\n\\n[](mailto:?subject=Plane%20crashes%20at%20airport%20in%20Ahmedabad&body=Checkout%20the%20latest%20news%20from%20CNN%3A%0Ahttps%3A%2F%2Fwww.cnn.com%2Fworld%2Flive-news%2Fahmedabad-india-plane-crash-06-12-25%23cmbt5nadv002327p53l065ujn \\\"Share with email\\\")\\n\\n Link Copied! \\n\\nAd Feedback\", \"score\": 0.9159971}]\n",
      "==================================\u001b[1m Ai Message \u001b[0m==================================\n",
      "Tool Calls:\n",
      "  multiply (call_vSpBHUn9AdsLZVFf6msIZ0TR)\n",
      " Call ID: call_vSpBHUn9AdsLZVFf6msIZ0TR\n",
      "  Args:\n",
      "    a: 10\n",
      "    b: 2\n",
      "=================================\u001b[1m Tool Message \u001b[0m=================================\n",
      "Name: multiply\n",
      "\n",
      "20\n",
      "==================================\u001b[1m Ai Message \u001b[0m==================================\n",
      "\n",
      "The Air India Ahmedabad incident refers to the crash of Air India Flight AI171. According to several reports, the Boeing 787-8 was on a London-bound route (heading to Gatwick Airport) and crashed shortly after takeoff from Ahmedabad airport. The aircraft, carrying a total of 244 people (232 passengers and 12 crew members), reportedly crashed into a residential area just minutes after leaving the airport. Local authorities and aviation officials have been gathering more details about the incident, and images from the scene showed smoke rising from the crash site. Updates on casualty figures and further investigations are expected as more information becomes available.\n",
      "\n",
      "Additionally, 10 multiplied by 2 equals 20.\n"
     ]
    }
   ],
   "source": [
    "## tool response\n",
    "msg = app.invoke({'messages': \"Air India crash\"})\n",
    "for m in msg['messages']:\n",
    "    m.pretty_print()"
   ]
  },
  {
   "cell_type": "code",
   "execution_count": null,
   "id": "a1cd4502",
   "metadata": {},
   "outputs": [],
   "source": []
  }
 ],
 "metadata": {
  "kernelspec": {
   "display_name": "Python 3",
   "language": "python",
   "name": "python3"
  },
  "language_info": {
   "codemirror_mode": {
    "name": "ipython",
    "version": 3
   },
   "file_extension": ".py",
   "mimetype": "text/x-python",
   "name": "python",
   "nbconvert_exporter": "python",
   "pygments_lexer": "ipython3",
   "version": "3.12.0"
  }
 },
 "nbformat": 4,
 "nbformat_minor": 5
}
