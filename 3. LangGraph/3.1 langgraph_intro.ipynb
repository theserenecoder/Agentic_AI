{
 "cells": [
  {
   "cell_type": "markdown",
   "id": "5d13d96b",
   "metadata": {},
   "source": [
    "## LangGraph\n",
    "\n",
    "LangGraph is a framework which is used for building adaptable AI agents. It is build on top of langchain, and provides a flexible and intutive way to build highly customizable and state agnostic multi agentic applications. It allows to define a workflow as directed acyclic graphs (DAGs), where each node in the graph represents a specific action or AI agent, and edges define the flow of control. \n",
    "\n",
    "### Core Concepts\n",
    "\n",
    "Let's break down the fundamental building blocks of a LangGraph application:\n",
    "\n",
    "1. **Graph**: The central component, representing your application's workflow as a collection of nodes and edges.\n",
    "2. **Nodes**: These are the \"actors\" or \"steps\" in your workflow. It represents any specefic action or AI agent. A node can be:\n",
    "    - An LLM call\n",
    "    - A tool invocation (e.g., a search API, a calculator)\n",
    "    - A custom Python function\n",
    "    - Another LangChain runnable\n",
    "3. **Edges**: These define the transitions between nodes. They dictate which node executes next after a particular node completes. Edges can be:\n",
    "    - **Conditional Edges**: Based on the output of a node, the graph can transition to different subsequent nodes.\n",
    "    - **Direct Edges**: Simply point from one node to the next.\n",
    "4. **State**: While LangGraph itself is state-agnostic in its node execution, you often define a shared \"graph state\" that is passed between nodes. Each node can read from and write to this state. This state is often defined as a TypedDict. Defining the State of the graph is important. It serves as the input schema for all Nodes and Edges in the graph.\n",
    "5. **Entry Point**: The designated starting node for your graph's execution.\n",
    "6. **Finish Point (END)**: A special marker signifying the conclusion of a workflow path.\n",
    "\n",
    "This notebook will guide you through the fundamental steps of constructing a graph, including defining its state, adding simple Python functions as nodes, connecting them with edges, setting a starting point, and compiling it. We'll then significantly enhance our graph by integrating external tools like WikipediaQueryRun and TavilySearchResults, and demonstrating how to wrap a custom function into a tool (In 3.2 tools notebook).\n",
    "\n",
    "\n",
    "### Step-by-Step : Building a Simple Graph\n",
    "\n",
    "Let's start with a basic graph structure as mentioned above, which initialy takes your first name as input, then adds your last name in the result. This will help us ensure our foundational understanding."
   ]
  },
  {
   "cell_type": "code",
   "execution_count": 10,
   "id": "7cd1c20c",
   "metadata": {},
   "outputs": [
    {
     "name": "stdout",
     "output_type": "stream",
     "text": [
      "Ashutosh Sharma\n"
     ]
    }
   ],
   "source": [
    "## we have created two fucntion\n",
    "## first one will take your first name as input\n",
    "def first_name(input1):\n",
    "    return input1 \n",
    "\n",
    "## in our graph return from first function will work as input for second function\n",
    "def last_name(input2):\n",
    "    return input2 + \" Sharma\"\n",
    "\n",
    "print(last_name(first_name('Ashutosh')))"
   ]
  },
  {
   "cell_type": "code",
   "execution_count": 11,
   "id": "cc7f59ee",
   "metadata": {},
   "outputs": [],
   "source": [
    "## orchestrate these function using langgraph\n",
    "from langgraph.graph import Graph\n",
    "\n",
    "## Building the graph\n",
    "workflow_name = Graph()\n",
    "## adding first_name as a node\n",
    "workflow_name.add_node('First_Name', first_name)\n",
    "## adding second name as node\n",
    "workflow_name.add_node('Last_Name', last_name)\n",
    "## adding edges from 1st function to 2nd\n",
    "## result from first node will be passed to second node\n",
    "workflow_name.add_edge('First_Name','Last_Name')\n",
    "## set the entry point of our graph\n",
    "workflow_name.set_entry_point('First_Name')\n",
    "## set the finish point\n",
    "workflow_name.set_finish_point('Last_Name')\n",
    "## compile the graph\n",
    "app = workflow_name.compile()\n"
   ]
  },
  {
   "cell_type": "code",
   "execution_count": 12,
   "id": "9675079d",
   "metadata": {},
   "outputs": [
    {
     "data": {
      "image/png": "[encoded data removed]",
      "text/plain": [
       "<langgraph.graph.graph.CompiledGraph object at 0x000002105506BD70>"
      ]
     },
     "execution_count": 12,
     "metadata": {},
     "output_type": "execute_result"
    }
   ],
   "source": [
    "app"
   ]
  },
  {
   "cell_type": "code",
   "execution_count": 13,
   "id": "2c8197b5",
   "metadata": {},
   "outputs": [
    {
     "data": {
      "text/plain": [
       "'Ashutosh Sharma'"
      ]
     },
     "execution_count": 13,
     "metadata": {},
     "output_type": "execute_result"
    }
   ],
   "source": [
    "app.invoke(\"Ashutosh\")"
   ]
  },
  {
   "cell_type": "code",
   "execution_count": 16,
   "id": "398e42d2",
   "metadata": {},
   "outputs": [
    {
     "name": "stdout",
     "output_type": "stream",
     "text": [
      "Here is output from :  First_Name\n",
      "------------------------------\n",
      "Here is output :  Shanu\n",
      "\n",
      "Here is output from :  Last_Name\n",
      "------------------------------\n",
      "Here is output :  Shanu Sharma\n",
      "\n"
     ]
    }
   ],
   "source": [
    "for output in app.stream(\"Shanu\"):\n",
    "    for key,value in output.items():\n",
    "        print(f\"Here is output from :  {key}\")\n",
    "        print(\"-\"*30)\n",
    "        print(f\"Here is output :  {value}\\n\")"
   ]
  },
  {
   "cell_type": "code",
   "execution_count": 12,
   "id": "b3071e2c",
   "metadata": {},
   "outputs": [],
   "source": [
    "from langchain_openai import ChatOpenAI"
   ]
  },
  {
   "cell_type": "code",
   "execution_count": 13,
   "id": "6df58330",
   "metadata": {},
   "outputs": [],
   "source": [
    "def llm(input):\n",
    "    model= ChatOpenAI(model='gpt-4o-mini')\n",
    "    output = model.invoke(input)\n",
    "    return output.content\n",
    "\n",
    "def token_counter(input):\n",
    "    token = str(input).split()\n",
    "    count_no = len(token)\n",
    "    return count_no"
   ]
  },
  {
   "cell_type": "code",
   "execution_count": 14,
   "id": "88e691b0",
   "metadata": {},
   "outputs": [
    {
     "data": {
      "text/plain": [
       "3"
      ]
     },
     "execution_count": 14,
     "metadata": {},
     "output_type": "execute_result"
    }
   ],
   "source": [
    "token_counter(\"This is ashu\")"
   ]
  },
  {
   "cell_type": "code",
   "execution_count": 18,
   "id": "f5a6d62a",
   "metadata": {},
   "outputs": [
    {
     "data": {
      "image/png": "[encoded data removed]",
      "text/plain": [
       "<langgraph.graph.graph.CompiledGraph object at 0x000002A4CE076570>"
      ]
     },
     "execution_count": 18,
     "metadata": {},
     "output_type": "execute_result"
    }
   ],
   "source": [
    "workflow2 = Graph()\n",
    "workflow2.add_node('LLM_Model',llm)\n",
    "workflow2.add_node('Get_Token_Counter',token_counter)\n",
    "workflow2.add_edge('LLM_Model','Get_Token_Counter')\n",
    "workflow2.set_entry_point('LLM_Model')\n",
    "workflow2.set_finish_point('Get_Token_Counter')\n",
    "app2 = workflow2.compile()\n",
    "app2"
   ]
  },
  {
   "cell_type": "code",
   "execution_count": 19,
   "id": "1f49a2bf",
   "metadata": {},
   "outputs": [
    {
     "data": {
      "text/plain": [
       "256"
      ]
     },
     "execution_count": 19,
     "metadata": {},
     "output_type": "execute_result"
    }
   ],
   "source": [
    "app2.invoke(\"What is an AI Agent?\")"
   ]
  },
  {
   "cell_type": "code",
   "execution_count": 21,
   "id": "f9a9449c",
   "metadata": {},
   "outputs": [
    {
     "name": "stdout",
     "output_type": "stream",
     "text": [
      "Here is output from :  LLM_Model\n",
      "------------------------------\n",
      "Here is output from :  An AI agent is a software entity that uses artificial intelligence techniques to perceive its environment, reason, and take actions to achieve specific goals. AI agents can autonomously make decisions based on the data they receive from their surroundings, which could include inputs from sensors, user interactions, or data sources. Here are some key characteristics of AI agents:\n",
      "\n",
      "1. **Autonomy**: AI agents can operate without human intervention to achieve their objectives.\n",
      "\n",
      "2. **Perception**: They can sense their environment through various means, such as sensors, data input, or user commands, and then interpret this information.\n",
      "\n",
      "3. **Reasoning and Learning**: Many AI agents are equipped with the ability to process the information they gather, learn from it, and improve their performance over time through techniques like machine learning.\n",
      "\n",
      "4. **Action**: Based on their reasoning, AI agents can take actions to interact with their environment, such as making recommendations, controlling devices, or performing tasks.\n",
      "\n",
      "5. **Goal-Oriented**: AI agents typically have specific goals or objectives they are designed to achieve, such as enhancing user experience, optimizing processes, or automating tasks.\n",
      "\n",
      "AI agents can take various forms, ranging from simple rule-based systems to complex algorithms capable of natural language processing, computer vision, autonomous decision-making, and more. Examples of AI agents include virtual assistants like Siri or Alexa, chatbots, recommendation systems, and autonomous vehicles.\n",
      "Here is output from :  Get_Token_Counter\n",
      "------------------------------\n",
      "Here is output from :  218\n"
     ]
    }
   ],
   "source": [
    "for output in app2.stream(\"what is an AI Agent?\"):\n",
    "    for key,value in output.items():\n",
    "        print(f\"Here is output from :  {key}\")\n",
    "        print(\"-\"*30)\n",
    "        print(f\"Here is output from :  {value}\")"
   ]
  },
  {
   "cell_type": "code",
   "execution_count": null,
   "id": "919ea203",
   "metadata": {},
   "outputs": [],
   "source": []
  }
 ],
 "metadata": {
  "kernelspec": {
   "display_name": "Python 3",
   "language": "python",
   "name": "python3"
  },
  "language_info": {
   "codemirror_mode": {
    "name": "ipython",
    "version": 3
   },
   "file_extension": ".py",
   "mimetype": "text/x-python",
   "name": "python",
   "nbconvert_exporter": "python",
   "pygments_lexer": "ipython3",
   "version": "3.12.0"
  }
 },
 "nbformat": 4,
 "nbformat_minor": 5
}
