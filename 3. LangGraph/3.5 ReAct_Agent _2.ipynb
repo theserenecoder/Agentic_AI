{
 "cells": [
  {
   "cell_type": "markdown",
   "id": "8f162a36",
   "metadata": {},
   "source": [
    "## ReAct Agent"
   ]
  },
  {
   "cell_type": "code",
   "execution_count": 1,
   "id": "e98b403f",
   "metadata": {},
   "outputs": [],
   "source": [
    "## Create a workflow\n",
    "import operator\n",
    "from typing import List, TypedDict, Annotated, Sequence\n",
    "from pydantic import BaseModel, Field\n",
    "from langchain_core.messages import BaseMessage\n",
    "from langchain_core.output_parsers import StrOutputParser\n",
    "from langchain_core.prompts import ChatPromptTemplate, PromptTemplate\n",
    "from langgraph.graph import StateGraph, MessagesState, START, END\n",
    "from langchain_core.messages import HumanMessage, AIMessage, SystemMessage\n",
    "from langgraph.prebuilt import ToolNode, tools_condition"
   ]
  },
  {
   "cell_type": "code",
   "execution_count": 2,
   "id": "0bcfb44f",
   "metadata": {},
   "outputs": [],
   "source": [
    "import os\n",
    "from dotenv import load_dotenv\n",
    "load_dotenv()\n",
    "from langchain_groq import ChatGroq\n",
    "\n",
    "## Load LLM model\n",
    "model = 'deepseek-r1-distill-llama-70b'\n",
    "llm = ChatGroq(model=model)"
   ]
  },
  {
   "cell_type": "code",
   "execution_count": 3,
   "id": "843d4ab3",
   "metadata": {},
   "outputs": [
    {
     "name": "stdout",
     "output_type": "stream",
     "text": [
      "<think>\n",
      "Okay, the user is asking about the second longest wall after the Great Wall of China and whether it's in India. They want the answer in five lines only. First, I need to confirm the actual second longest wall. I recall that the Great Wall of China is the longest, but I'm not entirely sure what's second. I think it's the Great Wall of Gorgan, also known as the Red Snake, in Iran. It's much shorter than the Great Wall of China but still significant. \n",
      "\n",
      "Now, the user is asking if it's in India. I know India has some historical structures, but none that are as long as the Great Wall of China or even the Great Wall of Gorgan. So the second longest isn't in India. I should make sure to mention that clearly. \n",
      "\n",
      "I should structure the answer to be concise, within five lines. Start by stating the second longest wall, its location, and then address the India part. Maybe mention that while India has many structures, none are the second longest. Keep it straightforward and informative without any extra details. \n",
      "\n",
      "I should also check if there's any confusion with other walls. For example, the Kumbhalgarh Fort in India has a long wall, but it's not the second longest globally. So it's important to clarify that the second spot goes to the Great Wall of Gorgan. \n",
      "\n",
      "Make sure the answer is accurate and directly addresses both parts of the question: the name of the wall and its location, and whether it's in India. Keep the language simple and to the point to fit within the five-line constraint.\n",
      "</think>\n",
      "\n",
      "The second-longest wall after the Great Wall of China is the Great Wall of Gorgan, located in Iran. It is not in India. While India has several historical walls and fortifications, none match the length of these two. The Great Wall of Gorgan is also known as the \"Red Snake\" due to its appearance. It is much shorter than the Great Wall of China but still significant historically.\n"
     ]
    }
   ],
   "source": [
    "response = llm.invoke(\"what is the second longest wall after great wall of china. Is it in India? Give output in 5 line only\")\n",
    "print(response.content)"
   ]
  },
  {
   "cell_type": "code",
   "execution_count": 4,
   "id": "bb6c4e10",
   "metadata": {},
   "outputs": [],
   "source": [
    "from langchain.tools import tool"
   ]
  },
  {
   "cell_type": "code",
   "execution_count": 5,
   "id": "2b4ccf9b",
   "metadata": {},
   "outputs": [],
   "source": [
    "@tool\n",
    "def add(a:int,b:int) -> int:\n",
    "    '''\n",
    "    Add two integers\n",
    "    \n",
    "    Args:\n",
    "        a (int): The first integer.\n",
    "        b (int): The second integer.\n",
    "\n",
    "    Returns:\n",
    "        int: The sum of a and b.\n",
    "    '''\n",
    "    pass\n",
    "\n",
    "@tool\n",
    "def multiply(a:int,b:int) -> int:\n",
    "    '''\n",
    "    Multiply two integers\n",
    "    \n",
    "    Args:\n",
    "        a (int): The first integer.\n",
    "        b (int): The second integer.\n",
    "\n",
    "    Returns:\n",
    "        int: The product of a and b.\n",
    "    '''\n",
    "    pass\n",
    "\n",
    "@tool\n",
    "def divide(a:int,b:int) -> float:\n",
    "    '''\n",
    "    divide two integers\n",
    "    \n",
    "    Args:\n",
    "        a (int): The numerator.\n",
    "        b (int): The denominator (must not be 0).\n",
    "        \n",
    "    Returns:\n",
    "        float: The result of division.\n",
    "    '''\n",
    "    pass"
   ]
  },
  {
   "cell_type": "markdown",
   "id": "76b3d48c",
   "metadata": {},
   "source": [
    "## Import the inbuilt tool"
   ]
  },
  {
   "cell_type": "code",
   "execution_count": 6,
   "id": "64da3766",
   "metadata": {},
   "outputs": [],
   "source": [
    "from langchain_community.tools import DuckDuckGoSearchRun\n",
    "\n",
    "search = DuckDuckGoSearchRun()"
   ]
  },
  {
   "cell_type": "code",
   "execution_count": 7,
   "id": "e841ceb8",
   "metadata": {},
   "outputs": [
    {
     "data": {
      "text/plain": [
       "\"Air India plane crash latest: Airline carrying out Boeing 787 safety checks as families reunited with victims Air India's Boeing 787 fleet could be grounded temporarily An Air India flight bound for London crashed shortly after taking off in the western city of Ahmedabad, killing all but one of the 242 people on board. Ahmedabad Plane Crash Updates:Investigators recovered the black box of the ill-fated Air India Boeing 787-8 Dreamliner (AI171) from the rooftop of a medical college hostel, a day after it crashed in Ahmedabad, killing 241 of the 242 on board. The Aircraft Accident Investigation Bureau confirmed the retrieval of the Digital Flight Data Recorder, key to understanding the crash. Following the ... The Air India flight fell from the sky on Thursday and killed at least 270 people in Gujarat state, officials said Saturday. All but one of the 242 people on board the London-bound flight died when it crashed into a residential area in Ahmedabad shortly after take-off.\""
      ]
     },
     "execution_count": 7,
     "metadata": {},
     "output_type": "execute_result"
    }
   ],
   "source": [
    "search.invoke('What is latest updated on Air India Crash')"
   ]
  },
  {
   "cell_type": "code",
   "execution_count": 7,
   "id": "769e988b",
   "metadata": {},
   "outputs": [],
   "source": [
    "## Tool list\n",
    "tools_list = [multiply, add, divide, search]\n",
    "## binding llm with tool\n",
    "llm_with_tool = llm.bind_tools(tools_list)"
   ]
  },
  {
   "cell_type": "code",
   "execution_count": 8,
   "id": "94af23d6",
   "metadata": {},
   "outputs": [
    {
     "name": "stdout",
     "output_type": "stream",
     "text": [
      "Hello! How can I assist you today? If you have any questions or need help with something, feel free to ask!\n",
      "[]\n"
     ]
    }
   ],
   "source": [
    "response = llm_with_tool.invoke('Hi')\n",
    "print(response.content)\n",
    "print(response.tool_calls)"
   ]
  },
  {
   "cell_type": "code",
   "execution_count": 9,
   "id": "fb75085d",
   "metadata": {},
   "outputs": [
    {
     "name": "stdout",
     "output_type": "stream",
     "text": [
      "\n",
      "[{'name': 'add', 'args': {'a': 2, 'b': 2}, 'id': '4h1ec4z8x', 'type': 'tool_call'}]\n"
     ]
    }
   ],
   "source": [
    "response = llm_with_tool.invoke('what is 2+2')\n",
    "print(response.content)\n",
    "print(response.tool_calls)"
   ]
  },
  {
   "cell_type": "code",
   "execution_count": 10,
   "id": "e42666b9",
   "metadata": {},
   "outputs": [
    {
     "name": "stdout",
     "output_type": "stream",
     "text": [
      "\n",
      "[{'name': 'duckduckgo_search', 'args': {'query': 'TATA Group founded year'}, 'id': '3taxxn45m', 'type': 'tool_call'}]\n"
     ]
    }
   ],
   "source": [
    "response = llm_with_tool.invoke('What is the current age of TATA Group')\n",
    "print(response.content)\n",
    "print(response.tool_calls)"
   ]
  },
  {
   "cell_type": "code",
   "execution_count": 11,
   "id": "37c43e2b",
   "metadata": {},
   "outputs": [],
   "source": [
    "def function_1(state: MessagesState):\n",
    "    return {'messages':[llm_with_tool.invoke(state['messages'])]}"
   ]
  },
  {
   "cell_type": "code",
   "execution_count": 12,
   "id": "a70f535f",
   "metadata": {},
   "outputs": [
    {
     "data": {
      "image/png": "[encoded data removed]",
      "text/plain": [
       "<langgraph.graph.state.CompiledStateGraph object at 0x0000017CFCCF29C0>"
      ]
     },
     "execution_count": 12,
     "metadata": {},
     "output_type": "execute_result"
    }
   ],
   "source": [
    "builder = StateGraph(MessagesState)\n",
    "builder.add_node('LLM_Deicion_Step',function_1)\n",
    "builder.add_node('tools', ToolNode(tools_list))\n",
    "builder.add_edge(START, 'LLM_Deicion_Step')\n",
    "builder.add_conditional_edges(\n",
    "    'LLM_Deicion_Step',\n",
    "    tools_condition\n",
    ")\n",
    "builder.add_edge('tools','LLM_Deicion_Step')\n",
    "app = builder.compile()\n",
    "app"
   ]
  },
  {
   "cell_type": "code",
   "execution_count": 13,
   "id": "d0209a93",
   "metadata": {},
   "outputs": [
    {
     "data": {
      "text/plain": [
       "{'messages': [HumanMessage(content='Hi', additional_kwargs={}, response_metadata={}, id='e95dabad-4adf-464d-a051-a2321b3b333e'),\n",
       "  AIMessage(content='Hello! How can I assist you today?', additional_kwargs={}, response_metadata={'token_usage': {'completion_tokens': 65, 'prompt_tokens': 388, 'total_tokens': 453, 'completion_time': 0.338333603, 'prompt_time': 0.025094585, 'queue_time': 0.22003719, 'total_time': 0.363428188}, 'model_name': 'deepseek-r1-distill-llama-70b', 'system_fingerprint': 'fp_1bbe7845ec', 'finish_reason': 'stop', 'logprobs': None}, id='run--11169eb5-07da-441e-a31f-ee582e934f3c-0', usage_metadata={'input_tokens': 388, 'output_tokens': 65, 'total_tokens': 453})]}"
      ]
     },
     "execution_count": 13,
     "metadata": {},
     "output_type": "execute_result"
    }
   ],
   "source": [
    "message = [HumanMessage(content='Hi')]\n",
    "app.invoke({'messages':message})"
   ]
  },
  {
   "cell_type": "code",
   "execution_count": 14,
   "id": "f324068d",
   "metadata": {},
   "outputs": [
    {
     "data": {
      "text/plain": [
       "{'messages': [HumanMessage(content='what is 2+2', additional_kwargs={}, response_metadata={}, id='3cae92a4-00ae-4a58-996a-bfe2e97f9cd0'),\n",
       "  AIMessage(content='', additional_kwargs={'tool_calls': [{'id': '6sj0resem', 'function': {'arguments': '{\"a\":2,\"b\":2}', 'name': 'add'}, 'type': 'function'}]}, response_metadata={'token_usage': {'completion_tokens': 274, 'prompt_tokens': 393, 'total_tokens': 667, 'completion_time': 1.043734562, 'prompt_time': 0.025445798, 'queue_time': 0.219490706, 'total_time': 1.06918036}, 'model_name': 'deepseek-r1-distill-llama-70b', 'system_fingerprint': 'fp_1bbe7845ec', 'finish_reason': 'tool_calls', 'logprobs': None}, id='run--b9b78473-b8c8-48cb-8922-0510798fe42d-0', tool_calls=[{'name': 'add', 'args': {'a': 2, 'b': 2}, 'id': '6sj0resem', 'type': 'tool_call'}], usage_metadata={'input_tokens': 393, 'output_tokens': 274, 'total_tokens': 667}),\n",
       "  ToolMessage(content='null', name='add', id='810530c4-cf9d-4f02-afd9-2f9e6a133432', tool_call_id='6sj0resem'),\n",
       "  AIMessage(content='', additional_kwargs={'tool_calls': [{'id': '6hgswh2py', 'function': {'arguments': '{\"a\":2,\"b\":2}', 'name': 'add'}, 'type': 'function'}]}, response_metadata={'token_usage': {'completion_tokens': 163, 'prompt_tokens': 445, 'total_tokens': 608, 'completion_time': 0.695969293, 'prompt_time': 0.029479688, 'queue_time': 0.219169505, 'total_time': 0.725448981}, 'model_name': 'deepseek-r1-distill-llama-70b', 'system_fingerprint': 'fp_1bbe7845ec', 'finish_reason': 'tool_calls', 'logprobs': None}, id='run--e8963277-dd54-4b6b-b2c3-c989f738690f-0', tool_calls=[{'name': 'add', 'args': {'a': 2, 'b': 2}, 'id': '6hgswh2py', 'type': 'tool_call'}], usage_metadata={'input_tokens': 445, 'output_tokens': 163, 'total_tokens': 608}),\n",
       "  ToolMessage(content='null', name='add', id='a45a370e-96e9-4f33-8163-1c412277b5c7', tool_call_id='6hgswh2py'),\n",
       "  AIMessage(content='', additional_kwargs={'tool_calls': [{'id': '9k86vs7rk', 'function': {'arguments': '{\"a\":2,\"b\":2}', 'name': 'add'}, 'type': 'function'}]}, response_metadata={'token_usage': {'completion_tokens': 184, 'prompt_tokens': 498, 'total_tokens': 682, 'completion_time': 0.837184457, 'prompt_time': 0.032387779, 'queue_time': 0.219955244, 'total_time': 0.869572236}, 'model_name': 'deepseek-r1-distill-llama-70b', 'system_fingerprint': 'fp_1bbe7845ec', 'finish_reason': 'tool_calls', 'logprobs': None}, id='run--0476ec76-62ec-41b3-a5c8-0f5bd3b01401-0', tool_calls=[{'name': 'add', 'args': {'a': 2, 'b': 2}, 'id': '9k86vs7rk', 'type': 'tool_call'}], usage_metadata={'input_tokens': 498, 'output_tokens': 184, 'total_tokens': 682}),\n",
       "  ToolMessage(content='null', name='add', id='2f6e44e7-d398-4221-bb51-9b051d899368', tool_call_id='9k86vs7rk'),\n",
       "  AIMessage(content='', additional_kwargs={'tool_calls': [{'id': 'aprr0jgp7', 'function': {'arguments': '{\"a\":2,\"b\":2}', 'name': 'add'}, 'type': 'function'}]}, response_metadata={'token_usage': {'completion_tokens': 123, 'prompt_tokens': 551, 'total_tokens': 674, 'completion_time': 0.533820674, 'prompt_time': 0.042189683, 'queue_time': 0.21946488899999997, 'total_time': 0.576010357}, 'model_name': 'deepseek-r1-distill-llama-70b', 'system_fingerprint': 'fp_1bbe7845ec', 'finish_reason': 'tool_calls', 'logprobs': None}, id='run--dcf12442-e57c-42e8-bf17-afcbe39539cd-0', tool_calls=[{'name': 'add', 'args': {'a': 2, 'b': 2}, 'id': 'aprr0jgp7', 'type': 'tool_call'}], usage_metadata={'input_tokens': 551, 'output_tokens': 123, 'total_tokens': 674}),\n",
       "  ToolMessage(content='null', name='add', id='b4a36779-6bb5-4a8e-baf5-ed376c9ed517', tool_call_id='aprr0jgp7'),\n",
       "  AIMessage(content='', additional_kwargs={'tool_calls': [{'id': '6d7c6dssw', 'function': {'arguments': '{\"a\":2,\"b\":2}', 'name': 'add'}, 'type': 'function'}]}, response_metadata={'token_usage': {'completion_tokens': 344, 'prompt_tokens': 604, 'total_tokens': 948, 'completion_time': 1.448710588, 'prompt_time': 0.040104884, 'queue_time': 0.219966078, 'total_time': 1.488815472}, 'model_name': 'deepseek-r1-distill-llama-70b', 'system_fingerprint': 'fp_1bbe7845ec', 'finish_reason': 'tool_calls', 'logprobs': None}, id='run--0954abe8-2796-422a-a884-e03d68c7fe9f-0', tool_calls=[{'name': 'add', 'args': {'a': 2, 'b': 2}, 'id': '6d7c6dssw', 'type': 'tool_call'}], usage_metadata={'input_tokens': 604, 'output_tokens': 344, 'total_tokens': 948}),\n",
       "  ToolMessage(content='null', name='add', id='4b150f52-0307-4392-afbe-ea2a56be5781', tool_call_id='6d7c6dssw'),\n",
       "  AIMessage(content='', additional_kwargs={'tool_calls': [{'id': 'rbapk4fwv', 'function': {'arguments': '{\"a\":2,\"b\":2}', 'name': 'add'}, 'type': 'function'}]}, response_metadata={'token_usage': {'completion_tokens': 129, 'prompt_tokens': 659, 'total_tokens': 788, 'completion_time': 0.617067695, 'prompt_time': 0.042687563, 'queue_time': 0.21978425900000004, 'total_time': 0.659755258}, 'model_name': 'deepseek-r1-distill-llama-70b', 'system_fingerprint': 'fp_1bbe7845ec', 'finish_reason': 'tool_calls', 'logprobs': None}, id='run--ce11b101-62da-45c5-a6dc-3f1f8024bb34-0', tool_calls=[{'name': 'add', 'args': {'a': 2, 'b': 2}, 'id': 'rbapk4fwv', 'type': 'tool_call'}], usage_metadata={'input_tokens': 659, 'output_tokens': 129, 'total_tokens': 788}),\n",
       "  ToolMessage(content='null', name='add', id='2212cd46-f4bd-4a1e-bf7e-162f23163bb8', tool_call_id='rbapk4fwv'),\n",
       "  AIMessage(content='The result of adding 2 and 2 is 4.', additional_kwargs={}, response_metadata={'token_usage': {'completion_tokens': 359, 'prompt_tokens': 711, 'total_tokens': 1070, 'completion_time': 1.322530529, 'prompt_time': 0.053426267, 'queue_time': 0.219232844, 'total_time': 1.375956796}, 'model_name': 'deepseek-r1-distill-llama-70b', 'system_fingerprint': 'fp_1bbe7845ec', 'finish_reason': 'stop', 'logprobs': None}, id='run--5fbba4b5-88ed-43e2-9df4-1a1b628fa652-0', usage_metadata={'input_tokens': 711, 'output_tokens': 359, 'total_tokens': 1070})]}"
      ]
     },
     "execution_count": 14,
     "metadata": {},
     "output_type": "execute_result"
    }
   ],
   "source": [
    "message = [HumanMessage(content='what is 2+2')]\n",
    "app.invoke({'messages':message})"
   ]
  },
  {
   "cell_type": "code",
   "execution_count": 15,
   "id": "0a177624",
   "metadata": {},
   "outputs": [],
   "source": [
    "SYSTEM_PROMPT = \"You are a helpful assistant taked with using search and performing airthmetic operations on a set of inputs\""
   ]
  },
  {
   "cell_type": "code",
   "execution_count": 16,
   "id": "30e5ecf7",
   "metadata": {},
   "outputs": [],
   "source": [
    "def function_1(state:MessagesState) :\n",
    "    \n",
    "    user_question = state['messages']\n",
    "    print(user_question)\n",
    "    input_question = [SYSTEM_PROMPT] + user_question\n",
    "    print(input_question)\n",
    "    \n",
    "    response = llm_with_tool.invoke(input_question)\n",
    "    \n",
    "    return {'messages':[response]}"
   ]
  },
  {
   "cell_type": "code",
   "execution_count": 23,
   "id": "95b7ef45",
   "metadata": {},
   "outputs": [],
   "source": [
    "import operator\n",
    "from typing import List, TypedDict, Annotated, Sequence\n",
    "from pydantic import BaseModel, Field\n",
    "from langchain_core.messages import BaseMessage\n",
    "from langchain_core.output_parsers import StrOutputParser\n",
    "from langchain_core.prompts import ChatPromptTemplate, PromptTemplate\n",
    "from langgraph.graph import StateGraph, MessagesState, START, END\n",
    "from langchain_core.messages import HumanMessage, AIMessage\n",
    "from langgraph.prebuilt import ToolNode"
   ]
  },
  {
   "cell_type": "code",
   "execution_count": 17,
   "id": "a54149fc",
   "metadata": {},
   "outputs": [
    {
     "data": {
      "image/png": "[encoded data removed]",
      "text/plain": [
       "<langgraph.graph.state.CompiledStateGraph object at 0x0000017CFCCF2780>"
      ]
     },
     "execution_count": 17,
     "metadata": {},
     "output_type": "execute_result"
    }
   ],
   "source": [
    "\n",
    "## Workflow\n",
    "builder2 = StateGraph(MessagesState)\n",
    "builder2.add_node('LLM_Deicion_Step',function_1)\n",
    "builder2.add_node('tools', ToolNode(tools_list))\n",
    "builder2.add_edge(START, 'LLM_Deicion_Step')\n",
    "builder2.add_conditional_edges(\n",
    "    'LLM_Deicion_Step',\n",
    "    tools_condition\n",
    ")\n",
    "builder2.add_edge('tools','LLM_Deicion_Step')\n",
    "app2 = builder.compile()\n",
    "app2"
   ]
  },
  {
   "cell_type": "code",
   "execution_count": 18,
   "id": "fc3734b1",
   "metadata": {},
   "outputs": [
    {
     "data": {
      "text/plain": [
       "AIMessage(content='', additional_kwargs={'tool_calls': [{'id': 'secz5nkf7', 'function': {'arguments': '{\"a\":73,\"b\":2}', 'name': 'multiply'}, 'type': 'function'}]}, response_metadata={'token_usage': {'completion_tokens': 368, 'prompt_tokens': 399, 'total_tokens': 767, 'completion_time': 1.338181818, 'prompt_time': 0.025785346, 'queue_time': 0.21989324799999999, 'total_time': 1.363967164}, 'model_name': 'deepseek-r1-distill-llama-70b', 'system_fingerprint': 'fp_1bbe7845ec', 'finish_reason': 'tool_calls', 'logprobs': None}, id='run--c9f05aaf-eeed-487a-9087-8e3ae19fb3c1-0', tool_calls=[{'name': 'multiply', 'args': {'a': 73, 'b': 2}, 'id': 'secz5nkf7', 'type': 'tool_call'}], usage_metadata={'input_tokens': 399, 'output_tokens': 368, 'total_tokens': 767})"
      ]
     },
     "execution_count": 18,
     "metadata": {},
     "output_type": "execute_result"
    }
   ],
   "source": [
    "llm_with_tool.invoke('What is the 2 times of narendra modi age')"
   ]
  },
  {
   "cell_type": "code",
   "execution_count": 19,
   "id": "bb1e058e",
   "metadata": {},
   "outputs": [
    {
     "data": {
      "text/plain": [
       "{'messages': [HumanMessage(content='What is the 2 times of narendra modi age', additional_kwargs={}, response_metadata={}, id='7c24b94c-bca8-4778-8462-8ce8638e8c01'),\n",
       "  AIMessage(content='', additional_kwargs={'tool_calls': [{'id': 'h4vzk8ds1', 'function': {'arguments': '{\"query\":\"Narendra Modi age\"}', 'name': 'duckduckgo_search'}, 'type': 'function'}]}, response_metadata={'token_usage': {'completion_tokens': 332, 'prompt_tokens': 399, 'total_tokens': 731, 'completion_time': 1.344096814, 'prompt_time': 0.032224979, 'queue_time': 0.220424939, 'total_time': 1.376321793}, 'model_name': 'deepseek-r1-distill-llama-70b', 'system_fingerprint': 'fp_1bbe7845ec', 'finish_reason': 'tool_calls', 'logprobs': None}, id='run--eac0ef91-50ad-4053-a207-022c37c798dd-0', tool_calls=[{'name': 'duckduckgo_search', 'args': {'query': 'Narendra Modi age'}, 'id': 'h4vzk8ds1', 'type': 'tool_call'}], usage_metadata={'input_tokens': 399, 'output_tokens': 332, 'total_tokens': 731}),\n",
       "  ToolMessage(content='Narendra Modi is the 14th prime minister of India. His Hindu nationalist policies and some of his economic reforms have proved controversial to many within and outside India. ... September 17, 1950, Vadnagar, India (age 74) (Show more) Title / Office: prime minister (2014-), India (Show more) Political Affiliation: Bharatiya Janata Party ... List of all Prime Ministers of India till 2025: Narendra Modi is the current and 14th Prime Minister of India who assumed office on 10 June 2024. Jawaharlal Nehru is the first and the longest ... Learn about the life and achievements of Narendra Modi, the current Prime Minister of India, who was born on September 17, 1950, in Gujarat. Find out his full name, constituency, education, and political journey from a humble background to a prominent leader. Narendra Modi biography. Here are 20 key details about Narendra Modi: Full Name: Narendra Damodardas Modi.; Date of Birth: September 17, 1950.; Birthplace: Vadnagar, Gujarat, India. Current Position: Prime Minister of India, serving since May 26, 2014. Political Party: Bharatiya Janata Party (BJP). Previous Role: Chief Minister of Gujarat from October 2001 to May 2014. Learn about the life and achievements of Narendra Modi, the 14th Prime Minister of India, who was born on September 17, 1950, in Gujarat. Find out his full name, mother, father, wife, education, party, and net worth here.', name='duckduckgo_search', id='ccdd553d-2b6a-48bf-8c9e-b8c40dd38705', tool_call_id='h4vzk8ds1'),\n",
       "  AIMessage(content='The current age of Narendra Modi is 74 years. To find \"2 times of Narendra Modi\\'s age,\" we multiply his age by 2:\\n\\n\\\\[ 74 \\\\times 2 = 148 \\\\]\\n\\nSo, 2 times Narendra Modi\\'s age is **148**.', additional_kwargs={}, response_metadata={'token_usage': {'completion_tokens': 220, 'prompt_tokens': 790, 'total_tokens': 1010, 'completion_time': 0.806824731, 'prompt_time': 0.051132272, 'queue_time': 0.22288217899999999, 'total_time': 0.857957003}, 'model_name': 'deepseek-r1-distill-llama-70b', 'system_fingerprint': 'fp_1bbe7845ec', 'finish_reason': 'stop', 'logprobs': None}, id='run--7e782937-8584-4762-85a2-f6135fda4302-0', usage_metadata={'input_tokens': 790, 'output_tokens': 220, 'total_tokens': 1010})]}"
      ]
     },
     "execution_count": 19,
     "metadata": {},
     "output_type": "execute_result"
    }
   ],
   "source": [
    "message = [HumanMessage(content='What is the 2 times of narendra modi age')]\n",
    "app2.invoke({'messages':message})"
   ]
  },
  {
   "cell_type": "code",
   "execution_count": 20,
   "id": "3e5a392e",
   "metadata": {},
   "outputs": [
    {
     "name": "stdout",
     "output_type": "stream",
     "text": [
      "================================\u001b[1m Human Message \u001b[0m=================================\n",
      "\n",
      "What is the speed of light in m/s and multiply it by 10?\n",
      "==================================\u001b[1m Ai Message \u001b[0m==================================\n",
      "Tool Calls:\n",
      "  multiply (j27nqxyrr)\n",
      " Call ID: j27nqxyrr\n",
      "  Args:\n",
      "    a: 299792458\n",
      "    b: 10\n",
      "=================================\u001b[1m Tool Message \u001b[0m=================================\n",
      "Name: multiply\n",
      "\n",
      "null\n",
      "==================================\u001b[1m Ai Message \u001b[0m==================================\n",
      "Tool Calls:\n",
      "  multiply (2hseqw9na)\n",
      " Call ID: 2hseqw9na\n",
      "  Args:\n",
      "    a: 299792458\n",
      "    b: 10\n",
      "=================================\u001b[1m Tool Message \u001b[0m=================================\n",
      "Name: multiply\n",
      "\n",
      "null\n",
      "==================================\u001b[1m Ai Message \u001b[0m==================================\n",
      "Tool Calls:\n",
      "  multiply (hw8psh1m8)\n",
      " Call ID: hw8psh1m8\n",
      "  Args:\n",
      "    a: 299792458\n",
      "    b: 10\n",
      "=================================\u001b[1m Tool Message \u001b[0m=================================\n",
      "Name: multiply\n",
      "\n",
      "null\n",
      "==================================\u001b[1m Ai Message \u001b[0m==================================\n",
      "\n",
      "The speed of light in meters per second is approximately \\(299,792,458 \\, \\text{m/s}\\). Multiplying this value by 10 gives:\n",
      "\n",
      "\\[\n",
      "299,792,458 \\times 10 = 2,997,924,580 \\, \\text{m/s}\n",
      "\\]\n",
      "\n",
      "So, the result is **2,997,924,580 m/s**.\n"
     ]
    }
   ],
   "source": [
    "message = [HumanMessage(content=\"What is the speed of light in m/s and multiply it by 10?\")]\n",
    "response = app2.invoke({'messages':message})\n",
    "\n",
    "for m in response['messages']:\n",
    "    m.pretty_print()"
   ]
  },
  {
   "cell_type": "code",
   "execution_count": 23,
   "id": "36816194",
   "metadata": {},
   "outputs": [],
   "source": [
    "from langchain_openai import ChatOpenAI\n",
    "import yfinance as yf\n",
    "\n",
    "llm_openai = ChatOpenAI(model = 'o3-mini')"
   ]
  },
  {
   "cell_type": "code",
   "execution_count": 22,
   "id": "8f8455ac",
   "metadata": {},
   "outputs": [
    {
     "data": {
      "text/plain": [
       "AIMessage(content='Hello there! How can I assist you today?', additional_kwargs={'refusal': None}, response_metadata={'token_usage': {'completion_tokens': 87, 'prompt_tokens': 7, 'total_tokens': 94, 'completion_tokens_details': {'accepted_prediction_tokens': 0, 'audio_tokens': 0, 'reasoning_tokens': 64, 'rejected_prediction_tokens': 0}, 'prompt_tokens_details': {'audio_tokens': 0, 'cached_tokens': 0}}, 'model_name': 'o3-mini-2025-01-31', 'system_fingerprint': 'fp_e20469f047', 'id': 'chatcmpl-BjIeFfi7tC7B8NyffCkX5CnlTcTSk', 'service_tier': 'default', 'finish_reason': 'stop', 'logprobs': None}, id='run--02a8fad3-3518-4097-a68c-1fd1d9a08a65-0', usage_metadata={'input_tokens': 7, 'output_tokens': 87, 'total_tokens': 94, 'input_token_details': {'audio': 0, 'cache_read': 0}, 'output_token_details': {'audio': 0, 'reasoning': 64}})"
      ]
     },
     "execution_count": 22,
     "metadata": {},
     "output_type": "execute_result"
    }
   ],
   "source": [
    "llm_openai.invoke('Hi')"
   ]
  },
  {
   "cell_type": "code",
   "execution_count": null,
   "id": "2871e611",
   "metadata": {},
   "outputs": [
    {
     "data": {
      "text/plain": [
       "474.96"
      ]
     },
     "execution_count": 27,
     "metadata": {},
     "output_type": "execute_result"
    }
   ],
   "source": [
    "dat = yf.Ticker('MSFT')\n",
    "\n"
   ]
  },
  {
   "cell_type": "code",
   "execution_count": 28,
   "id": "b06db425",
   "metadata": {},
   "outputs": [],
   "source": [
    "@tool\n",
    "def get_stock_price(ticker:str) -> str:\n",
    "    '''\n",
    "    Fetches the previous closing price of a given stock ticker from Yahoo Finance.\n",
    "    \n",
    "    Args:\n",
    "        ticker (str) : The stock ticker symbol (e.g., 'AAPL', 'TSLA', 'NIFTY.BO')\n",
    "        \n",
    "    Returns:\n",
    "        str : A message with the stock's previous closing price\n",
    "    '''\n",
    "    \n",
    "    try:\n",
    "        stock = yf.Ticker(ticker)\n",
    "        price = stock.info['previousClose']\n",
    "        if price is None:\n",
    "            return f'Could not fetch price for ticker {ticker}'\n",
    "        return f'The last closing price of {ticker.upper()} was ${price:.2f}'\n",
    "    except Exception as e:\n",
    "        return f'An error occured while fetching the price : {e}'"
   ]
  },
  {
   "cell_type": "code",
   "execution_count": 29,
   "id": "dbaf31d8",
   "metadata": {},
   "outputs": [
    {
     "name": "stderr",
     "output_type": "stream",
     "text": [
      "C:\\Users\\ashut\\AppData\\Local\\Temp\\ipykernel_37704\\3955064537.py:1: LangChainDeprecationWarning: The method `BaseTool.__call__` was deprecated in langchain-core 0.1.47 and will be removed in 1.0. Use :meth:`~invoke` instead.\n",
      "  get_stock_price('AAPL')\n"
     ]
    },
    {
     "data": {
      "text/plain": [
       "'The last closing price of AAPL was $196.45'"
      ]
     },
     "execution_count": 29,
     "metadata": {},
     "output_type": "execute_result"
    }
   ],
   "source": [
    "get_stock_price('AAPL')"
   ]
  },
  {
   "cell_type": "code",
   "execution_count": 30,
   "id": "6f3dac84",
   "metadata": {},
   "outputs": [],
   "source": [
    "tools_list = [multiply, add, divide, search, get_stock_price]\n",
    "\n",
    "openai_llm_with_tool= llm_openai.bind_tools(tools_list)"
   ]
  },
  {
   "cell_type": "code",
   "execution_count": 31,
   "id": "b024cfc0",
   "metadata": {},
   "outputs": [],
   "source": [
    "response = openai_llm_with_tool.invoke('what is the latest stock price for adani greens')"
   ]
  },
  {
   "cell_type": "code",
   "execution_count": 32,
   "id": "71446877",
   "metadata": {},
   "outputs": [
    {
     "data": {
      "text/plain": [
       "''"
      ]
     },
     "execution_count": 32,
     "metadata": {},
     "output_type": "execute_result"
    }
   ],
   "source": [
    "response.content"
   ]
  },
  {
   "cell_type": "code",
   "execution_count": 33,
   "id": "f79989f1",
   "metadata": {},
   "outputs": [
    {
     "data": {
      "text/plain": [
       "[{'name': 'get_stock_price',\n",
       "  'args': {'ticker': 'ADANIGREEN'},\n",
       "  'id': 'call_uOoIEvYxgCkgSlraK9NvZRzU',\n",
       "  'type': 'tool_call'}]"
      ]
     },
     "execution_count": 33,
     "metadata": {},
     "output_type": "execute_result"
    }
   ],
   "source": [
    "response.tool_calls"
   ]
  },
  {
   "cell_type": "code",
   "execution_count": 34,
   "id": "a17a24e2",
   "metadata": {},
   "outputs": [],
   "source": [
    "SYSTEM_PROMPT = SystemMessage(\n",
    "    content = 'You are a helpful financial assistant tasked with using the search, yahoo finance tool and performing airthmatic on a set of inputs.'\n",
    ")\n",
    "\n",
    "def function_tool(state:MessagesState):\n",
    "    \n",
    "    user_question = state['messages']\n",
    "    \n",
    "    input_question = [SYSTEM_PROMPT] + user_question\n",
    "    \n",
    "    response = openai_llm_with_tool.invoke(input_question)\n",
    "    \n",
    "    return {'messages': [response]}"
   ]
  },
  {
   "cell_type": "code",
   "execution_count": 35,
   "id": "9369f717",
   "metadata": {},
   "outputs": [
    {
     "data": {
      "image/png": "[encoded data removed]",
      "text/plain": [
       "<langgraph.graph.state.CompiledStateGraph object at 0x0000017C9FECC3B0>"
      ]
     },
     "execution_count": 35,
     "metadata": {},
     "output_type": "execute_result"
    }
   ],
   "source": [
    "## grapgh\n",
    "workflow = StateGraph(MessagesState)\n",
    "workflow.add_node('LLM_Decision_Step', function_tool)\n",
    "workflow.add_node('tools', ToolNode(tools_list))\n",
    "workflow.add_edge(START,'LLM_Decision_Step')\n",
    "workflow.add_conditional_edges(\n",
    "    'LLM_Decision_Step',\n",
    "    tools_condition\n",
    ")\n",
    "workflow.add_edge('tools','LLM_Decision_Step')\n",
    "app3 = workflow.compile()\n",
    "app3"
   ]
  },
  {
   "cell_type": "code",
   "execution_count": 36,
   "id": "f3e2f1e4",
   "metadata": {},
   "outputs": [],
   "source": [
    "message = [HumanMessage(content='add $1000 in current price of Apple')]\n",
    "response = app3.invoke({'messages':message})"
   ]
  },
  {
   "cell_type": "code",
   "execution_count": 37,
   "id": "4e5f3725",
   "metadata": {},
   "outputs": [
    {
     "name": "stdout",
     "output_type": "stream",
     "text": [
      "================================\u001b[1m Human Message \u001b[0m=================================\n",
      "\n",
      "add $1000 in current price of Apple\n",
      "==================================\u001b[1m Ai Message \u001b[0m==================================\n",
      "Tool Calls:\n",
      "  get_stock_price (call_lPjOdBLWIsuC9j63jGq3AjhP)\n",
      " Call ID: call_lPjOdBLWIsuC9j63jGq3AjhP\n",
      "  Args:\n",
      "    ticker: AAPL\n",
      "=================================\u001b[1m Tool Message \u001b[0m=================================\n",
      "Name: get_stock_price\n",
      "\n",
      "The last closing price of AAPL was $196.45\n",
      "==================================\u001b[1m Ai Message \u001b[0m==================================\n",
      "\n",
      "The last closing price of Apple is $196.45. When you add $1000 to that, the total comes to $1,196.45.\n"
     ]
    }
   ],
   "source": [
    "for m in response['messages']:\n",
    "    m.pretty_print()"
   ]
  },
  {
   "cell_type": "code",
   "execution_count": 40,
   "id": "071f3e68",
   "metadata": {},
   "outputs": [],
   "source": [
    "message = [HumanMessage(content=\"can you give me 2 times of current stock price of Apple with the latest news of the Apple.\")]\n",
    "response = app3.invoke({'messages':message})"
   ]
  },
  {
   "cell_type": "code",
   "execution_count": 41,
   "id": "d52dbad4",
   "metadata": {},
   "outputs": [
    {
     "name": "stdout",
     "output_type": "stream",
     "text": [
      "================================\u001b[1m Human Message \u001b[0m=================================\n",
      "\n",
      "can you give me 2 times of current stock price of Apple with the latest news of the Apple.\n",
      "==================================\u001b[1m Ai Message \u001b[0m==================================\n",
      "Tool Calls:\n",
      "  get_stock_price (call_FqN3ZBxrjtNEWcD4Nc3bFZh6)\n",
      " Call ID: call_FqN3ZBxrjtNEWcD4Nc3bFZh6\n",
      "  Args:\n",
      "    ticker: AAPL\n",
      "=================================\u001b[1m Tool Message \u001b[0m=================================\n",
      "Name: get_stock_price\n",
      "\n",
      "The last closing price of AAPL was $196.45\n",
      "==================================\u001b[1m Ai Message \u001b[0m==================================\n",
      "Tool Calls:\n",
      "  duckduckgo_search (call_qsvKR9gku41S2ovTj9LbXyRY)\n",
      " Call ID: call_qsvKR9gku41S2ovTj9LbXyRY\n",
      "  Args:\n",
      "    query: Apple latest news\n",
      "=================================\u001b[1m Tool Message \u001b[0m=================================\n",
      "Name: duckduckgo_search\n",
      "\n",
      "At today's WWDC 2025 keynote event, Apple unveiled a new design that will inform the next decade of iOS, iPadOS, and macOS development, so needless to say, it was a busy day. Apple also unveiled a ... The Apple Watch, which just turned 10 (hbd, buddy), has some new updates powered by Apple Intelligence. There is a new wrist flick gesture, a pimped out Liquid Glass overhaul, and live ... So, Apple just held its annual WWDC conference where it announces all the new software for the next year. And the company proudly announced the next version of iOS for the iPhone, iOS 26. Get the latest news and share tips for making better decisions for your financial future. ... Apple's \"gorgeous new design,\" for all its platforms is the first major overhaul since iOS 7. It's ... CUPERTINO, CALIFORNIA Apple today previewed a beautiful new software design that makes apps and system experiences more expressive and delightful while being instantly familiar. It's crafted with a new material called Liquid Glass. This translucent material reflects and refracts its surroundings, while dynamically transforming to help bring greater focus to content, delivering a new level of ...\n",
      "==================================\u001b[1m Ai Message \u001b[0m==================================\n",
      "\n",
      "The last closing price of AAPL was $196.45, so doubling that gives approximately $392.90. \n",
      "\n",
      "In recent news, at today's WWDC 2025 keynote event, Apple unveiled a gorgeous new design that will shape the next decade of iOS, iPadOS, and macOS development. They also introduced updates for the Apple Watch, including features powered by Apple Intelligence such as a new wrist flick gesture and a refreshed liquid glass design. Additionally, Apple's annual conference highlighted the announcement of iOS 26, marking a significant evolution in its software ecosystem.\n"
     ]
    }
   ],
   "source": [
    "for m in response['messages']:\n",
    "    m.pretty_print()"
   ]
  }
 ],
 "metadata": {
  "kernelspec": {
   "display_name": "Python 3",
   "language": "python",
   "name": "python3"
  },
  "language_info": {
   "codemirror_mode": {
    "name": "ipython",
    "version": 3
   },
   "file_extension": ".py",
   "mimetype": "text/x-python",
   "name": "python",
   "nbconvert_exporter": "python",
   "pygments_lexer": "ipython3",
   "version": "3.12.0"
  }
 },
 "nbformat": 4,
 "nbformat_minor": 5
}
