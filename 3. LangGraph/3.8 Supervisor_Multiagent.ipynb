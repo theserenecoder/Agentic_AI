{
 "cells": [
  {
   "cell_type": "markdown",
   "id": "5dcf6b3d",
   "metadata": {},
   "source": [
    "### Supervisor Multi Agent\n"
   ]
  },
  {
   "cell_type": "code",
   "execution_count": 1,
   "id": "fd86aa99",
   "metadata": {},
   "outputs": [],
   "source": [
    "from dotenv import load_dotenv\n",
    "load_dotenv()\n",
    "from langchain_openai import ChatOpenAI, OpenAIEmbeddings\n",
    "from langchain_groq import ChatGroq"
   ]
  },
  {
   "cell_type": "code",
   "execution_count": 2,
   "id": "354dc6c9",
   "metadata": {},
   "outputs": [],
   "source": [
    "## Load LLM model\n",
    "model = 'qwen/qwen3-32b'\n",
    "llm = ChatGroq(model=model)"
   ]
  },
  {
   "cell_type": "code",
   "execution_count": 3,
   "id": "2e9c5940",
   "metadata": {},
   "outputs": [
    {
     "data": {
      "text/plain": [
       "'<think>\\nOkay, so the user is asking \"What is the capital of France?\" Let me think. I know that France is a country in Europe, and capitals are usually the main cities where the government is located. The most famous cities in France include Paris, Lyon, Marseille, and maybe Bordeaux? But which one is the capital?\\n\\nI remember from school that Paris is the capital. Wait, is there any chance it\\'s another city? Maybe I should double-check. Let me recall some other facts. Paris is known for the Eiffel Tower, the Louvre, and being a cultural hub. Yes, that\\'s right. Also, the French government is based in Paris, with institutions like the Élysée Palace where the president works. \\n\\nI think I\\'ve heard before that sometimes people confuse Lyon or Marseille as the capital, but no, those are major cities but not capitals. Let me confirm another way. If I think about the country\\'s map, France is in Western Europe, bordered by countries like Belgium, Spain, Germany. The capital should be in a central location. Paris is located in the northern part, which makes sense because it\\'s near the border with Belgium and Germany, but still central enough. \\n\\nWait, another angle: in international organizations, the headquarters of some are in Paris. For example, UNESCO has its headquarters there. Also, the headquarters of the OECD (Organisation for Economic Co-operation and Development) is in Paris. That seems to support that Paris is the capital. \\n\\nIs there any other city that could be the capital? Let me think again. Maybe Strasbourg? Oh, wait, Strasbourg is home to the European Parliament, but that\\'s part of the EU institutions, not the French capital. So no, that\\'s different. \\n\\nI think I\\'m confident that the answer is Paris. Let me just make sure there\\'s no recent change or something I\\'m not aware of. I don\\'t recall any news about France changing its capital. So yeah, the capital of France is Paris.\\n</think>\\n\\nThe capital of France is **Paris**. It is the largest city in France and serves as the political, economic, and cultural center of the country. Paris is renowned for landmarks such as the Eiffel Tower, the Louvre Museum, and the Notre-Dame Cathedral.'"
      ]
     },
     "execution_count": 3,
     "metadata": {},
     "output_type": "execute_result"
    }
   ],
   "source": [
    "llm.invoke(\"What is the capital of France\").content"
   ]
  },
  {
   "cell_type": "code",
   "execution_count": 4,
   "id": "bd74da78",
   "metadata": {},
   "outputs": [],
   "source": [
    "import os\n",
    "from langchain_community.tools.tavily_search import TavilySearchResults\n",
    "tavily_tool = TavilySearchResults(max_result =3)"
   ]
  },
  {
   "cell_type": "code",
   "execution_count": 5,
   "id": "56dd8e73",
   "metadata": {},
   "outputs": [],
   "source": [
    "code = '''\n",
    "x=10\n",
    "y=x+10\n",
    "print(y)\n",
    "'''"
   ]
  },
  {
   "cell_type": "code",
   "execution_count": 6,
   "id": "3509b728",
   "metadata": {},
   "outputs": [],
   "source": [
    "from langchain_experimental.utilities import PythonREPL\n",
    "repl = PythonREPL()"
   ]
  },
  {
   "cell_type": "code",
   "execution_count": 7,
   "id": "f8e88d45",
   "metadata": {},
   "outputs": [
    {
     "name": "stderr",
     "output_type": "stream",
     "text": [
      "Python REPL can execute arbitrary code. Use with caution.\n"
     ]
    },
    {
     "data": {
      "text/plain": [
       "'20\\n'"
      ]
     },
     "execution_count": 7,
     "metadata": {},
     "output_type": "execute_result"
    }
   ],
   "source": [
    "repl.run(code)"
   ]
  },
  {
   "cell_type": "code",
   "execution_count": 8,
   "id": "6f6657b7",
   "metadata": {},
   "outputs": [],
   "source": [
    "from typing import Annotated\n",
    "from langchain_core.tools import tool"
   ]
  },
  {
   "cell_type": "code",
   "execution_count": 9,
   "id": "3615635e",
   "metadata": {},
   "outputs": [
    {
     "name": "stderr",
     "output_type": "stream",
     "text": [
      "<>:11: SyntaxWarning: invalid escape sequence '\\`'\n",
      "<>:11: SyntaxWarning: invalid escape sequence '\\`'\n",
      "<>:11: SyntaxWarning: invalid escape sequence '\\`'\n",
      "<>:11: SyntaxWarning: invalid escape sequence '\\`'\n",
      "C:\\Users\\ashut\\AppData\\Local\\Temp\\ipykernel_27132\\1154733478.py:11: SyntaxWarning: invalid escape sequence '\\`'\n",
      "  result_str = f\"Successfully executed:\\n\\`\\`\\`python\\n{code}\\n\\`\\`\\`\\nStdout: {result}\"\n",
      "C:\\Users\\ashut\\AppData\\Local\\Temp\\ipykernel_27132\\1154733478.py:11: SyntaxWarning: invalid escape sequence '\\`'\n",
      "  result_str = f\"Successfully executed:\\n\\`\\`\\`python\\n{code}\\n\\`\\`\\`\\nStdout: {result}\"\n"
     ]
    }
   ],
   "source": [
    "@tool\n",
    "def python_repl_tool(code: Annotated[str, \"The python code to execute to generate your chart.\"]):\n",
    "    \"\"\"Use this to execute python code. If you want to see the output of a value,\n",
    "    you should print it out with `print(...)`. This is visible to the user.\"\"\"\n",
    "    \n",
    "    try:\n",
    "        result = repl.run(code)\n",
    "    except BaseException as e:\n",
    "        return f\"Failed to execute. Error: {repr(e)}\"\n",
    "    \n",
    "    result_str = f\"Successfully executed:\\n\\`\\`\\`python\\n{code}\\n\\`\\`\\`\\nStdout: {result}\"\n",
    "    return result_str "
   ]
  },
  {
   "cell_type": "code",
   "execution_count": 10,
   "id": "3c4f3b72",
   "metadata": {},
   "outputs": [
    {
     "name": "stdout",
     "output_type": "stream",
     "text": [
      "Successfully executed:\n",
      "\\`\\`\\`python\n",
      "\n",
      "x=10\n",
      "y=x+10\n",
      "print(y)\n",
      "\n",
      "\\`\\`\\`\n",
      "Stdout: 20\n",
      "\n"
     ]
    }
   ],
   "source": [
    "print(python_repl_tool.invoke(code))"
   ]
  },
  {
   "cell_type": "code",
   "execution_count": 11,
   "id": "6bbfe6a9",
   "metadata": {},
   "outputs": [],
   "source": [
    "## we will define the member agents of our architecture\n",
    "members = [\"researcher\",\"coder\"]"
   ]
  },
  {
   "cell_type": "code",
   "execution_count": 12,
   "id": "e5bf55b8",
   "metadata": {},
   "outputs": [
    {
     "data": {
      "text/plain": [
       "['researcher', 'coder', 'FINISH']"
      ]
     },
     "execution_count": 12,
     "metadata": {},
     "output_type": "execute_result"
    }
   ],
   "source": [
    "options = members+[\"FINISH\"]\n",
    "options"
   ]
  },
  {
   "cell_type": "code",
   "execution_count": 13,
   "id": "37287c08",
   "metadata": {},
   "outputs": [],
   "source": [
    "from typing import TypedDict, Literal\n",
    "\n",
    "class Router(TypedDict): \n",
    "    next: Literal['researcher', 'coder', 'FINISH']"
   ]
  },
  {
   "cell_type": "code",
   "execution_count": 14,
   "id": "1791e345",
   "metadata": {},
   "outputs": [],
   "source": [
    "from langgraph.graph import MessagesState, StateGraph, START, END"
   ]
  },
  {
   "cell_type": "code",
   "execution_count": 15,
   "id": "f2ff4f8b",
   "metadata": {},
   "outputs": [],
   "source": [
    "class State(MessagesState):\n",
    "    next: str"
   ]
  },
  {
   "cell_type": "code",
   "execution_count": 16,
   "id": "af5f6e0c",
   "metadata": {},
   "outputs": [],
   "source": [
    "system_prompt = f\"\"\"\n",
    "You are a supervisor, tasked with managing a conversation between the following workers: {members}. \n",
    "Given the following user request, respond with the worker to act next. \n",
    "Each worker will perform a task and respond with their results and status. \n",
    "When finished, respond with FINISH.\n",
    "\"\"\""
   ]
  },
  {
   "cell_type": "code",
   "execution_count": 37,
   "id": "123ac77e",
   "metadata": {},
   "outputs": [],
   "source": [
    "system_prompt = f\"\"\"\n",
    "You are a supervisor managing a task delegation system with the following workers: {members}.\n",
    "\n",
    "Your job is to decide which worker should act next based on the user’s input.\n",
    "\n",
    "Guidelines:\n",
    "- Carefully read the user’s message.\n",
    "- If the message clearly requires a specific action (e.g., search, compute, rewrite), assign it to the appropriate worker.\n",
    "- If the message is general, conversational, or does **not** require any specific action, immediately respond with `FINISH`.\n",
    "- Do **not** invent tasks or assign actions unless the message clearly demands it.\n",
    "\n",
    "Each worker will return results after completing their task.\n",
    "Once all necessary tasks are completed, end the flow by responding with `FINISH`.\n",
    "\n",
    "Be strict — if the message is casual, rhetorical, or lacks a clear task, reply with `FINISH`.\n",
    "\"\"\"\n",
    "\n"
   ]
  },
  {
   "cell_type": "code",
   "execution_count": 38,
   "id": "2216c1dd",
   "metadata": {},
   "outputs": [
    {
     "name": "stdout",
     "output_type": "stream",
     "text": [
      "\n",
      "You are a supervisor managing a task delegation system with the following workers: ['researcher', 'coder'].\n",
      "\n",
      "Your job is to decide which worker should act next based on the user’s input.\n",
      "\n",
      "Guidelines:\n",
      "- Carefully read the user’s message.\n",
      "- If the message clearly requires a specific action (e.g., search, compute, rewrite), assign it to the appropriate worker.\n",
      "- If the message is general, conversational, or does **not** require any specific action, immediately respond with `FINISH`.\n",
      "- Do **not** invent tasks or assign actions unless the message clearly demands it.\n",
      "\n",
      "Each worker will return results after completing their task.\n",
      "Once all necessary tasks are completed, end the flow by responding with `FINISH`.\n",
      "\n",
      "Be strict — if the message is casual, rhetorical, or lacks a clear task, reply with `FINISH`.\n",
      "\n"
     ]
    }
   ],
   "source": [
    "print(system_prompt)"
   ]
  },
  {
   "cell_type": "markdown",
   "id": "5e7ad625",
   "metadata": {},
   "source": [
    "Now we will define our agents"
   ]
  },
  {
   "cell_type": "code",
   "execution_count": 39,
   "id": "22807d18",
   "metadata": {},
   "outputs": [],
   "source": [
    "from langgraph.types import Command\n",
    "def supervisor_agent(state:State)-> Command[Literal['researcher', 'coder', '__end__']]:\n",
    "    print('<-- Supervisor -->')\n",
    "    \n",
    "    messages = [{'role':'system', 'content': system_prompt},]+state['messages']\n",
    "    \n",
    "    llm_with_structured_output = llm.with_structured_output(Router)\n",
    "    response = llm_with_structured_output.invoke(messages)\n",
    "    \n",
    "    ## this is my next worker agent\n",
    "    goto = response['next']\n",
    "    \n",
    "    print(\"*********Below is my GOTO*****************\")\n",
    "    \n",
    "    print(goto)\n",
    "    \n",
    "    if goto=='FINISH':\n",
    "        goto = END\n",
    "    return Command(goto=goto, update={'next':goto})"
   ]
  },
  {
   "cell_type": "code",
   "execution_count": 40,
   "id": "bec49136",
   "metadata": {},
   "outputs": [],
   "source": [
    "from langchain_core.messages import HumanMessage\n",
    "from langgraph.prebuilt import create_react_agent\n",
    "\n",
    "def researcher_agent(state:State)->Command[Literal['supervisor']]:\n",
    "    print('<-- Researcher -->')\n",
    "    \n",
    "    research_agent = create_react_agent(llm, tools=[tavily_tool], prompt='You are a researcher. DO NOT do any math.')\n",
    "    \n",
    "    result = research_agent.invoke(state)\n",
    "    return Command(\n",
    "        update={\n",
    "            'messages':[HumanMessage(content=result['messages'][-1].content, name='researcher')]\n",
    "        },\n",
    "        goto='supervisor'\n",
    "    )"
   ]
  },
  {
   "cell_type": "code",
   "execution_count": 41,
   "id": "bd2ad636",
   "metadata": {},
   "outputs": [],
   "source": [
    "def coder_agent(state:State)->Command[Literal['supervisor']]:\n",
    "    print('<-- Coder -->')\n",
    "    coder_agent = create_react_agent(\n",
    "        llm,\n",
    "        tools=[python_repl_tool],\n",
    "        prompt='You are a coder. DO NOT do any research. '\n",
    "    )\n",
    "    \n",
    "    result = coder_agent.invoke(state)\n",
    "    return Command(\n",
    "        update ={'messages':[HumanMessage(content=result['messages'][-1].content, name='coder')]},\n",
    "        goto='supervisor',\n",
    "    )"
   ]
  },
  {
   "cell_type": "code",
   "execution_count": 42,
   "id": "2d3bee94",
   "metadata": {},
   "outputs": [],
   "source": [
    "## Build Graph\n",
    "from token import STAR\n",
    "\n",
    "\n",
    "builder = StateGraph(State)\n",
    "builder.add_node('supervisor',supervisor_agent)\n",
    "builder.add_node('researcher',researcher_agent)\n",
    "builder.add_node('coder',coder_agent)\n",
    "\n",
    "## Logic\n",
    "builder.add_edge(START,'supervisor')\n",
    "\n",
    "## Compile\n",
    "app = builder.compile()"
   ]
  },
  {
   "cell_type": "code",
   "execution_count": 29,
   "id": "26e9bb6e",
   "metadata": {},
   "outputs": [
    {
     "data": {
      "image/png": "[encoded data removed]",
      "text/plain": [
       "<langgraph.graph.state.CompiledStateGraph object at 0x00000220B9F06BA0>"
      ]
     },
     "execution_count": 29,
     "metadata": {},
     "output_type": "execute_result"
    }
   ],
   "source": [
    "app"
   ]
  },
  {
   "cell_type": "code",
   "execution_count": 44,
   "id": "330198a5",
   "metadata": {},
   "outputs": [
    {
     "name": "stdout",
     "output_type": "stream",
     "text": [
      "<-- Supervisor -->\n",
      "*********Below is my GOTO*****************\n",
      "FINISH\n",
      "((), {'supervisor': {'next': '__end__'}})\n",
      "**********BELOW IS MY STATE***************\n"
     ]
    }
   ],
   "source": [
    "for s in app.stream({\"messages\": [HumanMessage(content=\"Hi\")]}, subgraphs=True):\n",
    "    print(s)\n",
    "    print(\"**********BELOW IS MY STATE***************\")\n",
    "\n"
   ]
  },
  {
   "cell_type": "code",
   "execution_count": 45,
   "id": "1c8cac64",
   "metadata": {},
   "outputs": [
    {
     "name": "stdout",
     "output_type": "stream",
     "text": [
      "<-- Supervisor -->\n",
      "*********Below is my GOTO*****************\n",
      "coder\n",
      "((), {'supervisor': {'next': 'coder'}})\n",
      "**********BELOW IS MY STATE***************\n",
      "<-- Coder -->\n",
      "(('coder:91a4edb4-b5a7-6b48-5e95-53b895e2f793',), {'agent': {'messages': [AIMessage(content='', additional_kwargs={'tool_calls': [{'id': 'h9m26ar3g', 'function': {'arguments': '{\"code\":\"def sieve_of_eratosthenes(limit):\\\\n    sieve = [True] * (limit + 1)\\\\n    sieve[0:2] = [False, False]\\\\n    for current in range(2, int(limit**0.5) + 1):\\\\n        if sieve[current]:\\\\n            for multiple in range(current*current, limit + 1, current):\\\\n                sieve[multiple] = False\\\\n    return [num for num, is_prime in enumerate(sieve) if is_prime]\\\\n\\\\nprint(sieve_of_eratosthenes(50))\"}', 'name': 'python_repl_tool'}, 'type': 'function'}]}, response_metadata={'token_usage': {'completion_tokens': 1359, 'prompt_tokens': 173, 'total_tokens': 1532, 'completion_time': 2.497363457, 'prompt_time': 0.010912481, 'queue_time': 0.059933953, 'total_time': 2.508275938}, 'model_name': 'qwen/qwen3-32b', 'system_fingerprint': 'fp_7a0b0d2d9a', 'finish_reason': 'tool_calls', 'logprobs': None}, id='run--ba6d9c69-dfdf-4900-a43c-84a49b310cf4-0', tool_calls=[{'name': 'python_repl_tool', 'args': {'code': 'def sieve_of_eratosthenes(limit):\\n    sieve = [True] * (limit + 1)\\n    sieve[0:2] = [False, False]\\n    for current in range(2, int(limit**0.5) + 1):\\n        if sieve[current]:\\n            for multiple in range(current*current, limit + 1, current):\\n                sieve[multiple] = False\\n    return [num for num, is_prime in enumerate(sieve) if is_prime]\\n\\nprint(sieve_of_eratosthenes(50))'}, 'id': 'h9m26ar3g', 'type': 'tool_call'}], usage_metadata={'input_tokens': 173, 'output_tokens': 1359, 'total_tokens': 1532})]}})\n",
      "**********BELOW IS MY STATE***************\n",
      "(('coder:91a4edb4-b5a7-6b48-5e95-53b895e2f793',), {'tools': {'messages': [ToolMessage(content='Successfully executed:\\n\\\\`\\\\`\\\\`python\\ndef sieve_of_eratosthenes(limit):\\n    sieve = [True] * (limit + 1)\\n    sieve[0:2] = [False, False]\\n    for current in range(2, int(limit**0.5) + 1):\\n        if sieve[current]:\\n            for multiple in range(current*current, limit + 1, current):\\n                sieve[multiple] = False\\n    return [num for num, is_prime in enumerate(sieve) if is_prime]\\n\\nprint(sieve_of_eratosthenes(50))\\n\\\\`\\\\`\\\\`\\nStdout: [2, 3, 5, 7, 11, 13, 17, 19, 23, 29, 31, 37, 41, 43, 47]\\n', name='python_repl_tool', id='66ab490d-cd43-4e76-9fae-0d551f0aa84a', tool_call_id='h9m26ar3g')]}})\n",
      "**********BELOW IS MY STATE***************\n",
      "(('coder:91a4edb4-b5a7-6b48-5e95-53b895e2f793',), {'agent': {'messages': [AIMessage(content=\"The Sieve of Eratosthenes algorithm efficiently generates all prime numbers up to a given limit. Here's the code and explanation:\\n\\n```python\\ndef sieve_of_eratosthenes(limit):\\n    sieve = [True] * (limit + 1)  # Assume all numbers are prime initially\\n    sieve[0:2] = [False, False]   # 0 and 1 are not primes\\n    \\n    # Only check up to the square root of the limit\\n    for current in range(2, int(limit**0.5) + 1):\\n        if sieve[current]:  # If current number is still marked as prime\\n            # Mark all multiples of current as non-prime\\n            for multiple in range(current*current, limit + 1, current):\\n                sieve[multiple] = False\\n    \\n    # Return all numbers still marked as prime\\n    return [num for num, is_prime in enumerate(sieve) if is_prime]\\n\\n# Example usage\\nprint(sieve_of_eratosthenes(50))\\n```\\n\\n**Output for limit=50:**\\n```\\n[2, 3, 5, 7, 11, 13, 17, 19, 23, 29, 31, 37, 41, 43, 47]\\n```\\n\\n**Efficiency:**\\n- Time complexity: O(n log log n)\\n- Space complexity: O(n)\\n- Optimized by:\\n  - Starting from the square of each prime (instead of 2×prime)\\n  - Stopping at √n for the outer loop\\n  - Using boolean array for O(1) lookups\\n\\nThis is one of the most efficient algorithms for generating all primes below a given number. For extremely large primes (>10^6), you might consider more advanced algorithms like the Sieve of Atkin or probabilistic methods like Miller-Rabin.\", additional_kwargs={}, response_metadata={'token_usage': {'completion_tokens': 732, 'prompt_tokens': 517, 'total_tokens': 1249, 'completion_time': 1.36835428, 'prompt_time': 0.020038429, 'queue_time': 0.09562065, 'total_time': 1.3883927090000001}, 'model_name': 'qwen/qwen3-32b', 'system_fingerprint': 'fp_7a0b0d2d9a', 'finish_reason': 'stop', 'logprobs': None}, id='run--2308cc13-0d98-4728-875d-662fb512232f-0', usage_metadata={'input_tokens': 517, 'output_tokens': 732, 'total_tokens': 1249})]}})\n",
      "**********BELOW IS MY STATE***************\n",
      "((), {'coder': {'messages': [HumanMessage(content=\"The Sieve of Eratosthenes algorithm efficiently generates all prime numbers up to a given limit. Here's the code and explanation:\\n\\n```python\\ndef sieve_of_eratosthenes(limit):\\n    sieve = [True] * (limit + 1)  # Assume all numbers are prime initially\\n    sieve[0:2] = [False, False]   # 0 and 1 are not primes\\n    \\n    # Only check up to the square root of the limit\\n    for current in range(2, int(limit**0.5) + 1):\\n        if sieve[current]:  # If current number is still marked as prime\\n            # Mark all multiples of current as non-prime\\n            for multiple in range(current*current, limit + 1, current):\\n                sieve[multiple] = False\\n    \\n    # Return all numbers still marked as prime\\n    return [num for num, is_prime in enumerate(sieve) if is_prime]\\n\\n# Example usage\\nprint(sieve_of_eratosthenes(50))\\n```\\n\\n**Output for limit=50:**\\n```\\n[2, 3, 5, 7, 11, 13, 17, 19, 23, 29, 31, 37, 41, 43, 47]\\n```\\n\\n**Efficiency:**\\n- Time complexity: O(n log log n)\\n- Space complexity: O(n)\\n- Optimized by:\\n  - Starting from the square of each prime (instead of 2×prime)\\n  - Stopping at √n for the outer loop\\n  - Using boolean array for O(1) lookups\\n\\nThis is one of the most efficient algorithms for generating all primes below a given number. For extremely large primes (>10^6), you might consider more advanced algorithms like the Sieve of Atkin or probabilistic methods like Miller-Rabin.\", additional_kwargs={}, response_metadata={}, name='coder')]}})\n",
      "**********BELOW IS MY STATE***************\n",
      "<-- Supervisor -->\n",
      "*********Below is my GOTO*****************\n",
      "FINISH\n",
      "((), {'supervisor': {'next': '__end__'}})\n",
      "**********BELOW IS MY STATE***************\n"
     ]
    }
   ],
   "source": [
    "for s in app.stream({\"messages\": [HumanMessage(content=\"What is an efficient python code to get prime number\")]}, subgraphs=True):\n",
    "    print(s)\n",
    "    print(\"**********BELOW IS MY STATE***************\")\n"
   ]
  },
  {
   "cell_type": "code",
   "execution_count": null,
   "id": "5261c65c",
   "metadata": {},
   "outputs": [],
   "source": []
  }
 ],
 "metadata": {
  "kernelspec": {
   "display_name": "Python 3",
   "language": "python",
   "name": "python3"
  },
  "language_info": {
   "codemirror_mode": {
    "name": "ipython",
    "version": 3
   },
   "file_extension": ".py",
   "mimetype": "text/x-python",
   "name": "python",
   "nbconvert_exporter": "python",
   "pygments_lexer": "ipython3",
   "version": "3.12.0"
  }
 },
 "nbformat": 4,
 "nbformat_minor": 5
}
