{
 "cells": [
  {
   "cell_type": "markdown",
   "id": "bb3945da",
   "metadata": {},
   "source": [
    "## Human In Loop"
   ]
  },
  {
   "cell_type": "code",
   "execution_count": 2,
   "id": "2a95b682",
   "metadata": {},
   "outputs": [],
   "source": [
    "from dotenv import load_dotenv\n",
    "load_dotenv()\n",
    "from langchain_openai import ChatOpenAI, OpenAIEmbeddings\n",
    "from langchain_groq import ChatGroq"
   ]
  },
  {
   "cell_type": "code",
   "execution_count": 3,
   "id": "d13bf389",
   "metadata": {},
   "outputs": [],
   "source": [
    "## Load LLM model\n",
    "model = 'qwen/qwen3-32b'\n",
    "llm = ChatGroq(model=model)"
   ]
  },
  {
   "cell_type": "code",
   "execution_count": 1,
   "id": "caebdd4d",
   "metadata": {},
   "outputs": [],
   "source": [
    "from langchain_core.tools import tool\n",
    "from langchain_community.tools.tavily_search import TavilySearchResults"
   ]
  },
  {
   "cell_type": "code",
   "execution_count": 4,
   "id": "52e1bc02",
   "metadata": {},
   "outputs": [],
   "source": [
    "@tool\n",
    "def multiply(x:int, y:int)->int:\n",
    "    '''Multiply two numbers'''\n",
    "    return x*y"
   ]
  },
  {
   "cell_type": "code",
   "execution_count": 5,
   "id": "259f660c",
   "metadata": {},
   "outputs": [
    {
     "data": {
      "text/plain": [
       "120"
      ]
     },
     "execution_count": 5,
     "metadata": {},
     "output_type": "execute_result"
    }
   ],
   "source": [
    "multiply.invoke({'x':10,'y':12})"
   ]
  },
  {
   "cell_type": "code",
   "execution_count": 6,
   "id": "3047d0a4",
   "metadata": {},
   "outputs": [],
   "source": [
    "@tool\n",
    "def search(query:str):\n",
    "    '''Search the web for a query and return the results'''\n",
    "    tavily_search = TavilySearchResults()\n",
    "    response = tavily_search.invoke(query)\n",
    "    return f\"Result for {query} is: \\n{response}\""
   ]
  },
  {
   "cell_type": "code",
   "execution_count": null,
   "id": "c29b63ee",
   "metadata": {},
   "outputs": [
    {
     "name": "stdout",
     "output_type": "stream",
     "text": [
      "Result for Ind vs Eng test match is: \n",
      "[{'title': 'England vs India 1st Test Scorecard - The Indian Express', 'url': 'https://indianexpress.com/section/sports/cricket/live-score/england-vs-india-1st-test-live-score-full-scorecard-highlights-anderson-tendulkar-trophy-2025-enin06202025250825/', 'content': 'to , The much-anticipated five-match Test series between England and India kicks off at Headingley, Leeds, marking the beginning of the ICC World Test Championship 2025-27 cycle for both formidable sides. This series, now rebranded as the Anderson-Tendulkar Trophy, promises a riveting contest between two cricketing powerhouses. All eyes will be on the conditions at Headingley, which traditionally offer assistance to fast bowlers, especially early on. With a mix of sunshine and predicted [...] to , The opening week of the 2025-27 World Test Championship cycle brings with it one of the most high-profile contests on the calendar. India have arrived on English shores for a five-match Test series. While these two sides have clashed countless times over the years, this series carries a fresh identity. Traditionally played for the Pataudi Trophy, this series will now be contested for the newly-named Anderson-Tendulkar Trophy, honouring two modern greats who have left an indelible mark on [...] England vs India LIVE Cricket Score, 1st Test Day 1: Ben Stokes wins toss, England bowl first at HeadingleyImage 11: IND vs ENG Live Score, 1st Test: Catch day 1 updates of the India vs England Test in Leeds.\\n   ‘Life has come full circle in England’: Comeback man Karun Nair ahead of first ENG vs IND TestImage 12: India vs England: Karun Nair revealed an Indian cricketer advised him to retire. (AP)', 'score': 0.80735475}, {'title': 'England vs India HIGHLIGHTS, 1st Test, Day 5: England beat India by 5 ...', 'url': 'https://www.business-standard.com/cricket/news/england-vs-india-1st-test-2025-live-score-updates-day-5-eng-vs-ind-shubman-gill-ben-stokes-headingley-stadium-125062400467_1.html', 'content': \"Image 13: ENG vs IND)\\n\\nENG vs IND\\n\\n2 min read Last Updated : Jun 24 2025 | 3:30 PM IST\\n\\nENG vs IND, 1st Test 2025 LIVE Score UPDATES:As England and India begin the final day of the 1st Test today at Headingley, rain threatens to loom large over the proceedings, setting the stage for a tense finish. With England needing 350 runs and all 10 wickets intact, the hosts are expected to go for the win, similar to their famous chase against Australia in 2019. [...] With 350 runs left to chase on the final day and 10 wickets still in hand England will go for nothing but win on the final day of the Test, on the other hand India can take advantage of England's fearless approach and overcast weather to get those 10 wickets to secure the win for themselves. As it stands the only way this match can go for a draw is if large chunk of game time is washed away due to rain. [...] 9:17 AM\\nEngland vs India LIVE SCORE UPDATES 1st Test, Day 5: All to play for at Headingley!\\n-----------------------------------------------------------------------------------\\n\\nHello and welcome to the live coverage of Day 5 of the 1st Test between England and India at Headingly as both sides chase an opening win today. India need 10 wickets to win the match while England need 350 more runs on the final day to get a thrilling win. Action begins at 3:30 PM IST.\\n\\nConnect with us on WhatsApp\", 'score': 0.76321954}, {'title': 'ENG Vs IND First Test, Live Score: Full Scorecard, Toss ... - Wisden', 'url': 'https://wisden.com/series/england-vs-india-m-2025/cricket-news/todays-eng-vs-ind-first-test-live-score-full-scorecard-toss-playing-xi-and-where-to-watch-live', 'content': 'England take on India in the first of the five-match Test series from Friday (June 20) at Headingley: find all match updates including live score, commentary, toss updates and more from the ENG vs IND game here.', 'score': 0.7593865}, {'title': 'Live Cricket Update - ENG vs IND 1st Test - Duckett and Root star as ...', 'url': 'https://www.espncricinfo.com/series/india-in-england-2025-1445348/england-vs-india-1st-test-1448349/live-match-blog', 'content': '_India 471 and 90 for 2 (Rahul 47) lead England 465 (Pope 106, Brook 99, Duckett 62, Bumrah 5-83) by 96 runs_\\n\\nHarry Brook threw his head back in despair after picking out long leg but his innings of 99 set up a tantalising one-innings match at his home ground. India had three first-innings centurions to England’s one and Jasprit Bumrah completed a dazzling five-for to prove he is a class above any other bowler on show, yet only six runs separated the two teams after eight sessions. [...] _England won the toss and chose to bowl first vs India_\\n\\nB Sai Sudharsan will bat at No. 3 on his Test debut for India against England at Headingley, while Karun Nair returns to international cricket after an eight-year absence. India have picked four seamers for the first Test, including the allrounder Shardul Thakur at No. 8, but it is their batters who will be put to the test on the first morning after Ben Stokes chose to bowl first. [...] Saturday in Leeds was a day of opportunities taken and spurned. Unfortunately for India, it was their contribution to the latter on day two that has changed the complexion of this Test match.\\n\\nHaving begun the day with Rishabh Pant’s thrill-filled 134, the third of the India innings, they proceeded to lose 7 for 41 to cap their innings at 471. And yet more profligacy in the field not only allowed Ollie Pope to move to his ninth Test century, but England to close on 209 for 3.', 'score': 0.7318455}, {'title': 'India vs England Schedule 2025 & 2026 - India Cricket Schedule', 'url': 'https://www.indiacricketschedule.com/p/india-vs-england-schedule.html', 'content': 'India vs England Upcoming Matches Schedule, Fixtures 2025 and 2026\\n------------------------------------------------------------------\\nFri, Jun 20 - Tue, Jun 24\\n\\n10:00 AM GMT | 11:00 AM LOCALEngland vs India, 1st Test\\n\\nIndia tour of England 2025\\n\\nHeadingley, Leeds Leeds\\n\\nCheck the Schedule, Match Timings and Venue, England vs India, 1st Test, Headingley, Leeds, India tour of England 2025.\\nWed, Jul 02 - Sun, Jul 06\\n\\n10:00 AM GMT | 11:00 AM LOCALEngland vs India, 2nd Test [...] 10:00 AM GMT | 11:00 AM LOCALEngland vs India, 4th Test\\n\\nIndia tour of England 2025\\n\\nEmirates Old Trafford, Manchester Manchester\\n\\nCheck the Schedule, Match Timings and Venue, England vs India, 4th Test, Emirates Old Trafford, Manchester, India tour of England 2025.\\nThu, Jul 31 - Mon, Aug 04\\n\\n10:00 AM GMT | 11:00 AM LOCALEngland vs India, 5th Test\\n\\nIndia tour of England 2025\\n\\nKennington Oval, London London [...] 01:30 PM GMT | 07:00 PM LOCALIndia vs England, 4th T20I\\n\\nEngland tour of India, 2025\\n\\nMaharashtra Cricket Association Stadium, Pune Pune\\n\\nCheck the Schedule, Match Timings and Venue, India vs England, 4th T20I, Maharashtra Cricket Association Stadium, Pune, England tour of India, 2025.\\nSun, Feb 02 Sun, Feb 02\\n\\n01:30 PM GMT | 07:00 PM LOCALIndia vs England, 5th T20I\\n\\nEngland tour of India, 2025\\n\\nWankhede Stadium, Mumbai Mumbai', 'score': 0.73138535}]\n"
     ]
    }
   ],
   "source": [
    "print(search.invoke('Ind vs Eng test match'))"
   ]
  },
  {
   "cell_type": "code",
   "execution_count": 9,
   "id": "37c61536",
   "metadata": {},
   "outputs": [],
   "source": [
    "## tools\n",
    "tools = [multiply, search]\n",
    "## binding tools with llm\n",
    "llm_with_tools = llm.bind_tools(tools)"
   ]
  },
  {
   "cell_type": "code",
   "execution_count": 22,
   "id": "091d29b8",
   "metadata": {},
   "outputs": [
    {
     "name": "stdout",
     "output_type": "stream",
     "text": [
      "\n",
      "[{'name': 'search', 'args': {'query': 'Ind vs Eng test match'}, 'id': 'easym970h', 'type': 'tool_call'}]\n"
     ]
    }
   ],
   "source": [
    "res = llm_with_tools.invoke('Ind vs Eng test match')\n",
    "\n",
    "print(res.content)\n",
    "print(res.tool_calls)\n"
   ]
  },
  {
   "cell_type": "markdown",
   "id": "25a40b76",
   "metadata": {},
   "source": [
    "### Manual Tool Calling"
   ]
  },
  {
   "cell_type": "code",
   "execution_count": null,
   "id": "c06a18cd",
   "metadata": {},
   "outputs": [],
   "source": [
    "## Tool Dictionary\n",
    "tool_mapping = {tool.name:tool for tool in tools}"
   ]
  },
  {
   "cell_type": "code",
   "execution_count": 21,
   "id": "d9b7c302",
   "metadata": {},
   "outputs": [
    {
     "data": {
      "text/plain": [
       "{'multiply': StructuredTool(name='multiply', description='Multiply two numbers', args_schema=<class 'langchain_core.utils.pydantic.multiply'>, func=<function multiply at 0x0000028A4712B6A0>),\n",
       " 'search': StructuredTool(name='search', description='Search the web for a query and return the results', args_schema=<class 'langchain_core.utils.pydantic.search'>, func=<function search at 0x0000028A47308AE0>)}"
      ]
     },
     "execution_count": 21,
     "metadata": {},
     "output_type": "execute_result"
    }
   ],
   "source": [
    "tool_mapping"
   ]
  },
  {
   "cell_type": "code",
   "execution_count": null,
   "id": "9d73b3ee",
   "metadata": {},
   "outputs": [
    {
     "data": {
      "text/plain": [
       "{'name': 'search',\n",
       " 'args': {'query': 'Ind vs Eng test match'},\n",
       " 'id': 'easym970h',\n",
       " 'type': 'tool_call'}"
      ]
     },
     "execution_count": 24,
     "metadata": {},
     "output_type": "execute_result"
    }
   ],
   "source": [
    "res.tool_calls[0]"
   ]
  },
  {
   "cell_type": "code",
   "execution_count": 27,
   "id": "960ede63",
   "metadata": {},
   "outputs": [
    {
     "name": "stdout",
     "output_type": "stream",
     "text": [
      "search\n",
      "{'query': 'Ind vs Eng test match'}\n"
     ]
    }
   ],
   "source": [
    "print(res.tool_calls[0]['name'])\n",
    "print(res.tool_calls[0]['args'])"
   ]
  },
  {
   "cell_type": "code",
   "execution_count": 28,
   "id": "a3ab1d0f",
   "metadata": {},
   "outputs": [
    {
     "data": {
      "text/plain": [
       "'Result for Ind vs Eng test match is: \\n[{\\'title\\': \\'England vs India 1st Test Scorecard - The Indian Express\\', \\'url\\': \\'https://indianexpress.com/section/sports/cricket/live-score/england-vs-india-1st-test-live-score-full-scorecard-highlights-anderson-tendulkar-trophy-2025-enin06202025250825/\\', \\'content\\': \\'to , The much-anticipated five-match Test series between England and India kicks off at Headingley, Leeds, marking the beginning of the ICC World Test Championship 2025-27 cycle for both formidable sides. This series, now rebranded as the Anderson-Tendulkar Trophy, promises a riveting contest between two cricketing powerhouses. All eyes will be on the conditions at Headingley, which traditionally offer assistance to fast bowlers, especially early on. With a mix of sunshine and predicted [...] to , The opening week of the 2025-27 World Test Championship cycle brings with it one of the most high-profile contests on the calendar. India have arrived on English shores for a five-match Test series. While these two sides have clashed countless times over the years, this series carries a fresh identity. Traditionally played for the Pataudi Trophy, this series will now be contested for the newly-named Anderson-Tendulkar Trophy, honouring two modern greats who have left an indelible mark on [...] England vs India LIVE Cricket Score, 1st Test Day 1: Ben Stokes wins toss, England bowl first at HeadingleyImage 11: IND vs ENG Live Score, 1st Test: Catch day 1 updates of the India vs England Test in Leeds.\\\\n   ‘Life has come full circle in England’: Comeback man Karun Nair ahead of first ENG vs IND TestImage 12: India vs England: Karun Nair revealed an Indian cricketer advised him to retire. (AP)\\', \\'score\\': 0.80735475}, {\\'title\\': \\'England vs India HIGHLIGHTS, 1st Test, Day 5: England beat India by 5 ...\\', \\'url\\': \\'https://www.business-standard.com/cricket/news/england-vs-india-1st-test-2025-live-score-updates-day-5-eng-vs-ind-shubman-gill-ben-stokes-headingley-stadium-125062400467_1.html\\', \\'content\\': \"Image 13: ENG vs IND)\\\\n\\\\nENG vs IND\\\\n\\\\n2 min read Last Updated : Jun 24 2025 | 3:30 PM IST\\\\n\\\\nENG vs IND, 1st Test 2025 LIVE Score UPDATES:As England and India begin the final day of the 1st Test today at Headingley, rain threatens to loom large over the proceedings, setting the stage for a tense finish. With England needing 350 runs and all 10 wickets intact, the hosts are expected to go for the win, similar to their famous chase against Australia in 2019. [...] With 350 runs left to chase on the final day and 10 wickets still in hand England will go for nothing but win on the final day of the Test, on the other hand India can take advantage of England\\'s fearless approach and overcast weather to get those 10 wickets to secure the win for themselves. As it stands the only way this match can go for a draw is if large chunk of game time is washed away due to rain. [...] 9:17 AM\\\\nEngland vs India LIVE SCORE UPDATES 1st Test, Day 5: All to play for at Headingley!\\\\n-----------------------------------------------------------------------------------\\\\n\\\\nHello and welcome to the live coverage of Day 5 of the 1st Test between England and India at Headingly as both sides chase an opening win today. India need 10 wickets to win the match while England need 350 more runs on the final day to get a thrilling win. Action begins at 3:30 PM IST.\\\\n\\\\nConnect with us on WhatsApp\", \\'score\\': 0.76321954}, {\\'title\\': \\'ENG Vs IND First Test, Live Score: Full Scorecard, Toss ... - Wisden\\', \\'url\\': \\'https://wisden.com/series/england-vs-india-m-2025/cricket-news/todays-eng-vs-ind-first-test-live-score-full-scorecard-toss-playing-xi-and-where-to-watch-live\\', \\'content\\': \\'England take on India in the first of the five-match Test series from Friday (June 20) at Headingley: find all match updates including live score, commentary, toss updates and more from the ENG vs IND game here.\\', \\'score\\': 0.7593865}, {\\'title\\': \\'Live Cricket Update - ENG vs IND 1st Test - Duckett and Root star as ...\\', \\'url\\': \\'https://www.espncricinfo.com/series/india-in-england-2025-1445348/england-vs-india-1st-test-1448349/live-match-blog\\', \\'content\\': \\'_India 471 and 90 for 2 (Rahul 47) lead England 465 (Pope 106, Brook 99, Duckett 62, Bumrah 5-83) by 96 runs_\\\\n\\\\nHarry Brook threw his head back in despair after picking out long leg but his innings of 99 set up a tantalising one-innings match at his home ground. India had three first-innings centurions to England’s one and Jasprit Bumrah completed a dazzling five-for to prove he is a class above any other bowler on show, yet only six runs separated the two teams after eight sessions. [...] _England won the toss and chose to bowl first vs India_\\\\n\\\\nB Sai Sudharsan will bat at No. 3 on his Test debut for India against England at Headingley, while Karun Nair returns to international cricket after an eight-year absence. India have picked four seamers for the first Test, including the allrounder Shardul Thakur at No. 8, but it is their batters who will be put to the test on the first morning after Ben Stokes chose to bowl first. [...] Saturday in Leeds was a day of opportunities taken and spurned. Unfortunately for India, it was their contribution to the latter on day two that has changed the complexion of this Test match.\\\\n\\\\nHaving begun the day with Rishabh Pant’s thrill-filled 134, the third of the India innings, they proceeded to lose 7 for 41 to cap their innings at 471. And yet more profligacy in the field not only allowed Ollie Pope to move to his ninth Test century, but England to close on 209 for 3.\\', \\'score\\': 0.7318455}, {\\'title\\': \\'India vs England Schedule 2025 & 2026 - India Cricket Schedule\\', \\'url\\': \\'https://www.indiacricketschedule.com/p/india-vs-england-schedule.html\\', \\'content\\': \\'India vs England Upcoming Matches Schedule, Fixtures 2025 and 2026\\\\n------------------------------------------------------------------\\\\nFri, Jun 20 - Tue, Jun 24\\\\n\\\\n10:00 AM GMT | 11:00 AM LOCALEngland vs India, 1st Test\\\\n\\\\nIndia tour of England 2025\\\\n\\\\nHeadingley, Leeds Leeds\\\\n\\\\nCheck the Schedule, Match Timings and Venue, England vs India, 1st Test, Headingley, Leeds, India tour of England 2025.\\\\nWed, Jul 02 - Sun, Jul 06\\\\n\\\\n10:00 AM GMT | 11:00 AM LOCALEngland vs India, 2nd Test [...] 10:00 AM GMT | 11:00 AM LOCALEngland vs India, 4th Test\\\\n\\\\nIndia tour of England 2025\\\\n\\\\nEmirates Old Trafford, Manchester Manchester\\\\n\\\\nCheck the Schedule, Match Timings and Venue, England vs India, 4th Test, Emirates Old Trafford, Manchester, India tour of England 2025.\\\\nThu, Jul 31 - Mon, Aug 04\\\\n\\\\n10:00 AM GMT | 11:00 AM LOCALEngland vs India, 5th Test\\\\n\\\\nIndia tour of England 2025\\\\n\\\\nKennington Oval, London London [...] 01:30 PM GMT | 07:00 PM LOCALIndia vs England, 4th T20I\\\\n\\\\nEngland tour of India, 2025\\\\n\\\\nMaharashtra Cricket Association Stadium, Pune Pune\\\\n\\\\nCheck the Schedule, Match Timings and Venue, India vs England, 4th T20I, Maharashtra Cricket Association Stadium, Pune, England tour of India, 2025.\\\\nSun, Feb 02 Sun, Feb 02\\\\n\\\\n01:30 PM GMT | 07:00 PM LOCALIndia vs England, 5th T20I\\\\n\\\\nEngland tour of India, 2025\\\\n\\\\nWankhede Stadium, Mumbai Mumbai\\', \\'score\\': 0.73138535}]'"
      ]
     },
     "execution_count": 28,
     "metadata": {},
     "output_type": "execute_result"
    }
   ],
   "source": [
    "tool_mapping[res.tool_calls[0]['name']].invoke(res.tool_calls[0]['args'])"
   ]
  },
  {
   "cell_type": "markdown",
   "id": "581e4534",
   "metadata": {},
   "source": [
    "### Design Human in Loop Workflow"
   ]
  },
  {
   "cell_type": "code",
   "execution_count": 30,
   "id": "b8ffa8b9",
   "metadata": {},
   "outputs": [],
   "source": [
    "from typing import TypedDict, Annotated, Literal, Sequence\n",
    "import operator\n",
    "from langchain_core.messages import BaseMessage, HumanMessage"
   ]
  },
  {
   "cell_type": "code",
   "execution_count": null,
   "id": "a9e9d46c",
   "metadata": {},
   "outputs": [],
   "source": [
    "class AgentState(TypedDict):\n",
    "    \"\"\"State of the agent\"\"\"\n",
    "    messages: Annotated[Sequence[BaseMessage], operator.add]"
   ]
  },
  {
   "cell_type": "code",
   "execution_count": 39,
   "id": "2a15cdb0",
   "metadata": {},
   "outputs": [],
   "source": [
    "def invoke_model(state:AgentState):\n",
    "    \n",
    "    message = state['messages']\n",
    "    question = message[-1]\n",
    "    response = llm_with_tools.invoke(question)\n",
    "    return {'messages':[response]}"
   ]
  },
  {
   "cell_type": "code",
   "execution_count": 40,
   "id": "50bc6540",
   "metadata": {},
   "outputs": [],
   "source": [
    "from click import prompt\n",
    "\n",
    "\n",
    "def invoke_tool(state:AgentState):\n",
    "    tool_details = state['messages'][-1].tool_calls\n",
    "    \n",
    "    if tool_details is None:\n",
    "        return Exception('No tool call found in the last message')\n",
    "    \n",
    "    print(f\"Selected tool: {tool_details[0]['name']}\")\n",
    "    \n",
    "    if tool_details[0]['name']=='search':\n",
    "        response=input(prompt=f\"[yes/no] do you want to continue with this expensive web search\")\n",
    "        if response.lower()=='no':\n",
    "            print('Web search discarded by user. Exiting the application')\n",
    "            raise Exception(\"Web search is discarded by the user\")\n",
    "        \n",
    "    response = tool_mapping[tool_details[0]['name']].invoke(tool_details[0]['args'])\n",
    "    return {'messages':[response]}\n",
    "    "
   ]
  },
  {
   "cell_type": "code",
   "execution_count": 41,
   "id": "56dfdd4a",
   "metadata": {},
   "outputs": [],
   "source": [
    "def router(state:AgentState):\n",
    "    tool_calls = state['messages'][-1].tool_calls\n",
    "    if len(tool_calls)>0:\n",
    "        return 'tools'\n",
    "    else:\n",
    "        return 'end'"
   ]
  },
  {
   "cell_type": "code",
   "execution_count": 35,
   "id": "d7abf679",
   "metadata": {},
   "outputs": [],
   "source": [
    "\n",
    "from langgraph.graph import StateGraph, START,END"
   ]
  },
  {
   "cell_type": "markdown",
   "id": "ed2d20e6",
   "metadata": {},
   "source": [
    "#### Earlier we were adding Tool Node so that LLM can decide which tool to call\n",
    "#### Now we have defined a function invoke tool to call the tools because human will be taking authority to give permission which tool to invoke."
   ]
  },
  {
   "cell_type": "code",
   "execution_count": 42,
   "id": "2524524b",
   "metadata": {},
   "outputs": [
    {
     "data": {
      "image/png": "[encoded data removed]",
      "text/plain": [
       "<langgraph.graph.state.CompiledStateGraph object at 0x0000028A475D9730>"
      ]
     },
     "execution_count": 42,
     "metadata": {},
     "output_type": "execute_result"
    }
   ],
   "source": [
    "## Build graph\n",
    "graph = StateGraph(AgentState)\n",
    "graph.add_node('ai_assistant', invoke_model)\n",
    "graph.add_node('tools',invoke_tool)\n",
    "\n",
    "## Logic\n",
    "graph.add_conditional_edges(\n",
    "    'ai_assistant',\n",
    "    router,\n",
    "    {\n",
    "        'tools':'tools',\n",
    "        'end':END\n",
    "    }\n",
    ")\n",
    "graph.add_edge('tools',END)\n",
    "graph.add_edge(START,'ai_assistant')\n",
    "\n",
    "## Compile\n",
    "app = graph.compile()\n",
    "app"
   ]
  },
  {
   "cell_type": "code",
   "execution_count": 43,
   "id": "8b1b6a89",
   "metadata": {},
   "outputs": [
    {
     "name": "stdout",
     "output_type": "stream",
     "text": [
      "Selected tool: search\n"
     ]
    },
    {
     "data": {
      "text/plain": [
       "{'messages': ['What is the current gdp of India',\n",
       "  AIMessage(content='', additional_kwargs={'tool_calls': [{'id': '5w7qrnysh', 'function': {'arguments': '{\"query\":\"current GDP of India\"}', 'name': 'search'}, 'type': 'function'}]}, response_metadata={'token_usage': {'completion_tokens': 125, 'prompt_tokens': 198, 'total_tokens': 323, 'completion_time': 0.20268332, 'prompt_time': 0.007454533, 'queue_time': 0.061300244000000004, 'total_time': 0.210137853}, 'model_name': 'qwen/qwen3-32b', 'system_fingerprint': 'fp_7a0b0d2d9a', 'finish_reason': 'tool_calls', 'logprobs': None}, id='run--ab4ff25b-c534-4169-a520-4e0f99d07d37-0', tool_calls=[{'name': 'search', 'args': {'query': 'current GDP of India'}, 'id': '5w7qrnysh', 'type': 'tool_call'}], usage_metadata={'input_tokens': 198, 'output_tokens': 125, 'total_tokens': 323}),\n",
       "  'Result for current GDP of India is: \\n[{\\'title\\': \\'India - GDP, PPP (current International $) - 2025 Data 2026 Forecast ...\\', \\'url\\': \\'https://tradingeconomics.com/india/gdp-ppp-us-dollar-wb-data.html\\', \\'content\\': \\'GDP, PPP (current international $) in India was reported at 14619765554295 USD in 2023, according to the World Bank collection of development indicators, compiled from officially recognized sources. India - GDP, PPP (current international $) - actual values, historical data, forecasts and projections were sourced from the World Bank on June of 2025.\\', \\'score\\': 0.8800674}, {\\'title\\': \\'World GDP Ranking 2025 List - ClearTax\\', \\'url\\': \\'https://cleartax.in/s/world-gdp-ranking-list\\', \\'content\\': \"India is currently ranked as the 4th largest economy globally in 2025, surpassing Japan to secure the 4th position among the world\\'s top 10 largest economies, with a nominal GDP of $4.19 trillion in 2025. Moreover, the IMF forecasts that by 2027, India will overtake Germany to become the 3rd largest economy worldwide [...] With an estimated real GDP of Rs. 187.95 lakh crore in 2024-25, against the real GDP of Rs. 176.51 in 2023-24 generated by a population of over 1 billion, India is among the highest population-based economies in the world. Additionally, as per IMF projections, India\\'s GDP grow is at 6.2% in 2024-25 and 2025-26.This means India\\'s economic growth next fiscal year will be the fastest among major economies. Therefore, in the upcoming years, rising consumption and investments, both domestic and [...] ## India GDP Per Capita 2025 / India Per Capita Income 2025\\\\n\\\\nThough India\\'s rank in the World GDP Ranking 2025 list is fifth, the per capita income is substantially low. India\\'s per capita income of the population for 2025 is $2,880 (Approx Rs.2.4 lakh). Multiple factors have led to low per capita income in India compared to the top GDP countries.\", \\'score\\': 0.850382}, {\\'title\\': \\'India GDP PPP 2024 Estimate and 2025 Projection - World Economics\\', \\'url\\': \\'https://www.worldeconomics.com/GrossDomesticProduct/Real-GDP-PPP/India.aspx\\', \\'content\\': \"India GDP: $14.018 Trillion Looking ahead to 2025, projections suggest India\\'s 2025 GDP estimate could be $14.929 Trillion. This India GDP growth forecast for\", \\'score\\': 0.82082915}, {\\'title\\': \\'India GDP Annual Growth Rate - TRADING ECONOMICS\\', \\'url\\': \\'https://tradingeconomics.com/india/gdp-growth-annual\\', \\'content\\': \\'| Related | Last | Previous | Unit | Reference |\\\\n| --- | --- | --- | --- | --- |\\\\n| Fiscal Year GDP Growth | 6.50 | 9.20 | percent | Mar 2025 |\\\\n| GDP Growth Rate YoY | 7.40 | 6.40 | percent | Mar 2025 |\\\\n| GDP Constant Prices | 51351.63 | 47265.42 | INR Billion | Mar 2025 |\\\\n| GDP from Agriculture | 6773.89 | 7757.32 | INR Billion | Mar 2025 |\\\\n| GDP from Construction | 4636.41 | 3899.90 | INR Billion | Mar 2025 |\\\\n| GDP from Manufacturing | 8299.55 | 6960.49 | INR Billion | Mar 2025 | [...] ## The Gross Domestic Product (GDP) in India expanded 7.40 percent in the first quarter of 2025 over the same quarter of the previous year. GDP Annual Growth Rate in India averaged 6.03 percent from 1951 until 2025, reaching an all time high of 22.60 percent in the second quarter of 2021 and a record low of -23.10 percent in the second quarter of 2020. This page provides - India GDP Annual Growth Rate - actual values, historical data, forecast, chart, statistics, economic calendar and news. [...] | GDP from Mining | 1013.49 | 824.88 | INR Billion | Mar 2025 |\\\\n| GDP from Public Administration | 5623.82 | 5544.70 | INR Billion | Mar 2025 |\\\\n| GDP from Utilities | 1000.44 | 963.01 | INR Billion | Mar 2025 |\\\\n| GDP Growth Rate | 2.00 | 1.90 | percent | Mar 2025 |\\\\n| Gross Fixed Capital Formation | 17411.50 | 14991.34 | INR Billion | Mar 2025 |\\', \\'score\\': 0.78014404}, {\\'title\\': \\'India GDP Growth 2025 - StatisticsTimes.com\\', \\'url\\': \\'https://www.statisticstimes.com/economy/country/india-gdp-growth.php\\', \\'content\\': \\'GDP growth rates at current prices in 2024-25 is 9.89%, India has recorded the 3rd lowest nominal growth rate since year 2003-04. In the 2011-12 series, the average growth rate in 1951-2025 stands at 5.08%, reaching an all-time high of 9.69% in 2021-22 and a record low of -5.78% in 2020-21. During 6 years, growth was negative.\\', \\'score\\': 0.74652773}]']}"
      ]
     },
     "execution_count": 43,
     "metadata": {},
     "output_type": "execute_result"
    }
   ],
   "source": [
    "app.invoke({'messages':['What is the current gdp of India']})"
   ]
  },
  {
   "cell_type": "code",
   "execution_count": 44,
   "id": "34a03007",
   "metadata": {},
   "outputs": [
    {
     "name": "stdout",
     "output_type": "stream",
     "text": [
      "Selected tool: multiply\n"
     ]
    },
    {
     "data": {
      "text/plain": [
       "{'messages': ['What is the multiplication of 5 and 20',\n",
       "  AIMessage(content='', additional_kwargs={'tool_calls': [{'id': 'v9cjrdyq5', 'function': {'arguments': '{\"x\":5,\"y\":20}', 'name': 'multiply'}, 'type': 'function'}]}, response_metadata={'token_usage': {'completion_tokens': 139, 'prompt_tokens': 201, 'total_tokens': 340, 'completion_time': 0.231757628, 'prompt_time': 0.011915603, 'queue_time': 0.061176387, 'total_time': 0.243673231}, 'model_name': 'qwen/qwen3-32b', 'system_fingerprint': 'fp_7a0b0d2d9a', 'finish_reason': 'tool_calls', 'logprobs': None}, id='run--d02f6463-9cfe-4f15-9dcf-0f3c36c44b1c-0', tool_calls=[{'name': 'multiply', 'args': {'x': 5, 'y': 20}, 'id': 'v9cjrdyq5', 'type': 'tool_call'}], usage_metadata={'input_tokens': 201, 'output_tokens': 139, 'total_tokens': 340}),\n",
       "  100]}"
      ]
     },
     "execution_count": 44,
     "metadata": {},
     "output_type": "execute_result"
    }
   ],
   "source": [
    "app.invoke({'messages':['What is the multiplication of 5 and 20']})"
   ]
  },
  {
   "cell_type": "code",
   "execution_count": 46,
   "id": "bcba6b0a",
   "metadata": {},
   "outputs": [
    {
     "name": "stdout",
     "output_type": "stream",
     "text": [
      "Selected tool: search\n",
      "Web search discarded by user. Exiting the application\n",
      "Exception: Web search is discarded by the user\n"
     ]
    }
   ],
   "source": [
    "try:\n",
    "    app.invoke({'messages':['What is the current weather of Kelowna']})\n",
    "except Exception as e:\n",
    "    print(f'Exception: {str(e)}')"
   ]
  },
  {
   "cell_type": "markdown",
   "id": "e226977e",
   "metadata": {},
   "source": [
    "### LangGraph Inbuilt Human in Loop"
   ]
  },
  {
   "cell_type": "code",
   "execution_count": 47,
   "id": "892748be",
   "metadata": {},
   "outputs": [],
   "source": [
    "class AgentState(TypedDict):\n",
    "    messages: Annotated[Sequence[BaseMessage], operator.add]"
   ]
  },
  {
   "cell_type": "code",
   "execution_count": 55,
   "id": "efba3a76",
   "metadata": {},
   "outputs": [],
   "source": [
    "def ai_assistant(state:AgentState):\n",
    "    print('<-- AI Assistant -->')\n",
    "    \n",
    "    response = llm_with_tools.invoke(state['messages'])\n",
    "    return {'messages':[response]}"
   ]
  },
  {
   "cell_type": "code",
   "execution_count": 49,
   "id": "d60d9b0c",
   "metadata": {},
   "outputs": [],
   "source": [
    "from langgraph.checkpoint.memory import MemorySaver\n",
    "memory = MemorySaver()"
   ]
  },
  {
   "cell_type": "code",
   "execution_count": 50,
   "id": "08c9b29a",
   "metadata": {},
   "outputs": [],
   "source": [
    "from langgraph.prebuilt import ToolNode, tools_condition"
   ]
  },
  {
   "cell_type": "code",
   "execution_count": 52,
   "id": "49908edc",
   "metadata": {},
   "outputs": [],
   "source": [
    "## defining the tool node\n",
    "tools_node = ToolNode(tools)"
   ]
  },
  {
   "cell_type": "code",
   "execution_count": 56,
   "id": "aa879f51",
   "metadata": {},
   "outputs": [
    {
     "data": {
      "image/png": "[encoded data removed]",
      "text/plain": [
       "<langgraph.graph.state.CompiledStateGraph object at 0x0000028A475E6A20>"
      ]
     },
     "execution_count": 56,
     "metadata": {},
     "output_type": "execute_result"
    }
   ],
   "source": [
    "## build graph\n",
    "builder = StateGraph(AgentState)\n",
    "builder.add_node('ai_assistant', ai_assistant)\n",
    "builder.add_node('tools', tools_node)\n",
    "builder.add_edge(START, 'ai_assistant')\n",
    "builder.add_conditional_edges(\n",
    "    'ai_assistant',\n",
    "    tools_condition\n",
    ")\n",
    "builder.add_edge('tools','ai_assistant')\n",
    "\n",
    "## Compile\n",
    "## interepting before tools call\n",
    "app2 = builder.compile(checkpointer=memory, interrupt_before=['tools'])\n",
    "app2"
   ]
  },
  {
   "cell_type": "code",
   "execution_count": 57,
   "id": "582c50fe",
   "metadata": {},
   "outputs": [
    {
     "name": "stdout",
     "output_type": "stream",
     "text": [
      "<-- AI Assistant -->\n"
     ]
    }
   ],
   "source": [
    "config = {'configurable':{\"thread_id\":'1'}}\n",
    "message = [HumanMessage(content='What is the current update on Ind vs Eng test series')]\n",
    "response = app2.invoke({'messages':message},config=config)"
   ]
  },
  {
   "cell_type": "code",
   "execution_count": 58,
   "id": "fca7adee",
   "metadata": {},
   "outputs": [
    {
     "data": {
      "text/plain": [
       "{'messages': [HumanMessage(content='What is the current update on Ind vs Eng test series', additional_kwargs={}, response_metadata={}),\n",
       "  AIMessage(content='', additional_kwargs={'tool_calls': [{'id': 'ttnacnce9', 'function': {'arguments': '{\"query\":\"India vs England test series latest updates\"}', 'name': 'search'}, 'type': 'function'}]}, response_metadata={'token_usage': {'completion_tokens': 143, 'prompt_tokens': 201, 'total_tokens': 344, 'completion_time': 0.26506399, 'prompt_time': 0.007604276, 'queue_time': 0.060034654, 'total_time': 0.272668266}, 'model_name': 'qwen/qwen3-32b', 'system_fingerprint': 'fp_7a0b0d2d9a', 'finish_reason': 'tool_calls', 'logprobs': None}, id='run--0bc76419-d4ba-47e8-8212-a381124dadc0-0', tool_calls=[{'name': 'search', 'args': {'query': 'India vs England test series latest updates'}, 'id': 'ttnacnce9', 'type': 'tool_call'}], usage_metadata={'input_tokens': 201, 'output_tokens': 143, 'total_tokens': 344})]}"
      ]
     },
     "execution_count": 58,
     "metadata": {},
     "output_type": "execute_result"
    }
   ],
   "source": [
    "response"
   ]
  },
  {
   "cell_type": "code",
   "execution_count": 61,
   "id": "743a9b35",
   "metadata": {},
   "outputs": [
    {
     "name": "stdout",
     "output_type": "stream",
     "text": [
      "StateSnapshot(values={'messages': [HumanMessage(content='What is the current update on Ind vs Eng test series', additional_kwargs={}, response_metadata={}), AIMessage(content='', additional_kwargs={'tool_calls': [{'id': 'ttnacnce9', 'function': {'arguments': '{\"query\":\"India vs England test series latest updates\"}', 'name': 'search'}, 'type': 'function'}]}, response_metadata={'token_usage': {'completion_tokens': 143, 'prompt_tokens': 201, 'total_tokens': 344, 'completion_time': 0.26506399, 'prompt_time': 0.007604276, 'queue_time': 0.060034654, 'total_time': 0.272668266}, 'model_name': 'qwen/qwen3-32b', 'system_fingerprint': 'fp_7a0b0d2d9a', 'finish_reason': 'tool_calls', 'logprobs': None}, id='run--0bc76419-d4ba-47e8-8212-a381124dadc0-0', tool_calls=[{'name': 'search', 'args': {'query': 'India vs England test series latest updates'}, 'id': 'ttnacnce9', 'type': 'tool_call'}], usage_metadata={'input_tokens': 201, 'output_tokens': 143, 'total_tokens': 344})]}, next=('tools',), config={'configurable': {'thread_id': '1', 'checkpoint_ns': '', 'checkpoint_id': '1f054a4b-4fe0-684c-8001-b9756a33e5dc'}}, metadata={'source': 'loop', 'writes': {'ai_assistant': {'messages': [AIMessage(content='', additional_kwargs={'tool_calls': [{'id': 'ttnacnce9', 'function': {'arguments': '{\"query\":\"India vs England test series latest updates\"}', 'name': 'search'}, 'type': 'function'}]}, response_metadata={'token_usage': {'completion_tokens': 143, 'prompt_tokens': 201, 'total_tokens': 344, 'completion_time': 0.26506399, 'prompt_time': 0.007604276, 'queue_time': 0.060034654, 'total_time': 0.272668266}, 'model_name': 'qwen/qwen3-32b', 'system_fingerprint': 'fp_7a0b0d2d9a', 'finish_reason': 'tool_calls', 'logprobs': None}, id='run--0bc76419-d4ba-47e8-8212-a381124dadc0-0', tool_calls=[{'name': 'search', 'args': {'query': 'India vs England test series latest updates'}, 'id': 'ttnacnce9', 'type': 'tool_call'}], usage_metadata={'input_tokens': 201, 'output_tokens': 143, 'total_tokens': 344})]}}, 'step': 1, 'parents': {}, 'thread_id': '1'}, created_at='2025-06-29T04:51:23.640225+00:00', parent_config={'configurable': {'thread_id': '1', 'checkpoint_ns': '', 'checkpoint_id': '1f054a4b-4aea-66ab-8000-23752297a9f5'}}, tasks=(PregelTask(id='bbb9893d-d954-d6ad-737a-a15b313d4309', name='tools', path=('__pregel_pull', 'tools'), error=None, interrupts=(), state=None, result=None),), interrupts=())\n"
     ]
    }
   ],
   "source": [
    "snapshot=app2.get_state(config)\n",
    "print(snapshot)"
   ]
  },
  {
   "cell_type": "markdown",
   "id": "8dc9bb2a",
   "metadata": {},
   "source": [
    "### SnapShot Message\n",
    "\n",
    "StateSnapshot(\n",
    "    values={\n",
    "        'messages': [HumanMessage(content='What is the current update on Ind vs Eng test series', additional_kwargs={}, response_metadata={}), AIMessage(content='', additional_kwargs={'tool_calls': [{'id': 'ttnacnce9', 'function': {'arguments': '{\"query\":\"India vs England test series latest updates\"}', 'name': 'search'}, 'type': 'function'}]}, response_metadata={'token_usage': {'completion_tokens': 143, 'prompt_tokens': 201, 'total_tokens': 344, 'completion_time': 0.26506399, 'prompt_time': 0.007604276, 'queue_time': 0.060034654, 'total_time': 0.272668266}, 'model_name': 'qwen/qwen3-32b', 'system_fingerprint': 'fp_7a0b0d2d9a', 'finish_reason': 'tool_calls', 'logprobs': None}, id='run--0bc76419-d4ba-47e8-8212-a381124dadc0-0', tool_calls=[{'name': 'search', 'args': {'query': 'India vs England test series latest updates'}, 'id': 'ttnacnce9', 'type': 'tool_call'}], usage_metadata={'input_tokens': 201, 'output_tokens': 143, 'total_tokens': 344})]}, \n",
    "    \n",
    "    next=(\n",
    "        'tools',), \n",
    "    \n",
    "    config={\n",
    "        'configurable': {'thread_id': '1', 'checkpoint_ns': '', 'checkpoint_id': '1f054a4b-4fe0-684c-8001-b9756a33e5dc'}}, \n",
    "    \n",
    "    metadata={\n",
    "        'source': 'loop', 'writes': {'ai_assistant': {'messages': [AIMessage(content='', additional_kwargs={'tool_calls': [{'id': 'ttnacnce9', 'function': {'arguments': '{\"query\":\"India vs England test series latest updates\"}', 'name': 'search'}, 'type': 'function'}]}, response_metadata={'token_usage': {'completion_tokens': 143, 'prompt_tokens': 201, 'total_tokens': 344, 'completion_time': 0.26506399, 'prompt_time': 0.007604276, 'queue_time': 0.060034654, 'total_time': 0.272668266}, 'model_name': 'qwen/qwen3-32b', 'system_fingerprint': 'fp_7a0b0d2d9a', 'finish_reason': 'tool_calls', 'logprobs': None}, id='run--0bc76419-d4ba-47e8-8212-a381124dadc0-0', tool_calls=[{'name': 'search', 'args': {'query': 'India vs England test series latest updates'}, 'id': 'ttnacnce9', 'type': 'tool_call'}], usage_metadata={'input_tokens': 201, 'output_tokens': 143, 'total_tokens': 344})]}}, 'step': 1, 'parents': {}, 'thread_id': '1'}, created_at='2025-06-29T04:51:23.640225+00:00', \n",
    "    \n",
    "    parent_config={\n",
    "        'configurable': {'thread_id': '1', 'checkpoint_ns': '', 'checkpoint_id': '1f054a4b-4aea-66ab-8000-23752297a9f5'}}, \n",
    "    \n",
    "    tasks=(\n",
    "        PregelTask(id='bbb9893d-d954-d6ad-737a-a15b313d4309', name='tools', path=('__pregel_pull', 'tools'), error=None, interrupts=(), state=None, result=None),), interrupts=())"
   ]
  },
  {
   "cell_type": "code",
   "execution_count": 67,
   "id": "b4dd0116",
   "metadata": {},
   "outputs": [
    {
     "name": "stdout",
     "output_type": "stream",
     "text": [
      "{'messages': [HumanMessage(content='What is the current update on Ind vs Eng test series', additional_kwargs={}, response_metadata={}), AIMessage(content='', additional_kwargs={'tool_calls': [{'id': 'ttnacnce9', 'function': {'arguments': '{\"query\":\"India vs England test series latest updates\"}', 'name': 'search'}, 'type': 'function'}]}, response_metadata={'token_usage': {'completion_tokens': 143, 'prompt_tokens': 201, 'total_tokens': 344, 'completion_time': 0.26506399, 'prompt_time': 0.007604276, 'queue_time': 0.060034654, 'total_time': 0.272668266}, 'model_name': 'qwen/qwen3-32b', 'system_fingerprint': 'fp_7a0b0d2d9a', 'finish_reason': 'tool_calls', 'logprobs': None}, id='run--0bc76419-d4ba-47e8-8212-a381124dadc0-0', tool_calls=[{'name': 'search', 'args': {'query': 'India vs England test series latest updates'}, 'id': 'ttnacnce9', 'type': 'tool_call'}], usage_metadata={'input_tokens': 201, 'output_tokens': 143, 'total_tokens': 344})]}\n",
      "('tools',)\n",
      "{'configurable': {'thread_id': '1', 'checkpoint_ns': '', 'checkpoint_id': '1f054a4b-4fe0-684c-8001-b9756a33e5dc'}}\n",
      "{'source': 'loop', 'writes': {'ai_assistant': {'messages': [AIMessage(content='', additional_kwargs={'tool_calls': [{'id': 'ttnacnce9', 'function': {'arguments': '{\"query\":\"India vs England test series latest updates\"}', 'name': 'search'}, 'type': 'function'}]}, response_metadata={'token_usage': {'completion_tokens': 143, 'prompt_tokens': 201, 'total_tokens': 344, 'completion_time': 0.26506399, 'prompt_time': 0.007604276, 'queue_time': 0.060034654, 'total_time': 0.272668266}, 'model_name': 'qwen/qwen3-32b', 'system_fingerprint': 'fp_7a0b0d2d9a', 'finish_reason': 'tool_calls', 'logprobs': None}, id='run--0bc76419-d4ba-47e8-8212-a381124dadc0-0', tool_calls=[{'name': 'search', 'args': {'query': 'India vs England test series latest updates'}, 'id': 'ttnacnce9', 'type': 'tool_call'}], usage_metadata={'input_tokens': 201, 'output_tokens': 143, 'total_tokens': 344})]}}, 'step': 1, 'parents': {}, 'thread_id': '1'}\n",
      "2025-06-29T04:51:23.640225+00:00\n",
      "{'configurable': {'thread_id': '1', 'checkpoint_ns': '', 'checkpoint_id': '1f054a4b-4aea-66ab-8000-23752297a9f5'}}\n",
      "(PregelTask(id='bbb9893d-d954-d6ad-737a-a15b313d4309', name='tools', path=('__pregel_pull', 'tools'), error=None, interrupts=(), state=None, result=None),)\n",
      "()\n"
     ]
    }
   ],
   "source": [
    "for i in snapshot:\n",
    "    print(i)"
   ]
  },
  {
   "cell_type": "code",
   "execution_count": 62,
   "id": "00486b68",
   "metadata": {},
   "outputs": [
    {
     "data": {
      "text/plain": [
       "('tools',)"
      ]
     },
     "execution_count": 62,
     "metadata": {},
     "output_type": "execute_result"
    }
   ],
   "source": [
    "snapshot.next"
   ]
  },
  {
   "cell_type": "code",
   "execution_count": null,
   "id": "a3c09eab",
   "metadata": {},
   "outputs": [
    {
     "data": {
      "text/plain": [
       "[{'name': 'search',\n",
       "  'args': {'query': 'India vs England test series latest updates'},\n",
       "  'id': 'ttnacnce9',\n",
       "  'type': 'tool_call'}]"
      ]
     },
     "execution_count": 70,
     "metadata": {},
     "output_type": "execute_result"
    }
   ],
   "source": [
    "snapshot.values['messages'][-1].tool_calls\n"
   ]
  },
  {
   "cell_type": "code",
   "execution_count": 74,
   "id": "e31a5f53",
   "metadata": {},
   "outputs": [
    {
     "data": {
      "text/plain": [
       "AIMessage(content='', additional_kwargs={'tool_calls': [{'id': 'ttnacnce9', 'function': {'arguments': '{\"query\":\"India vs England test series latest updates\"}', 'name': 'search'}, 'type': 'function'}]}, response_metadata={'token_usage': {'completion_tokens': 143, 'prompt_tokens': 201, 'total_tokens': 344, 'completion_time': 0.26506399, 'prompt_time': 0.007604276, 'queue_time': 0.060034654, 'total_time': 0.272668266}, 'model_name': 'qwen/qwen3-32b', 'system_fingerprint': 'fp_7a0b0d2d9a', 'finish_reason': 'tool_calls', 'logprobs': None}, id='run--0bc76419-d4ba-47e8-8212-a381124dadc0-0', tool_calls=[{'name': 'search', 'args': {'query': 'India vs England test series latest updates'}, 'id': 'ttnacnce9', 'type': 'tool_call'}], usage_metadata={'input_tokens': 201, 'output_tokens': 143, 'total_tokens': 344})"
      ]
     },
     "execution_count": 74,
     "metadata": {},
     "output_type": "execute_result"
    }
   ],
   "source": [
    "last_message =snapshot.values['messages'][-1]\n",
    "last_message"
   ]
  },
  {
   "cell_type": "code",
   "execution_count": 72,
   "id": "880f5d35",
   "metadata": {},
   "outputs": [
    {
     "data": {
      "text/plain": [
       "[{'name': 'search',\n",
       "  'args': {'query': 'India vs England test series latest updates'},\n",
       "  'id': 'ttnacnce9',\n",
       "  'type': 'tool_call'}]"
      ]
     },
     "execution_count": 72,
     "metadata": {},
     "output_type": "execute_result"
    }
   ],
   "source": [
    "last_message.tool_calls"
   ]
  },
  {
   "cell_type": "code",
   "execution_count": 76,
   "id": "1fa83d5d",
   "metadata": {},
   "outputs": [
    {
     "data": {
      "text/plain": [
       "[{'name': 'search',\n",
       "  'args': {'query': 'India vs England test series latest updates'},\n",
       "  'id': 'ttnacnce9',\n",
       "  'type': 'tool_call'}]"
      ]
     },
     "execution_count": 76,
     "metadata": {},
     "output_type": "execute_result"
    }
   ],
   "source": [
    "tools_detail = last_message.tool_calls\n",
    "tools_detail"
   ]
  },
  {
   "cell_type": "code",
   "execution_count": null,
   "id": "82382720",
   "metadata": {},
   "outputs": [
    {
     "name": "stdout",
     "output_type": "stream",
     "text": [
      "<-- AI Assistant -->\n"
     ]
    },
    {
     "data": {
      "text/plain": [
       "{'messages': [HumanMessage(content='What is the current update on Ind vs Eng test series', additional_kwargs={}, response_metadata={}),\n",
       "  AIMessage(content='', additional_kwargs={'tool_calls': [{'id': 'ttnacnce9', 'function': {'arguments': '{\"query\":\"India vs England test series latest updates\"}', 'name': 'search'}, 'type': 'function'}]}, response_metadata={'token_usage': {'completion_tokens': 143, 'prompt_tokens': 201, 'total_tokens': 344, 'completion_time': 0.26506399, 'prompt_time': 0.007604276, 'queue_time': 0.060034654, 'total_time': 0.272668266}, 'model_name': 'qwen/qwen3-32b', 'system_fingerprint': 'fp_7a0b0d2d9a', 'finish_reason': 'tool_calls', 'logprobs': None}, id='run--0bc76419-d4ba-47e8-8212-a381124dadc0-0', tool_calls=[{'name': 'search', 'args': {'query': 'India vs England test series latest updates'}, 'id': 'ttnacnce9', 'type': 'tool_call'}], usage_metadata={'input_tokens': 201, 'output_tokens': 143, 'total_tokens': 344}),\n",
       "  ToolMessage(content='Result for India vs England test series latest updates is: \\n[{\\'title\\': \\'Indian cricket team in England in 2025 - Wikipedia\\', \\'url\\': \\'https://en.wikipedia.org/wiki/Indian_cricket_team_in_England_in_2025\\', \\'content\\': \\'## Test series\\\\n\\\\n### 1st Test\\\\n\\\\n|  |\\\\n| --- |\\\\n| 20–24 June 2025  Scorecard |\\\\n\\\\n|  |  |  |\\\\n| --- | --- | --- |\\\\n| India | v | England |\\\\n| 471 (113 overs) Shubman Gill 147 (227) Ben Stokes 4/66 (20 overs) |  | 465 (100.4 overs) Ollie Pope 106 (137) Jasprit Bumrah 5/83 (24.4 overs) |\\\\n| 364 (96 overs) KL Rahul 137 (247) Josh Tongue 3/72 (18 overs) |  | 373/5 (82 overs) Ben Duckett 149 (170) Shardul Thakur 2/51 (10 overs) | [...] ### 1st unofficial Test\\\\n\\\\n|  |\\\\n| --- |\\\\n| 30 May – 2 June 2025  Scorecard |\\\\n\\\\n|  |  |  |\\\\n| --- | --- | --- |\\\\n| India A | v | England Lions |\\\\n| 557 (125.1 overs) Karun Nair 204 (281) Josh Hull \"Josh Hull (cricketer)\") 3/72 (20 overs) |  | 587 (145.5 overs) Tom Haines 171 (279) Mukesh Kumar \"Mukesh Kumar (cricketer)\") 3/92 (25 overs) |\\\\n| 241/2 (41 overs) Abhimanyu Easwaran 68 (87) Rehan Ahmed 2/41 (12 overs) |  |  | [...] |  |  |  |\\\\n| --- | --- | --- |\\\\n| England | v | India |\\\\n|  |  |  |\\\\n|  |  |  |\\\\n\\\\n|  |\\\\n| --- |\\\\n| Lord\\\\\\'s, London  Umpires: Paul Reiffel (Aus) and Sharfuddoula (Ban) |\\\\n\\\\n### 4th Test\\\\n\\\\n|  |\\\\n| --- |\\\\n| 23–27 July 2025  Scorecard |\\\\n\\\\n|  |  |  |\\\\n| --- | --- | --- |\\\\n| England | v | India |\\\\n|  |  |  |\\\\n|  |  |  |\\\\n\\\\n|  |\\\\n| --- |\\\\n| Old Trafford, Manchester  Umpires: Ahsan Raza (Pak) and Rod Tucker (Aus) |\\\\n\\\\n### 5th Test\\\\n\\\\n|  |\\\\n| --- |\\\\n| 31 July – 4 August 2025  Scorecard |\\', \\'score\\': 0.8619225}, {\\'title\\': \\'ENG Vs IND First Test, Live Score: Full Scorecard, Toss ... - Wisden\\', \\'url\\': \\'https://wisden.com/series/england-vs-india-m-2025/cricket-news/todays-eng-vs-ind-first-test-live-score-full-scorecard-toss-playing-xi-and-where-to-watch-live\\', \\'content\\': \\'England take on India in the first of the five-match Test series from Friday (June 20) at Headingley: find all match updates including live score, commentary, toss updates and more from the ENG vs IND game here.\\', \\'score\\': 0.77893573}, {\\'title\\': \\'India vs England 2025 Schedule - Hindustan Times\\', \\'url\\': \\'https://www.hindustantimes.com/cricket/series-india-vs-england-2025/schedule\\', \\'content\\': \\'The India-England Test series 2025 will begin on June 20, 2025, with the first match at Headingley, Leeds. Who is the captain of the Indian team for the India-\\', \\'score\\': 0.7785319}, {\\'title\\': \\'India vs England Test Series Match Schedule and Time Table\\', \\'url\\': \\'https://timesofindia.indiatimes.com/sports/cricket/india-vs-england/schedule\\', \\'content\\': \\'2 Jul, 2025 03:00 a.m.. Birmingham. 2nd Test. ENG. IND. Remind me · 10 Jul, 2025 03:00 a.m.. London. 3rd Test. ENG. IND. Remind me.\\', \\'score\\': 0.7783298}, {\\'title\\': \\'Ball by Ball Commentary & Live Score - ENG vs IND, 1st Test\\', \\'url\\': \\'https://www.espncricinfo.com/series/india-in-england-2025-1445348/england-vs-india-1st-test-1448349/ball-by-ball-commentary\\', \\'content\\': \\'Check the full commentary and live score updates of the England vs India 1st Test 2025 in Leeds dated June 20 - 24, 2025 on ESPNcricinfo.\\', \\'score\\': 0.7777226}]', name='search', tool_call_id='ttnacnce9'),\n",
       "  AIMessage(content=\"The India vs England Test series in 2025 is currently underway with the **1st Test** taking place at Headingley from **June 20–24, 2025**. Here's the latest update:\\n\\n### **1st Test Summary**  \\n- **India's 1st Innings**: 471 (Shubman Gill 147, Ben Stokes 4/66)  \\n- **England's 1st Innings**: 465 (Ollie Pope 106, Jasprit Bumrah 5/83)  \\n- **India's 2nd Innings**: 364 (KL Rahul 137, Josh Tongue 3/72)  \\n- **England's 2nd Innings**: 373/5 (Ben Duckett 149, Shardul Thakur 2/51)  \\n\\nThe match is still in progress, with England needing 5 wickets to win in their second innings. Live scores and commentary are available on platforms like [ESPNcricinfo](https://www.espncricinfo.com) and [Wisden](https://wisden.com).\\n\\n### **Upcoming Tests**  \\n- **2nd Test**: Birmingham, **July 2–6, 2025**  \\n- **3rd Test**: London, **July 10–14, 2025**  \\n- **4th Test**: Old Trafford, **July 23–27, 2025**  \\n- **5th Test**: Edgbaston, **August 3–7, 2025**  \\n\\nFor real-time updates, check [Wikipedia](https://en.wikipedia.org/wiki/Indian_cricket_team_in_England_in_2025) or [Hindustan Times](https://www.hindustantimes.com).\", additional_kwargs={}, response_metadata={'token_usage': {'completion_tokens': 698, 'prompt_tokens': 1494, 'total_tokens': 2192, 'completion_time': 1.330358989, 'prompt_time': 0.067944559, 'queue_time': 0.065382121, 'total_time': 1.398303548}, 'model_name': 'qwen/qwen3-32b', 'system_fingerprint': 'fp_7a0b0d2d9a', 'finish_reason': 'stop', 'logprobs': None}, id='run--0888bb43-2db6-427d-a33c-247cbd6790b5-0', usage_metadata={'input_tokens': 1494, 'output_tokens': 698, 'total_tokens': 2192})]}"
      ]
     },
     "execution_count": 73,
     "metadata": {},
     "output_type": "execute_result"
    }
   ],
   "source": [
    "## none means resume the tools call\n",
    "app2.invoke(None, config=config)"
   ]
  },
  {
   "cell_type": "code",
   "execution_count": 83,
   "id": "b1325286",
   "metadata": {},
   "outputs": [
    {
     "name": "stdout",
     "output_type": "stream",
     "text": [
      "The India vs England Test series in 2025 is currently underway with the **1st Test** taking place at Headingley from **June 20–24, 2025**. Here's the latest update:\n",
      "\n",
      "### **1st Test Summary**  \n",
      "- **India's 1st Innings**: 471 (Shubman Gill 147, Ben Stokes 4/66)  \n",
      "- **England's 1st Innings**: 465 (Ollie Pope 106, Jasprit Bumrah 5/83)  \n",
      "- **India's 2nd Innings**: 364 (KL Rahul 137, Josh Tongue 3/72)  \n",
      "- **England's 2nd Innings**: 373/5 (Ben Duckett 149, Shardul Thakur 2/51)  \n",
      "\n",
      "The match is still in progress, with England needing 5 wickets to win in their second innings. Live scores and commentary are available on platforms like [ESPNcricinfo](https://www.espncricinfo.com) and [Wisden](https://wisden.com).\n",
      "\n",
      "### **Upcoming Tests**  \n",
      "- **2nd Test**: Birmingham, **July 2–6, 2025**  \n",
      "- **3rd Test**: London, **July 10–14, 2025**  \n",
      "- **4th Test**: Old Trafford, **July 23–27, 2025**  \n",
      "- **5th Test**: Edgbaston, **August 3–7, 2025**  \n",
      "\n",
      "For real-time updates, check [Wikipedia](https://en.wikipedia.org/wiki/Indian_cricket_team_in_England_in_2025) or [Hindustan Times](https://www.hindustantimes.com).\n"
     ]
    }
   ],
   "source": [
    "try:\n",
    "    if tools_detail[0]['name'] =='search':\n",
    "        user_input = input(prompt= f\"[yes/no] do you want to continue with {tools_detail[0]['name']}\").lower()\n",
    "        if user_input=='no':\n",
    "            print('User denied use of the tool. Exiting the Application')\n",
    "            raise Exception(f'User denied use of {tools_detail[0]['name']}')\n",
    "        else:\n",
    "            response =app2.invoke(None, config=config)\n",
    "            print(response['messages'][-1].content)\n",
    "    else:\n",
    "        response =app2.invoke(None,config=config)\n",
    "        print(response['messages'][-1].content)\n",
    "except Exception as e:\n",
    "    print(f\"Exception : {str(e)}\")"
   ]
  },
  {
   "cell_type": "code",
   "execution_count": 84,
   "id": "9d34aac9",
   "metadata": {},
   "outputs": [],
   "source": [
    "from langchain_core.messages import AIMessage, ToolMessage"
   ]
  },
  {
   "cell_type": "code",
   "execution_count": 85,
   "id": "e9b737bb",
   "metadata": {},
   "outputs": [
    {
     "name": "stdout",
     "output_type": "stream",
     "text": [
      "<-- AI Assistant -->\n"
     ]
    }
   ],
   "source": [
    "config = {'configurable':{\"thread_id\":'1'}}\n",
    "message = [HumanMessage(content='What is the current gdp of India')]\n",
    "response = app2.invoke({'messages':message},config=config)"
   ]
  },
  {
   "cell_type": "code",
   "execution_count": 86,
   "id": "474a9737",
   "metadata": {},
   "outputs": [
    {
     "data": {
      "text/plain": [
       "{'messages': [HumanMessage(content='What is the current update on Ind vs Eng test series', additional_kwargs={}, response_metadata={}),\n",
       "  AIMessage(content='', additional_kwargs={'tool_calls': [{'id': 'ttnacnce9', 'function': {'arguments': '{\"query\":\"India vs England test series latest updates\"}', 'name': 'search'}, 'type': 'function'}]}, response_metadata={'token_usage': {'completion_tokens': 143, 'prompt_tokens': 201, 'total_tokens': 344, 'completion_time': 0.26506399, 'prompt_time': 0.007604276, 'queue_time': 0.060034654, 'total_time': 0.272668266}, 'model_name': 'qwen/qwen3-32b', 'system_fingerprint': 'fp_7a0b0d2d9a', 'finish_reason': 'tool_calls', 'logprobs': None}, id='run--0bc76419-d4ba-47e8-8212-a381124dadc0-0', tool_calls=[{'name': 'search', 'args': {'query': 'India vs England test series latest updates'}, 'id': 'ttnacnce9', 'type': 'tool_call'}], usage_metadata={'input_tokens': 201, 'output_tokens': 143, 'total_tokens': 344}),\n",
       "  ToolMessage(content='Result for India vs England test series latest updates is: \\n[{\\'title\\': \\'Indian cricket team in England in 2025 - Wikipedia\\', \\'url\\': \\'https://en.wikipedia.org/wiki/Indian_cricket_team_in_England_in_2025\\', \\'content\\': \\'## Test series\\\\n\\\\n### 1st Test\\\\n\\\\n|  |\\\\n| --- |\\\\n| 20–24 June 2025  Scorecard |\\\\n\\\\n|  |  |  |\\\\n| --- | --- | --- |\\\\n| India | v | England |\\\\n| 471 (113 overs) Shubman Gill 147 (227) Ben Stokes 4/66 (20 overs) |  | 465 (100.4 overs) Ollie Pope 106 (137) Jasprit Bumrah 5/83 (24.4 overs) |\\\\n| 364 (96 overs) KL Rahul 137 (247) Josh Tongue 3/72 (18 overs) |  | 373/5 (82 overs) Ben Duckett 149 (170) Shardul Thakur 2/51 (10 overs) | [...] ### 1st unofficial Test\\\\n\\\\n|  |\\\\n| --- |\\\\n| 30 May – 2 June 2025  Scorecard |\\\\n\\\\n|  |  |  |\\\\n| --- | --- | --- |\\\\n| India A | v | England Lions |\\\\n| 557 (125.1 overs) Karun Nair 204 (281) Josh Hull \"Josh Hull (cricketer)\") 3/72 (20 overs) |  | 587 (145.5 overs) Tom Haines 171 (279) Mukesh Kumar \"Mukesh Kumar (cricketer)\") 3/92 (25 overs) |\\\\n| 241/2 (41 overs) Abhimanyu Easwaran 68 (87) Rehan Ahmed 2/41 (12 overs) |  |  | [...] |  |  |  |\\\\n| --- | --- | --- |\\\\n| England | v | India |\\\\n|  |  |  |\\\\n|  |  |  |\\\\n\\\\n|  |\\\\n| --- |\\\\n| Lord\\\\\\'s, London  Umpires: Paul Reiffel (Aus) and Sharfuddoula (Ban) |\\\\n\\\\n### 4th Test\\\\n\\\\n|  |\\\\n| --- |\\\\n| 23–27 July 2025  Scorecard |\\\\n\\\\n|  |  |  |\\\\n| --- | --- | --- |\\\\n| England | v | India |\\\\n|  |  |  |\\\\n|  |  |  |\\\\n\\\\n|  |\\\\n| --- |\\\\n| Old Trafford, Manchester  Umpires: Ahsan Raza (Pak) and Rod Tucker (Aus) |\\\\n\\\\n### 5th Test\\\\n\\\\n|  |\\\\n| --- |\\\\n| 31 July – 4 August 2025  Scorecard |\\', \\'score\\': 0.8619225}, {\\'title\\': \\'ENG Vs IND First Test, Live Score: Full Scorecard, Toss ... - Wisden\\', \\'url\\': \\'https://wisden.com/series/england-vs-india-m-2025/cricket-news/todays-eng-vs-ind-first-test-live-score-full-scorecard-toss-playing-xi-and-where-to-watch-live\\', \\'content\\': \\'England take on India in the first of the five-match Test series from Friday (June 20) at Headingley: find all match updates including live score, commentary, toss updates and more from the ENG vs IND game here.\\', \\'score\\': 0.77893573}, {\\'title\\': \\'India vs England 2025 Schedule - Hindustan Times\\', \\'url\\': \\'https://www.hindustantimes.com/cricket/series-india-vs-england-2025/schedule\\', \\'content\\': \\'The India-England Test series 2025 will begin on June 20, 2025, with the first match at Headingley, Leeds. Who is the captain of the Indian team for the India-\\', \\'score\\': 0.7785319}, {\\'title\\': \\'India vs England Test Series Match Schedule and Time Table\\', \\'url\\': \\'https://timesofindia.indiatimes.com/sports/cricket/india-vs-england/schedule\\', \\'content\\': \\'2 Jul, 2025 03:00 a.m.. Birmingham. 2nd Test. ENG. IND. Remind me · 10 Jul, 2025 03:00 a.m.. London. 3rd Test. ENG. IND. Remind me.\\', \\'score\\': 0.7783298}, {\\'title\\': \\'Ball by Ball Commentary & Live Score - ENG vs IND, 1st Test\\', \\'url\\': \\'https://www.espncricinfo.com/series/india-in-england-2025-1445348/england-vs-india-1st-test-1448349/ball-by-ball-commentary\\', \\'content\\': \\'Check the full commentary and live score updates of the England vs India 1st Test 2025 in Leeds dated June 20 - 24, 2025 on ESPNcricinfo.\\', \\'score\\': 0.7777226}]', name='search', tool_call_id='ttnacnce9'),\n",
       "  AIMessage(content=\"The India vs England Test series in 2025 is currently underway with the **1st Test** taking place at Headingley from **June 20–24, 2025**. Here's the latest update:\\n\\n### **1st Test Summary**  \\n- **India's 1st Innings**: 471 (Shubman Gill 147, Ben Stokes 4/66)  \\n- **England's 1st Innings**: 465 (Ollie Pope 106, Jasprit Bumrah 5/83)  \\n- **India's 2nd Innings**: 364 (KL Rahul 137, Josh Tongue 3/72)  \\n- **England's 2nd Innings**: 373/5 (Ben Duckett 149, Shardul Thakur 2/51)  \\n\\nThe match is still in progress, with England needing 5 wickets to win in their second innings. Live scores and commentary are available on platforms like [ESPNcricinfo](https://www.espncricinfo.com) and [Wisden](https://wisden.com).\\n\\n### **Upcoming Tests**  \\n- **2nd Test**: Birmingham, **July 2–6, 2025**  \\n- **3rd Test**: London, **July 10–14, 2025**  \\n- **4th Test**: Old Trafford, **July 23–27, 2025**  \\n- **5th Test**: Edgbaston, **August 3–7, 2025**  \\n\\nFor real-time updates, check [Wikipedia](https://en.wikipedia.org/wiki/Indian_cricket_team_in_England_in_2025) or [Hindustan Times](https://www.hindustantimes.com).\", additional_kwargs={}, response_metadata={'token_usage': {'completion_tokens': 698, 'prompt_tokens': 1494, 'total_tokens': 2192, 'completion_time': 1.330358989, 'prompt_time': 0.067944559, 'queue_time': 0.065382121, 'total_time': 1.398303548}, 'model_name': 'qwen/qwen3-32b', 'system_fingerprint': 'fp_7a0b0d2d9a', 'finish_reason': 'stop', 'logprobs': None}, id='run--0888bb43-2db6-427d-a33c-247cbd6790b5-0', usage_metadata={'input_tokens': 1494, 'output_tokens': 698, 'total_tokens': 2192}),\n",
       "  HumanMessage(content='What is the current gdp of India', additional_kwargs={}, response_metadata={}),\n",
       "  AIMessage(content='', additional_kwargs={'tool_calls': [{'id': '5cwkmv86x', 'function': {'arguments': '{\"query\":\"India\\'s current GDP 2024\"}', 'name': 'search'}, 'type': 'function'}]}, response_metadata={'token_usage': {'completion_tokens': 457, 'prompt_tokens': 1917, 'total_tokens': 2374, 'completion_time': 1.088260944, 'prompt_time': 0.087278208, 'queue_time': 0.066767421, 'total_time': 1.175539152}, 'model_name': 'qwen/qwen3-32b', 'system_fingerprint': 'fp_7a0b0d2d9a', 'finish_reason': 'tool_calls', 'logprobs': None}, id='run--c7768951-8eb5-4737-b8d8-b78523688769-0', tool_calls=[{'name': 'search', 'args': {'query': \"India's current GDP 2024\"}, 'id': '5cwkmv86x', 'type': 'tool_call'}], usage_metadata={'input_tokens': 1917, 'output_tokens': 457, 'total_tokens': 2374})]}"
      ]
     },
     "execution_count": 86,
     "metadata": {},
     "output_type": "execute_result"
    }
   ],
   "source": [
    "response"
   ]
  },
  {
   "cell_type": "code",
   "execution_count": null,
   "id": "f99cf5fc",
   "metadata": {},
   "outputs": [],
   "source": []
  }
 ],
 "metadata": {
  "kernelspec": {
   "display_name": "Python 3",
   "language": "python",
   "name": "python3"
  },
  "language_info": {
   "codemirror_mode": {
    "name": "ipython",
    "version": 3
   },
   "file_extension": ".py",
   "mimetype": "text/x-python",
   "name": "python",
   "nbconvert_exporter": "python",
   "pygments_lexer": "ipython3",
   "version": "3.12.0"
  }
 },
 "nbformat": 4,
 "nbformat_minor": 5
}
