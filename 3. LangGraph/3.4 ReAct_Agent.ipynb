{
 "cells": [
  {
   "cell_type": "markdown",
   "id": "c25dc04d",
   "metadata": {},
   "source": [
    "## ReAct Agent with Tools"
   ]
  },
  {
   "cell_type": "code",
   "execution_count": 3,
   "id": "f6ab3de2",
   "metadata": {},
   "outputs": [],
   "source": [
    "import os\n",
    "from dotenv import load_dotenv\n",
    "load_dotenv()\n",
    "from langchain_groq import ChatGroq"
   ]
  },
  {
   "cell_type": "code",
   "execution_count": 2,
   "id": "be696bce",
   "metadata": {},
   "outputs": [],
   "source": [
    "## Load LLM model\n",
    "model = 'deepseek-r1-distill-llama-70b'\n",
    "llm = ChatGroq(model=model)"
   ]
  },
  {
   "cell_type": "code",
   "execution_count": 3,
   "id": "2366c604",
   "metadata": {},
   "outputs": [
    {
     "data": {
      "text/plain": [
       "'<think>\\n\\n</think>\\n\\nHello! How can I assist you today? 😊'"
      ]
     },
     "execution_count": 3,
     "metadata": {},
     "output_type": "execute_result"
    }
   ],
   "source": [
    "## Test model\n",
    "llm.invoke('Hi').content"
   ]
  },
  {
   "cell_type": "markdown",
   "id": "41ae7400",
   "metadata": {},
   "source": [
    "### "
   ]
  },
  {
   "cell_type": "code",
   "execution_count": 2,
   "id": "be5941bb",
   "metadata": {},
   "outputs": [],
   "source": [
    "import operator\n",
    "from typing import List, TypedDict, Annotated, Sequence\n",
    "from pydantic import BaseModel, Field\n",
    "from langchain_core.messages import BaseMessage\n",
    "from langchain_core.output_parsers import StrOutputParser\n",
    "from langchain_core.prompts import ChatPromptTemplate, PromptTemplate\n",
    "from langgraph.graph import StateGraph, MessagesState, START, END\n",
    "from langchain_core.messages import HumanMessage, AIMessage\n",
    "from langgraph.prebuilt import ToolNode"
   ]
  },
  {
   "cell_type": "code",
   "execution_count": 5,
   "id": "c98de98e",
   "metadata": {},
   "outputs": [],
   "source": [
    "def call_model(state: MessagesState):\n",
    "    question = state['messages']\n",
    "    response = llm.invoke(question)\n",
    "    return {'messages':[response]}"
   ]
  },
  {
   "cell_type": "code",
   "execution_count": 6,
   "id": "dbe121d9",
   "metadata": {},
   "outputs": [],
   "source": [
    "def call_model2(state: MessagesState):\n",
    "    message = state['messages']\n",
    "    print(message)\n",
    "    question = HumanMessage(message)\n",
    "    response = llm.invoke(question)\n",
    "    return {'messages':[response]}"
   ]
  },
  {
   "cell_type": "code",
   "execution_count": 7,
   "id": "302cffc0",
   "metadata": {},
   "outputs": [
    {
     "data": {
      "text/plain": [
       "{'messages': [AIMessage(content=\"<think>\\n\\n</think>\\n\\nHello! I'm just a virtual assistant, so I don't have feelings, but I'm here and ready to help you with whatever you need. How are you doing? 😊\", additional_kwargs={}, response_metadata={'token_usage': {'completion_tokens': 42, 'prompt_tokens': 7, 'total_tokens': 49, 'completion_time': 0.205987285, 'prompt_time': 0.000349954, 'queue_time': 0.21818555399999998, 'total_time': 0.206337239}, 'model_name': 'deepseek-r1-distill-llama-70b', 'system_fingerprint': 'fp_1bbe7845ec', 'finish_reason': 'stop', 'logprobs': None}, id='run--c56986de-26b0-498c-b605-86c18cf26c33-0', usage_metadata={'input_tokens': 7, 'output_tokens': 42, 'total_tokens': 49})]}"
      ]
     },
     "execution_count": 7,
     "metadata": {},
     "output_type": "execute_result"
    }
   ],
   "source": [
    "state = {'messages':['Hi how are you']}\n",
    "call_model({'messages':['Hi how are you']})"
   ]
  },
  {
   "cell_type": "code",
   "execution_count": 1,
   "id": "c73b9e20",
   "metadata": {},
   "outputs": [
    {
     "ename": "NameError",
     "evalue": "name 'StateGraph' is not defined",
     "output_type": "error",
     "traceback": [
      "\u001b[31m---------------------------------------------------------------------------\u001b[39m",
      "\u001b[31mNameError\u001b[39m                                 Traceback (most recent call last)",
      "\u001b[36mCell\u001b[39m\u001b[36m \u001b[39m\u001b[32mIn[1]\u001b[39m\u001b[32m, line 2\u001b[39m\n\u001b[32m      1\u001b[39m \u001b[38;5;66;03m## create a workflow\u001b[39;00m\n\u001b[32m----> \u001b[39m\u001b[32m2\u001b[39m workflow = \u001b[43mStateGraph\u001b[49m(MessagesState)\n\u001b[32m      3\u001b[39m \u001b[38;5;66;03m## add node\u001b[39;00m\n\u001b[32m      4\u001b[39m workflow.add_node(\u001b[33m'\u001b[39m\u001b[33mChatbot\u001b[39m\u001b[33m'\u001b[39m, call_model)\n",
      "\u001b[31mNameError\u001b[39m: name 'StateGraph' is not defined"
     ]
    }
   ],
   "source": [
    "## create a workflow\n",
    "workflow = StateGraph(MessagesState)\n",
    "## add node\n",
    "workflow.add_node('Chatbot', call_model)\n",
    "## add edges\n",
    "workflow.add_edge(START,'Chatbot')\n",
    "workflow.add_edge('Chatbot',END)\n",
    "## complie the workflow\n",
    "app = workflow.compile()\n",
    "app"
   ]
  },
  {
   "cell_type": "markdown",
   "id": "20eb4a77",
   "metadata": {},
   "source": [
    "## Custom Tool"
   ]
  },
  {
   "cell_type": "code",
   "execution_count": 9,
   "id": "0d234667",
   "metadata": {},
   "outputs": [
    {
     "data": {
      "text/plain": [
       "'the temperature is 40 degree and sunny'"
      ]
     },
     "execution_count": 9,
     "metadata": {},
     "output_type": "execute_result"
    }
   ],
   "source": [
    "from langchain.tools import tool\n",
    "@tool\n",
    "def search(query:str):\n",
    "    '''this is a custom tool for searching weather'''\n",
    "    if 'delhi' in query.lower():\n",
    "        return 'the temperature is 40 degree and sunny'\n",
    "    return \"the temo is 25 degree and cloudy\"\n",
    "\n",
    "search.invoke('what is the temperature in delhi')"
   ]
  },
  {
   "cell_type": "code",
   "execution_count": 10,
   "id": "95f2ea75",
   "metadata": {},
   "outputs": [
    {
     "data": {
      "text/plain": [
       "'the temo is 25 degree and cloudy'"
      ]
     },
     "execution_count": 10,
     "metadata": {},
     "output_type": "execute_result"
    }
   ],
   "source": [
    "search.invoke('what is the temperature in Kerala')"
   ]
  },
  {
   "cell_type": "code",
   "execution_count": 11,
   "id": "cf4fdbf7",
   "metadata": {},
   "outputs": [],
   "source": [
    "llm_with_tool = llm.bind_tools([search])"
   ]
  },
  {
   "cell_type": "code",
   "execution_count": 12,
   "id": "189bf9c4",
   "metadata": {},
   "outputs": [
    {
     "data": {
      "text/plain": [
       "AIMessage(content='', additional_kwargs={'tool_calls': [{'id': 'knnfznsz8', 'function': {'arguments': '{\"query\":\"weather in Delhi\"}', 'name': 'search'}, 'type': 'function'}]}, response_metadata={'token_usage': {'completion_tokens': 126, 'prompt_tokens': 131, 'total_tokens': 257, 'completion_time': 0.469692053, 'prompt_time': 0.00903724, 'queue_time': 0.227033214, 'total_time': 0.478729293}, 'model_name': 'deepseek-r1-distill-llama-70b', 'system_fingerprint': 'fp_1bbe7845ec', 'finish_reason': 'tool_calls', 'logprobs': None}, id='run--10c61b64-adba-4b77-8ae7-d81dae5dd60c-0', tool_calls=[{'name': 'search', 'args': {'query': 'weather in Delhi'}, 'id': 'knnfznsz8', 'type': 'tool_call'}], usage_metadata={'input_tokens': 131, 'output_tokens': 126, 'total_tokens': 257})"
      ]
     },
     "execution_count": 12,
     "metadata": {},
     "output_type": "execute_result"
    }
   ],
   "source": [
    "response = llm_with_tool.invoke('what is the weather in delhi')\n",
    "response"
   ]
  },
  {
   "cell_type": "code",
   "execution_count": 13,
   "id": "dea10116",
   "metadata": {},
   "outputs": [
    {
     "data": {
      "text/plain": [
       "[{'name': 'search',\n",
       "  'args': {'query': 'weather in Delhi'},\n",
       "  'id': 'knnfznsz8',\n",
       "  'type': 'tool_call'}]"
      ]
     },
     "execution_count": 13,
     "metadata": {},
     "output_type": "execute_result"
    }
   ],
   "source": [
    "response.tool_calls"
   ]
  },
  {
   "cell_type": "code",
   "execution_count": 14,
   "id": "3c4c9bc0",
   "metadata": {},
   "outputs": [],
   "source": [
    "## Method with LLM bind tool\n",
    "def call_model(state:MessagesState):\n",
    "    question = state['messages']\n",
    "    response = llm_with_tool.invoke(question)\n",
    "    return {'messages':[response]}"
   ]
  },
  {
   "cell_type": "code",
   "execution_count": 15,
   "id": "a4e42b9e",
   "metadata": {},
   "outputs": [
    {
     "data": {
      "text/plain": [
       "{'messages': [AIMessage(content='', additional_kwargs={'tool_calls': [{'id': 'ywphz5x58', 'function': {'arguments': '{\"query\":\"what is the weather in delhi\"}', 'name': 'search'}, 'type': 'function'}]}, response_metadata={'token_usage': {'completion_tokens': 225, 'prompt_tokens': 131, 'total_tokens': 356, 'completion_time': 1.01377134, 'prompt_time': 0.008496899, 'queue_time': 0.226993817, 'total_time': 1.022268239}, 'model_name': 'deepseek-r1-distill-llama-70b', 'system_fingerprint': 'fp_1bbe7845ec', 'finish_reason': 'tool_calls', 'logprobs': None}, id='run--30f45346-1772-4e7d-a046-ad0052198da1-0', tool_calls=[{'name': 'search', 'args': {'query': 'what is the weather in delhi'}, 'id': 'ywphz5x58', 'type': 'tool_call'}], usage_metadata={'input_tokens': 131, 'output_tokens': 225, 'total_tokens': 356})]}"
      ]
     },
     "execution_count": 15,
     "metadata": {},
     "output_type": "execute_result"
    }
   ],
   "source": [
    "response = call_model({'messages':['what is the weather in delhi']})\n",
    "response"
   ]
  },
  {
   "cell_type": "code",
   "execution_count": null,
   "id": "3191e025",
   "metadata": {},
   "outputs": [],
   "source": [
    "## tool router function\n",
    "def tool_router(state:MessagesState):\n",
    "    last_message = state['messages'][-1]\n",
    "    #print(f'Last Message: {last_message}')\n",
    "    \n",
    "    if last_message.tool_calls:\n",
    "        return 'tools'\n",
    "    return END"
   ]
  },
  {
   "cell_type": "code",
   "execution_count": 17,
   "id": "8c5c059e",
   "metadata": {},
   "outputs": [
    {
     "data": {
      "image/png": "[encoded data removed]",
      "text/plain": [
       "<langgraph.graph.state.CompiledStateGraph object at 0x000001DB004DBFB0>"
      ]
     },
     "execution_count": 17,
     "metadata": {},
     "output_type": "execute_result"
    }
   ],
   "source": [
    "## Workflow\n",
    "workflow_tool = StateGraph(MessagesState)\n",
    "workflow_tool.add_node('LLM',call_model)\n",
    "workflow_tool.add_node('tools', ToolNode([search]))\n",
    "workflow_tool.add_edge(START,'LLM')\n",
    "workflow_tool.add_conditional_edges(\n",
    "    'LLM',\n",
    "    tool_router,\n",
    "    {\n",
    "        'tools':'tools',\n",
    "        END:END\n",
    "    }\n",
    ")\n",
    "workflow_tool.add_edge('tools','LLM')\n",
    "tool_app = workflow_tool.compile()\n",
    "tool_app"
   ]
  },
  {
   "cell_type": "code",
   "execution_count": 18,
   "id": "8b947ba8",
   "metadata": {},
   "outputs": [
    {
     "name": "stdout",
     "output_type": "stream",
     "text": [
      "Output : LLM\n",
      "--------------------\n",
      "Value: {'messages': [AIMessage(content='', additional_kwargs={'tool_calls': [{'id': 'gzz57g0fc', 'function': {'arguments': '{\"query\":\"temperature in Delhi\"}', 'name': 'search'}, 'type': 'function'}]}, response_metadata={'token_usage': {'completion_tokens': 97, 'prompt_tokens': 130, 'total_tokens': 227, 'completion_time': 0.447841487, 'prompt_time': 0.008595157, 'queue_time': 0.220533328, 'total_time': 0.456436644}, 'model_name': 'deepseek-r1-distill-llama-70b', 'system_fingerprint': 'fp_1bbe7845ec', 'finish_reason': 'tool_calls', 'logprobs': None}, id='run--7fab60ca-2514-416f-9060-977e62e0e543-0', tool_calls=[{'name': 'search', 'args': {'query': 'temperature in Delhi'}, 'id': 'gzz57g0fc', 'type': 'tool_call'}], usage_metadata={'input_tokens': 130, 'output_tokens': 97, 'total_tokens': 227})]}\n",
      "\n",
      "Output : tools\n",
      "--------------------\n",
      "Value: {'messages': [ToolMessage(content='the temperature is 40 degree and sunny', name='search', id='8668b055-6c00-4290-86d9-9d7c905ffaf3', tool_call_id='gzz57g0fc')]}\n",
      "\n",
      "Output : LLM\n",
      "--------------------\n",
      "Value: {'messages': [AIMessage(content='The temperature in Delhi is 40 degrees and sunny.', additional_kwargs={}, response_metadata={'token_usage': {'completion_tokens': 273, 'prompt_tokens': 188, 'total_tokens': 461, 'completion_time': 1.45825575, 'prompt_time': 0.019376246, 'queue_time': 0.227153257, 'total_time': 1.477631996}, 'model_name': 'deepseek-r1-distill-llama-70b', 'system_fingerprint': 'fp_1bbe7845ec', 'finish_reason': 'stop', 'logprobs': None}, id='run--7b60370c-7624-4d72-b729-29cd646452f1-0', usage_metadata={'input_tokens': 188, 'output_tokens': 273, 'total_tokens': 461})]}\n",
      "\n"
     ]
    }
   ],
   "source": [
    "## Stream graph steps for single input\n",
    "\n",
    "for output in tool_app.stream({'messages':'what is the temperature in Delhi'}):\n",
    "    for key,value in output.items():\n",
    "        print(f'Output : {key}')\n",
    "        print(\"-\"*20)\n",
    "        print(f'Value: {value}\\n')"
   ]
  },
  {
   "cell_type": "markdown",
   "id": "45a28c06",
   "metadata": {},
   "source": [
    "### Memory in Agent\n",
    "\n",
    "\n",
    "A checkpoint saver object or flag. If provided, this Checkpointer serves as a fully versioned \"short-term memory\" for the graph, allowing it to be paused, resumed, and replayed from any point. If None, it may inherit the parent graph's checkpointer when used as a subgraph. If False, it will not use or inherit any checkpointer."
   ]
  },
  {
   "cell_type": "code",
   "execution_count": 19,
   "id": "84a3074f",
   "metadata": {},
   "outputs": [],
   "source": [
    "from langgraph.checkpoint.memory import MemorySaver"
   ]
  },
  {
   "cell_type": "code",
   "execution_count": 20,
   "id": "96c0dbbc",
   "metadata": {},
   "outputs": [],
   "source": [
    "## obejct of memory saver\n",
    "memory = MemorySaver()"
   ]
  },
  {
   "cell_type": "code",
   "execution_count": 21,
   "id": "adc7a868",
   "metadata": {},
   "outputs": [
    {
     "data": {
      "image/png": "[encoded data removed]",
      "text/plain": [
       "<langgraph.graph.state.CompiledStateGraph object at 0x000001DB0059A0C0>"
      ]
     },
     "execution_count": 21,
     "metadata": {},
     "output_type": "execute_result"
    }
   ],
   "source": [
    "## Workflow\n",
    "workflow_tool2 = StateGraph(MessagesState)\n",
    "workflow_tool2.add_node('LLM',call_model)\n",
    "workflow_tool2.add_node('tools', ToolNode([search]))\n",
    "workflow_tool2.add_edge(START,'LLM')\n",
    "workflow_tool2.add_conditional_edges(\n",
    "    'LLM',\n",
    "    tool_router,\n",
    "    {\n",
    "        'tools':'tools',\n",
    "        END:END\n",
    "    }\n",
    ")\n",
    "workflow_tool2.add_edge('tools','LLM')\n",
    "tool_app2 = workflow_tool2.compile(checkpointer=memory)\n",
    "tool_app2"
   ]
  },
  {
   "cell_type": "code",
   "execution_count": 22,
   "id": "8e6dbc4c",
   "metadata": {},
   "outputs": [],
   "source": [
    "config = {'configurable':{'thread_id':'1'}}"
   ]
  },
  {
   "cell_type": "code",
   "execution_count": 24,
   "id": "e9e8868b",
   "metadata": {},
   "outputs": [
    {
     "name": "stdout",
     "output_type": "stream",
     "text": [
      "================================\u001b[1m Human Message \u001b[0m=================================\n",
      "\n",
      "temperature in Delhi\n",
      "None\n",
      "==================================\u001b[1m Ai Message \u001b[0m==================================\n",
      "\n",
      "The temperature in Delhi is 40 degrees and sunny.\n",
      "None\n"
     ]
    }
   ],
   "source": [
    "events = tool_app2.stream({'messages':['temperature in Delhi']},config=config, stream_mode='values')\n",
    "\n",
    "for event in events:\n",
    "    print(event['messages'][-1].pretty_print())"
   ]
  },
  {
   "cell_type": "code",
   "execution_count": 25,
   "id": "dfd1174e",
   "metadata": {},
   "outputs": [
    {
     "data": {
      "text/plain": [
       "{'v': 3,\n",
       " 'ts': '2025-06-14T05:46:18.968655+00:00',\n",
       " 'id': '1f048e2e-4f6f-6f1d-801b-775ee4696d05',\n",
       " 'channel_versions': {'__start__': '00000000000000000000000000000028.0.13277970997181887',\n",
       "  'messages': '00000000000000000000000000000029.0.9216681454383607',\n",
       "  'branch:to:LLM': '00000000000000000000000000000029.0.1770711784013249',\n",
       "  'branch:to:tools': '00000000000000000000000000000026.0.049733733969906324'},\n",
       " 'versions_seen': {'__input__': {},\n",
       "  '__start__': {'__start__': '00000000000000000000000000000027.0.9057643850773982'},\n",
       "  'LLM': {'branch:to:LLM': '00000000000000000000000000000028.0.054319956979763995'},\n",
       "  'tools': {'branch:to:tools': '00000000000000000000000000000025.0.11186111176680347'}},\n",
       " 'channel_values': {'messages': [HumanMessage(content='what is the temperature in Delhi', additional_kwargs={}, response_metadata={}, id='2a0756ab-aea1-495c-9a33-6b3f75b91bf1'),\n",
       "   AIMessage(content='', additional_kwargs={'tool_calls': [{'id': '2a278pq7s', 'function': {'arguments': '{\"query\":\"Delhi temperature\"}', 'name': 'search'}, 'type': 'function'}]}, response_metadata={'token_usage': {'completion_tokens': 157, 'prompt_tokens': 130, 'total_tokens': 287, 'completion_time': 0.752834855, 'prompt_time': 0.008335432, 'queue_time': 0.226981582, 'total_time': 0.761170287}, 'model_name': 'deepseek-r1-distill-llama-70b', 'system_fingerprint': 'fp_1bbe7845ec', 'finish_reason': 'tool_calls', 'logprobs': None}, id='run--3cb4ab13-3fb7-4060-b6d8-eb292902f17f-0', tool_calls=[{'name': 'search', 'args': {'query': 'Delhi temperature'}, 'id': '2a278pq7s', 'type': 'tool_call'}], usage_metadata={'input_tokens': 130, 'output_tokens': 157, 'total_tokens': 287}),\n",
       "   ToolMessage(content='the temperature is 40 degree and sunny', name='search', id='c6ed13fb-9fbe-4d49-a601-ccd9facade1d', tool_call_id='2a278pq7s'),\n",
       "   AIMessage(content='', additional_kwargs={'tool_calls': [{'id': 'ky8zec1m2', 'function': {'arguments': '{\"query\":\"Delhi temperature\"}', 'name': 'search'}, 'type': 'function'}]}, response_metadata={'token_usage': {'completion_tokens': 240, 'prompt_tokens': 188, 'total_tokens': 428, 'completion_time': 1.036722468, 'prompt_time': 0.014688158, 'queue_time': 0.227083967, 'total_time': 1.051410626}, 'model_name': 'deepseek-r1-distill-llama-70b', 'system_fingerprint': 'fp_1bbe7845ec', 'finish_reason': 'tool_calls', 'logprobs': None}, id='run--4f6762de-7aee-45e9-b70f-1ed8e8ec2e54-0', tool_calls=[{'name': 'search', 'args': {'query': 'Delhi temperature'}, 'id': 'ky8zec1m2', 'type': 'tool_call'}], usage_metadata={'input_tokens': 188, 'output_tokens': 240, 'total_tokens': 428}),\n",
       "   ToolMessage(content='the temperature is 40 degree and sunny', name='search', id='528dd1cf-be89-4e07-a5d1-91cabc6e1ff3', tool_call_id='ky8zec1m2'),\n",
       "   AIMessage(content='', additional_kwargs={'tool_calls': [{'id': 'zppsv47yz', 'function': {'arguments': '{\"query\":\"Delhi temperature\"}', 'name': 'search'}, 'type': 'function'}]}, response_metadata={'token_usage': {'completion_tokens': 149, 'prompt_tokens': 247, 'total_tokens': 396, 'completion_time': 0.792804494, 'prompt_time': 0.01633975, 'queue_time': 0.22075364400000003, 'total_time': 0.809144244}, 'model_name': 'deepseek-r1-distill-llama-70b', 'system_fingerprint': 'fp_1bbe7845ec', 'finish_reason': 'tool_calls', 'logprobs': None}, id='run--876933cd-065b-4dcc-8974-34bc9845c10c-0', tool_calls=[{'name': 'search', 'args': {'query': 'Delhi temperature'}, 'id': 'zppsv47yz', 'type': 'tool_call'}], usage_metadata={'input_tokens': 247, 'output_tokens': 149, 'total_tokens': 396}),\n",
       "   ToolMessage(content='the temperature is 40 degree and sunny', name='search', id='e3bf8a97-3b9d-4f4d-8156-037a44be7510', tool_call_id='zppsv47yz'),\n",
       "   AIMessage(content='', additional_kwargs={'tool_calls': [{'id': 'yvzkmp2rj', 'function': {'arguments': '{\"query\":\"Delhi temperature\"}', 'name': 'search'}, 'type': 'function'}]}, response_metadata={'token_usage': {'completion_tokens': 148, 'prompt_tokens': 304, 'total_tokens': 452, 'completion_time': 0.813406757, 'prompt_time': 0.02698921, 'queue_time': 0.227045652, 'total_time': 0.840395967}, 'model_name': 'deepseek-r1-distill-llama-70b', 'system_fingerprint': 'fp_1bbe7845ec', 'finish_reason': 'tool_calls', 'logprobs': None}, id='run--05845c46-0c97-4b3e-a533-c8a1c7da63f7-0', tool_calls=[{'name': 'search', 'args': {'query': 'Delhi temperature'}, 'id': 'yvzkmp2rj', 'type': 'tool_call'}], usage_metadata={'input_tokens': 304, 'output_tokens': 148, 'total_tokens': 452}),\n",
       "   ToolMessage(content='the temperature is 40 degree and sunny', name='search', id='d40d6ad0-8631-4f02-85fe-9fab3b63e132', tool_call_id='yvzkmp2rj'),\n",
       "   AIMessage(content='', additional_kwargs={'tool_calls': [{'id': '3yvwrgshd', 'function': {'arguments': '{\"query\":\"Delhi temperature\"}', 'name': 'search'}, 'type': 'function'}]}, response_metadata={'token_usage': {'completion_tokens': 65, 'prompt_tokens': 363, 'total_tokens': 428, 'completion_time': 0.236363636, 'prompt_time': 0.030234342, 'queue_time': 0.22756869999999998, 'total_time': 0.266597978}, 'model_name': 'deepseek-r1-distill-llama-70b', 'system_fingerprint': 'fp_1bbe7845ec', 'finish_reason': 'tool_calls', 'logprobs': None}, id='run--35d11548-db3a-46ac-a506-674a2ac6c463-0', tool_calls=[{'name': 'search', 'args': {'query': 'Delhi temperature'}, 'id': '3yvwrgshd', 'type': 'tool_call'}], usage_metadata={'input_tokens': 363, 'output_tokens': 65, 'total_tokens': 428}),\n",
       "   ToolMessage(content='the temperature is 40 degree and sunny', name='search', id='d05c07dd-067e-4700-8b8c-318884c0f3b3', tool_call_id='3yvwrgshd'),\n",
       "   AIMessage(content='', additional_kwargs={'tool_calls': [{'id': 'sx9eygbhx', 'function': {'arguments': '{\"query\":\"Delhi temperature\"}', 'name': 'search'}, 'type': 'function'}]}, response_metadata={'token_usage': {'completion_tokens': 34, 'prompt_tokens': 421, 'total_tokens': 455, 'completion_time': 0.13885949, 'prompt_time': 0.028748649, 'queue_time': 0.220547724, 'total_time': 0.167608139}, 'model_name': 'deepseek-r1-distill-llama-70b', 'system_fingerprint': 'fp_1bbe7845ec', 'finish_reason': 'tool_calls', 'logprobs': None}, id='run--a49d563d-14eb-4c7d-a967-046812f734ed-0', tool_calls=[{'name': 'search', 'args': {'query': 'Delhi temperature'}, 'id': 'sx9eygbhx', 'type': 'tool_call'}], usage_metadata={'input_tokens': 421, 'output_tokens': 34, 'total_tokens': 455}),\n",
       "   ToolMessage(content='the temperature is 40 degree and sunny', name='search', id='1637d23c-bc92-46c9-a80c-e05bc1223ec2', tool_call_id='sx9eygbhx'),\n",
       "   AIMessage(content='', additional_kwargs={'tool_calls': [{'id': 'm790xnykv', 'function': {'arguments': '{\"query\":\"Delhi temperature\"}', 'name': 'search'}, 'type': 'function'}]}, response_metadata={'token_usage': {'completion_tokens': 32, 'prompt_tokens': 478, 'total_tokens': 510, 'completion_time': 0.116363636, 'prompt_time': 0.045730287, 'queue_time': 0.21914992399999997, 'total_time': 0.162093923}, 'model_name': 'deepseek-r1-distill-llama-70b', 'system_fingerprint': 'fp_1bbe7845ec', 'finish_reason': 'tool_calls', 'logprobs': None}, id='run--6e1dbfc8-4cae-4f78-a8d5-f0e880bb2e36-0', tool_calls=[{'name': 'search', 'args': {'query': 'Delhi temperature'}, 'id': 'm790xnykv', 'type': 'tool_call'}], usage_metadata={'input_tokens': 478, 'output_tokens': 32, 'total_tokens': 510}),\n",
       "   ToolMessage(content='the temperature is 40 degree and sunny', name='search', id='c581650c-28d9-463d-8b4d-e4b58986e4d9', tool_call_id='m790xnykv'),\n",
       "   AIMessage(content='', additional_kwargs={'tool_calls': [{'id': 'vcacetmrc', 'function': {'arguments': '{\"query\":\"Delhi temperature\"}', 'name': 'search'}, 'type': 'function'}]}, response_metadata={'token_usage': {'completion_tokens': 34, 'prompt_tokens': 535, 'total_tokens': 569, 'completion_time': 0.246034005, 'prompt_time': 0.034551875, 'queue_time': 0.227138267, 'total_time': 0.28058588}, 'model_name': 'deepseek-r1-distill-llama-70b', 'system_fingerprint': 'fp_1bbe7845ec', 'finish_reason': 'tool_calls', 'logprobs': None}, id='run--ed9b06de-4cf8-4fb7-b677-56182f98e4ff-0', tool_calls=[{'name': 'search', 'args': {'query': 'Delhi temperature'}, 'id': 'vcacetmrc', 'type': 'tool_call'}], usage_metadata={'input_tokens': 535, 'output_tokens': 34, 'total_tokens': 569}),\n",
       "   ToolMessage(content='the temperature is 40 degree and sunny', name='search', id='1ef4f59d-84fc-4082-b3f8-deed5f4804bc', tool_call_id='vcacetmrc'),\n",
       "   AIMessage(content='', additional_kwargs={'tool_calls': [{'id': 'jf2rhjdns', 'function': {'arguments': '{\"query\":\"Delhi temperature\"}', 'name': 'search'}, 'type': 'function'}]}, response_metadata={'token_usage': {'completion_tokens': 119, 'prompt_tokens': 591, 'total_tokens': 710, 'completion_time': 0.715940719, 'prompt_time': 0.038370198, 'queue_time': 0.22715369300000002, 'total_time': 0.754310917}, 'model_name': 'deepseek-r1-distill-llama-70b', 'system_fingerprint': 'fp_1bbe7845ec', 'finish_reason': 'tool_calls', 'logprobs': None}, id='run--86e7ffef-dba6-4dba-a96a-c8b9e9596366-0', tool_calls=[{'name': 'search', 'args': {'query': 'Delhi temperature'}, 'id': 'jf2rhjdns', 'type': 'tool_call'}], usage_metadata={'input_tokens': 591, 'output_tokens': 119, 'total_tokens': 710}),\n",
       "   ToolMessage(content='the temperature is 40 degree and sunny', name='search', id='dc913ec1-7e4c-4267-9822-308b8b0dbf06', tool_call_id='jf2rhjdns'),\n",
       "   AIMessage(content='', additional_kwargs={'tool_calls': [{'id': 'dpqzwnfpr', 'function': {'arguments': '{\"query\":\"Delhi temperature\"}', 'name': 'search'}, 'type': 'function'}]}, response_metadata={'token_usage': {'completion_tokens': 34, 'prompt_tokens': 648, 'total_tokens': 682, 'completion_time': 0.15631745, 'prompt_time': 0.041955174, 'queue_time': 0.22105972900000004, 'total_time': 0.198272624}, 'model_name': 'deepseek-r1-distill-llama-70b', 'system_fingerprint': 'fp_1bbe7845ec', 'finish_reason': 'tool_calls', 'logprobs': None}, id='run--57ea581d-928e-4513-bed6-da44a7ca5bf4-0', tool_calls=[{'name': 'search', 'args': {'query': 'Delhi temperature'}, 'id': 'dpqzwnfpr', 'type': 'tool_call'}], usage_metadata={'input_tokens': 648, 'output_tokens': 34, 'total_tokens': 682}),\n",
       "   ToolMessage(content='the temperature is 40 degree and sunny', name='search', id='b9d73fd2-462e-4022-912b-0654be7bd4f5', tool_call_id='dpqzwnfpr'),\n",
       "   AIMessage(content='', additional_kwargs={'tool_calls': [{'id': 'mvak46q8e', 'function': {'arguments': '{\"query\":\"Delhi temperature\"}', 'name': 'search'}, 'type': 'function'}]}, response_metadata={'token_usage': {'completion_tokens': 34, 'prompt_tokens': 706, 'total_tokens': 740, 'completion_time': 0.136750458, 'prompt_time': 0.052983888, 'queue_time': 0.218800252, 'total_time': 0.189734346}, 'model_name': 'deepseek-r1-distill-llama-70b', 'system_fingerprint': 'fp_1bbe7845ec', 'finish_reason': 'tool_calls', 'logprobs': None}, id='run--d0d2e84f-231f-4e44-8241-2049b20595f0-0', tool_calls=[{'name': 'search', 'args': {'query': 'Delhi temperature'}, 'id': 'mvak46q8e', 'type': 'tool_call'}], usage_metadata={'input_tokens': 706, 'output_tokens': 34, 'total_tokens': 740}),\n",
       "   ToolMessage(content='the temperature is 40 degree and sunny', name='search', id='00ceec3a-f8d2-43fc-a41a-00eac314809b', tool_call_id='mvak46q8e'),\n",
       "   AIMessage(content='', additional_kwargs={'tool_calls': [{'id': 's3myk0nan', 'function': {'arguments': '{\"query\":\"Delhi temperature\"}', 'name': 'search'}, 'type': 'function'}]}, response_metadata={'token_usage': {'completion_tokens': 621, 'prompt_tokens': 764, 'total_tokens': 1385, 'completion_time': 2.258181818, 'prompt_time': 0.057631455, 'queue_time': 0.21875993500000002, 'total_time': 2.315813273}, 'model_name': 'deepseek-r1-distill-llama-70b', 'system_fingerprint': 'fp_1bbe7845ec', 'finish_reason': 'tool_calls', 'logprobs': None}, id='run--2d3d3e84-397e-45a9-875c-6a62cfac358d-0', tool_calls=[{'name': 'search', 'args': {'query': 'Delhi temperature'}, 'id': 's3myk0nan', 'type': 'tool_call'}], usage_metadata={'input_tokens': 764, 'output_tokens': 621, 'total_tokens': 1385}),\n",
       "   ToolMessage(content='the temperature is 40 degree and sunny', name='search', id='23927fd4-a983-4b06-90b3-83ee6038967d', tool_call_id='s3myk0nan'),\n",
       "   HumanMessage(content='temperature in Delhi', additional_kwargs={}, response_metadata={}, id='ced561c9-ed55-4407-9576-c14bd2de1179'),\n",
       "   AIMessage(content='The temperature in Delhi is 40 degrees and sunny.', additional_kwargs={}, response_metadata={'token_usage': {'completion_tokens': 221, 'prompt_tokens': 826, 'total_tokens': 1047, 'completion_time': 0.999376241, 'prompt_time': 0.060851587, 'queue_time': 0.22085755300000004, 'total_time': 1.060227828}, 'model_name': 'deepseek-r1-distill-llama-70b', 'system_fingerprint': 'fp_1bbe7845ec', 'finish_reason': 'stop', 'logprobs': None}, id='run--2ddb938f-328c-4992-a769-157ea354acf3-0', usage_metadata={'input_tokens': 826, 'output_tokens': 221, 'total_tokens': 1047})]},\n",
       " 'pending_sends': []}"
      ]
     },
     "execution_count": 25,
     "metadata": {},
     "output_type": "execute_result"
    }
   ],
   "source": [
    "memory.get(config=config)"
   ]
  },
  {
   "cell_type": "code",
   "execution_count": null,
   "id": "8d2a584c",
   "metadata": {},
   "outputs": [],
   "source": []
  }
 ],
 "metadata": {
  "kernelspec": {
   "display_name": "Python 3",
   "language": "python",
   "name": "python3"
  },
  "language_info": {
   "codemirror_mode": {
    "name": "ipython",
    "version": 3
   },
   "file_extension": ".py",
   "mimetype": "text/x-python",
   "name": "python",
   "nbconvert_exporter": "python",
   "pygments_lexer": "ipython3",
   "version": "3.12.0"
  }
 },
 "nbformat": 4,
 "nbformat_minor": 5
}
