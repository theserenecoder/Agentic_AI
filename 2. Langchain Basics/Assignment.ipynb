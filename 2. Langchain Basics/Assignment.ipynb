{
 "cells": [
  {
   "cell_type": "markdown",
   "id": "15f78b71",
   "metadata": {},
   "source": [
    "### Assisgment:\n",
    "Create a simple assistant that uses any LLM and should be pydantic, when we ask about any product it should give you two information product Name, product details tentative price in USD (integer). use chat Prompt Template."
   ]
  },
  {
   "cell_type": "code",
   "execution_count": 1,
   "id": "43bc02b5",
   "metadata": {},
   "outputs": [],
   "source": [
    "## Env keys\n",
    "import os\n",
    "from dotenv import load_dotenv\n",
    "load_dotenv()\n",
    "\n",
    "## OpenAI and Groq env keys\n",
    "os.environ[\"OPENAI_API_KEY\"] = os.getenv(\"OPENAI_API_KEY\")\n",
    "os.environ[\"GROQ_API_KEY\"] = os.getenv(\"GROQ_API_KEY\")\n",
    "\n",
    "## Langchain env keys\n",
    "os.environ[\"LANGCHAIN_API_KEY\"] = os.getenv(\"LANGCHAIN_API_KEY\")\n",
    "os.environ[\"LANGCHAIN_PROJECT\"] = os.getenv(\"LANGCHAIN_PROJECT\")\n",
    "os.environ[\"LANGCHAIN_TRACING_V2\"] = \"true\""
   ]
  },
  {
   "cell_type": "code",
   "execution_count": 2,
   "id": "c3c37b44",
   "metadata": {},
   "outputs": [
    {
     "name": "stdout",
     "output_type": "stream",
     "text": [
      "{'name': 'Callaway X-Series Golf Clubs', 'price': 499, 'product_detail': 'The Callaway X-Series Golf Clubs are designed for golfers seeking maximum distance and accuracy. Featuring advanced technology and a lightweight design, these clubs enhance performance on the course.'}\n"
     ]
    }
   ],
   "source": [
    "from langchain_openai import ChatOpenAI\n",
    "from langchain_core.output_parsers import JsonOutputParser\n",
    "from langchain_core.prompts import ChatPromptTemplate\n",
    "from pydantic import BaseModel, Field\n",
    "from langchain_openai import ChatOpenAI\n",
    "\n",
    "## Initializing the desired OpenAI model\n",
    "model = ChatOpenAI(model='gpt-4o-mini', temperature=0.5)\n",
    "\n",
    "class Product(BaseModel):\n",
    "    name: str = Field(description='name of the product')\n",
    "    price: int = Field(description='price of the product in USD')\n",
    "    product_detail: str = Field(description='details of the product')\n",
    "\n",
    "product = 'search about callaway golf clubs'\n",
    "\n",
    "## setting up the parser\n",
    "parser = JsonOutputParser(pydantic_object=Product)\n",
    "\n",
    "## \n",
    "prompt = ChatPromptTemplate.from_messages(\n",
    "    [\n",
    "        ('system',\"You are a helpful assistant. Anser the user query\"),\n",
    "        ('user','{format_instructions}\\n{query}\\n')\n",
    "    ],\n",
    ")\n",
    "\n",
    "## Apply with partial variables using the partial method\n",
    "prompt_with_partial=prompt.partial(format_instructions=parser.get_format_instructions())\n",
    "\n",
    "chain = prompt_with_partial|model|parser\n",
    "response = chain.invoke({'query':product})\n",
    "print(response)"
   ]
  },
  {
   "cell_type": "markdown",
   "id": "70110f1b",
   "metadata": {},
   "source": []
  }
 ],
 "metadata": {
  "kernelspec": {
   "display_name": "Python 3",
   "language": "python",
   "name": "python3"
  },
  "language_info": {
   "codemirror_mode": {
    "name": "ipython",
    "version": 3
   },
   "file_extension": ".py",
   "mimetype": "text/x-python",
   "name": "python",
   "nbconvert_exporter": "python",
   "pygments_lexer": "ipython3",
   "version": "3.12.0"
  }
 },
 "nbformat": 4,
 "nbformat_minor": 5
}
