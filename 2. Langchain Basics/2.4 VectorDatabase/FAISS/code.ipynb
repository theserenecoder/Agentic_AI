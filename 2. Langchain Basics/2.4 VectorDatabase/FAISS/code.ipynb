{
 "cells": [
  {
   "cell_type": "markdown",
   "id": "60f65c94",
   "metadata": {},
   "source": [
    "### FAISS\n",
    "\n",
    "Facebook AI Similarity Search is used for effective similarity search and clusterring of dense vector. It's algo searches in sets of vectors of any size. It is completely written in C++ with wrappers for Python.\n"
   ]
  },
  {
   "cell_type": "code",
   "execution_count": 1,
   "id": "b857e2a1",
   "metadata": {},
   "outputs": [],
   "source": [
    "import os\n",
    "from dotenv import load_dotenv\n",
    "load_dotenv()\n",
    "\n",
    "os.environ['HF_TOKEN'] = os.getenv('HF_TOKEN')\n",
    "os.environ['OPENAI_API_KEY'] = os.getenv('OPENAI_API_KEY')"
   ]
  },
  {
   "cell_type": "code",
   "execution_count": 2,
   "id": "4671d1c2",
   "metadata": {},
   "outputs": [
    {
     "name": "stderr",
     "output_type": "stream",
     "text": [
      "c:\\Users\\ashut\\OneDrive\\Documents\\study material\\Agentic_AI_Krish\\Agentic_AI\\venv\\Lib\\site-packages\\tqdm\\auto.py:21: TqdmWarning: IProgress not found. Please update jupyter and ipywidgets. See https://ipywidgets.readthedocs.io/en/stable/user_install.html\n",
      "  from .autonotebook import tqdm as notebook_tqdm\n"
     ]
    },
    {
     "data": {
      "text/plain": [
       "HuggingFaceEmbeddings(model_name='sentence-transformers/all-mpnet-base-v2', cache_folder=None, model_kwargs={}, encode_kwargs={}, query_encode_kwargs={}, multi_process=False, show_progress=False)"
      ]
     },
     "execution_count": 2,
     "metadata": {},
     "output_type": "execute_result"
    }
   ],
   "source": [
    "from langchain_huggingface import HuggingFaceEmbeddings\n",
    "from langchain_openai import ChatOpenAI\n",
    "\n",
    "embeddings = HuggingFaceEmbeddings(model_name = \"sentence-transformers/all-mpnet-base-v2\")\n",
    "embeddings"
   ]
  },
  {
   "cell_type": "markdown",
   "id": "c5cc0828",
   "metadata": {},
   "source": [
    "### Similarity Search\n",
    "\n",
    "Given a set of vectors $x_i$ in dimension $d$, Faiss builds a data structure in RAM from it. Once the structure is constructed, and a new given vector $x$ in dimension $d$ it performs efficiently the operation:\n",
    "$j = argmin_i||x-x_i||$\n",
    "\n",
    "where ||.|| is the Eucliden distance ($L^2$).\n",
    "\n",
    "In FAISS data structure is an index, an object that has an add method to add $x_i$ vectors. Computing the argmin is the search algorithm on the index.\n",
    "\n",
    "FAISS can also:\n",
    "- Return $k^th$ nearest neighbours.\n",
    "- Search several vectors at a time (batch processing).\n",
    "- Trade precision for speed.\n",
    "- Performe maximum inner product search $argmax_i(x,x_i)$ instead of minimum Euclidean search. Limited support for other distances.\n",
    "- Store the index on disk rather than RAM.\n",
    "- Index binary vectors rather than floating point vectors.\n",
    "\n",
    "Mostly Used Similarity Search are:\n",
    "\n",
    "- Cosin Similarity\n",
    "- Euclidean Distance"
   ]
  },
  {
   "cell_type": "code",
   "execution_count": 3,
   "id": "befd27df",
   "metadata": {},
   "outputs": [],
   "source": [
    "from sklearn.metrics.pairwise import cosine_similarity\n",
    "\n",
    "documents = [\n",
    "    \"The cat sat on the mat.\",\n",
    "    \"The dog chased the cat.\",\n",
    "    \"Cats and dogs are both popular pets.\",\n",
    "    \"I love my pet cat.\",\n",
    "    \"Dogs are great companions.\"\n",
    "] \n",
    "\n",
    "my_qestion = \"What do cats and dogs have in common?\""
   ]
  },
  {
   "cell_type": "code",
   "execution_count": 4,
   "id": "21b995cb",
   "metadata": {},
   "outputs": [
    {
     "data": {
      "text/plain": [
       "array([[0.20420025, 0.28294987, 0.69093253, 0.45672216, 0.57053787]])"
      ]
     },
     "execution_count": 4,
     "metadata": {},
     "output_type": "execute_result"
    }
   ],
   "source": [
    "doc_embed=embeddings.embed_documents(documents)\n",
    "query_embed = embeddings.embed_query(my_qestion)\n",
    "cosine_similarity([query_embed], doc_embed)"
   ]
  },
  {
   "cell_type": "code",
   "execution_count": 5,
   "id": "5e0f7faa",
   "metadata": {},
   "outputs": [
    {
     "data": {
      "text/plain": [
       "array([[1.26158608, 1.19753927, 0.78621559, 1.04237982, 0.92678164]])"
      ]
     },
     "execution_count": 5,
     "metadata": {},
     "output_type": "execute_result"
    }
   ],
   "source": [
    "from sklearn.metrics.pairwise import euclidean_distances\n",
    "euclidean_distances([query_embed], doc_embed)"
   ]
  },
  {
   "cell_type": "markdown",
   "id": "e21afe27",
   "metadata": {},
   "source": [
    "### FAISS"
   ]
  },
  {
   "cell_type": "code",
   "execution_count": 6,
   "id": "efa7ed7b",
   "metadata": {},
   "outputs": [],
   "source": [
    "import faiss\n",
    "from langchain_community.vectorstores import FAISS\n",
    "from langchain_community.docstore.in_memory import InMemoryDocstore"
   ]
  },
  {
   "cell_type": "code",
   "execution_count": 7,
   "id": "ff83dc44",
   "metadata": {},
   "outputs": [
    {
     "data": {
      "text/plain": [
       "<faiss.swigfaiss_avx2.IndexFlatL2; proxy of <Swig Object of type 'faiss::IndexFlatL2 *' at 0x000001EE47720DE0> >"
      ]
     },
     "execution_count": 7,
     "metadata": {},
     "output_type": "execute_result"
    }
   ],
   "source": [
    "## Create a FAISS index\n",
    "## The FAISS index is used to store and search the embeddings.\n",
    "index = faiss.IndexFlatL2(768)\n",
    "index"
   ]
  },
  {
   "cell_type": "code",
   "execution_count": 8,
   "id": "a43b9c05",
   "metadata": {},
   "outputs": [],
   "source": [
    "## create a new FAISS vector store\n",
    "vector_store = FAISS(\n",
    "    embedding_function=embeddings,\n",
    "    index=index,\n",
    "    docstore=InMemoryDocstore(),\n",
    "    index_to_docstore_id={},\n",
    ")"
   ]
  },
  {
   "cell_type": "code",
   "execution_count": 10,
   "id": "37d49bb7",
   "metadata": {},
   "outputs": [
    {
     "data": {
      "text/plain": [
       "'This is cat and dog'"
      ]
     },
     "execution_count": 10,
     "metadata": {},
     "output_type": "execute_result"
    }
   ],
   "source": [
    "## Add documents to the FAISS index\n",
    "data = ['This is cat', 'This is dog', 'This is cat and dog', 'I love my cat', 'Dogs are great']\n",
    "vector_store.add_texts(data)\n",
    "## Perform a similarity search. Search for the \n",
    "response = vector_store.similarity_search('What does cat and dogs have in common', k=1)\n",
    "## Display the content of the first response\n",
    "response[0].page_content"
   ]
  },
  {
   "cell_type": "code",
   "execution_count": 13,
   "id": "060ef994",
   "metadata": {},
   "outputs": [],
   "source": [
    "## uuid4 is used to generate unique identifiers for the documents\n",
    "from uuid import uuid4\n",
    "from langchain_core.documents import Document\n",
    "\n",
    "document_1 = Document(\n",
    "    page_content=\"I had chocolate chip pancakes and scrambled eggs for breakfast this morning.\",\n",
    "    metadata={\"source\": \"tweet\"},\n",
    ")\n",
    "\n",
    "document_2 = Document(\n",
    "    page_content=\"The weather forecast for tomorrow is cloudy and overcast, with a high of 62 degrees.\",\n",
    "    metadata={\"source\": \"news\"},\n",
    ")\n",
    "\n",
    "document_3 = Document(\n",
    "    page_content=\"Building an exciting new project with LangChain - come check it out!\",\n",
    "    metadata={\"source\": \"tweet\"},\n",
    ")\n",
    "\n",
    "document_4 = Document(\n",
    "    page_content=\"Robbers broke into the city bank and stole $1 million in cash.\",\n",
    "    metadata={\"source\": \"news\"},\n",
    ")\n",
    "\n",
    "document_5 = Document(\n",
    "    page_content=\"Wow! That was an amazing movie. I can't wait to see it again.\",\n",
    "    metadata={\"source\": \"tweet\"},\n",
    ")\n",
    "\n",
    "document_6 = Document(\n",
    "    page_content=\"Is the new iPhone worth the price? Read this review to find out.\",\n",
    "    metadata={\"source\": \"website\"},\n",
    ")\n",
    "\n",
    "document_7 = Document(\n",
    "    page_content=\"The top 10 soccer players in the world right now.\",\n",
    "    metadata={\"source\": \"website\"},\n",
    ")\n",
    "\n",
    "document_8 = Document(\n",
    "    page_content=\"LangGraph is the best framework for building stateful, agentic applications!\",\n",
    "    metadata={\"source\": \"tweet\"},\n",
    ")\n",
    "\n",
    "document_9 = Document(\n",
    "    page_content=\"The stock market is down 500 points today due to fears of a recession.\",\n",
    "    metadata={\"source\": \"news\"},\n",
    ")\n",
    "\n",
    "document_10 = Document(\n",
    "    page_content=\"I have a bad feeling I am going to get deleted :(\",\n",
    "    metadata={\"source\": \"tweet\"},\n",
    ")\n",
    "\n",
    "documents = [\n",
    "    document_1,\n",
    "    document_2,\n",
    "    document_3,\n",
    "    document_4,\n",
    "    document_5,\n",
    "    document_6,\n",
    "    document_7,\n",
    "    document_8,\n",
    "    document_9,\n",
    "    document_10,\n",
    "]\n",
    "\n",
    "## Generating unique identifiers for each document\n",
    "## This is important for FAISS to keep track of the documents.\n",
    "uuids = [str(uuid4()) for _ in range(len(documents))]\n"
   ]
  },
  {
   "cell_type": "code",
   "execution_count": null,
   "id": "358e1fac",
   "metadata": {},
   "outputs": [
    {
     "data": {
      "text/plain": [
       "['a6c6d81f-5c95-492d-89c0-763c3f4f2d86',\n",
       " '9965042e-9324-4db5-be04-e88c6149e3c7',\n",
       " '58286f76-23af-4aba-85a5-ffe071d90580',\n",
       " 'c58446fe-0132-4da5-b796-fb03e74baafc',\n",
       " '0784b69b-3a60-4e69-835d-0066cb75e31d',\n",
       " '9d5f7884-7b84-4b2c-9975-c503ebaa3437',\n",
       " '5150d679-ab6e-41b9-ae41-cb9aa238da46',\n",
       " 'e38ac633-d312-42eb-8646-f91066386ffb',\n",
       " '4bde7fba-f441-4ff6-bb83-d0b2a6de62c0',\n",
       " '94ebdeba-7cdf-439e-af24-3a2cd56f4c2d']"
      ]
     },
     "execution_count": 14,
     "metadata": {},
     "output_type": "execute_result"
    }
   ],
   "source": [
    "## define a new FAISS index with dot product similarity\n",
    "import faiss\n",
    "index = faiss.IndexFlatIP(768)\n",
    "\n",
    "## Create a new FAISS vector store with the new index\n",
    "vector_store = FAISS(\n",
    "    embedding_function=embeddings,\n",
    "    index=index,\n",
    "    docstore=InMemoryDocstore(),\n",
    "    index_to_docstore_id={},\n",
    ")\n",
    "## Add the documents to the FAISS vector store\n",
    "## This will index the documents and make them searchable.\n",
    "vector_store.add_documents(documents,ids=uuids)"
   ]
  },
  {
   "cell_type": "markdown",
   "id": "37b628fa",
   "metadata": {},
   "source": [
    "##### Quering Vector Store"
   ]
  },
  {
   "cell_type": "code",
   "execution_count": null,
   "id": "29407adb",
   "metadata": {},
   "outputs": [
    {
     "data": {
      "text/plain": [
       "[Document(id='58286f76-23af-4aba-85a5-ffe071d90580', metadata={'source': 'tweet'}, page_content='Building an exciting new project with LangChain - come check it out!'),\n",
       " Document(id='e38ac633-d312-42eb-8646-f91066386ffb', metadata={'source': 'tweet'}, page_content='LangGraph is the best framework for building stateful, agentic applications!')]"
      ]
     },
     "execution_count": 15,
     "metadata": {},
     "output_type": "execute_result"
    }
   ],
   "source": [
    "## Perform a similarity search\n",
    "## This will return the top k most similar documents to the query.\n",
    "vector_store.similarity_search(\"LangChain provides abstractions to make working with LLMs easy\",k=2)"
   ]
  },
  {
   "cell_type": "code",
   "execution_count": null,
   "id": "21e924dc",
   "metadata": {},
   "outputs": [],
   "source": []
  }
 ],
 "metadata": {
  "kernelspec": {
   "display_name": "Python 3",
   "language": "python",
   "name": "python3"
  },
  "language_info": {
   "codemirror_mode": {
    "name": "ipython",
    "version": 3
   },
   "file_extension": ".py",
   "mimetype": "text/x-python",
   "name": "python",
   "nbconvert_exporter": "python",
   "pygments_lexer": "ipython3",
   "version": "3.12.0"
  }
 },
 "nbformat": 4,
 "nbformat_minor": 5
}
