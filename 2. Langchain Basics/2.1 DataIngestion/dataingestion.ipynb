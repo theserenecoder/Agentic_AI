{
 "cells": [
  {
   "cell_type": "markdown",
   "id": "11f30976",
   "metadata": {},
   "source": [
    "### Document Loader\n",
    "\n",
    "Document Loaders are specialized components within LangChain designed to access and convert data from a vast array of formats and sources into a standardized Document object.1 This object is fundamental for streamlining content management in LLM workflows.\n",
    "\n",
    "The Document class is a core component in LangChain, encapsulating textual content alongside rich, contextual metadata.It primarily consists of two key attributes:\n",
    "\n",
    "- **page_content**: This attribute stores the actual textual data as a string.\n",
    "- **metadata**: This is a dictionary holding additional contextual information about the document.4 This can include details like the source URL or file path (source, url, filename), creation timestamp, author, or any custom attributes relevant to a specific use case.\n",
    "\n",
    "\n",
    "#### BaseLoader\n",
    "All LangChain document loaders adhere to the BaseLoader interface, ensuring a consistent approach to data loading.\n",
    "The primary loading methods are load() and lazy_load():\n",
    "\n",
    "- **load()**: Eagerly loads all documents into memory. Useful for prototyping or interactive work.\n",
    "- **lazy_load()**: Loads documents one by one, yielding them as a generator. Recommended for production code to efficiently handle large datasets and avoid memory issues."
   ]
  },
  {
   "cell_type": "code",
   "execution_count": 1,
   "id": "4a1a10ce",
   "metadata": {},
   "outputs": [
    {
     "name": "stdout",
     "output_type": "stream",
     "text": [
      "[Document(metadata={'source': './small_data.csv', 'row': 0}, page_content='ProductID: 1001\\nProductName: Wireless Mouse\\nCategory: Electronics\\nPrice: 19.99'), Document(metadata={'source': './small_data.csv', 'row': 1}, page_content='ProductID: 1002\\nProductName: Notebook\\nCategory: Stationery\\nPrice: 2.49'), Document(metadata={'source': './small_data.csv', 'row': 2}, page_content='ProductID: 1003\\nProductName: Water Bottle\\nCategory: Home\\nPrice: 8.99'), Document(metadata={'source': './small_data.csv', 'row': 3}, page_content='ProductID: 1004\\nProductName: Desk Lamp\\nCategory: Electronics\\nPrice: 24.50'), Document(metadata={'source': './small_data.csv', 'row': 4}, page_content='ProductID: 1005\\nProductName: Backpack\\nCategory: Accessories\\nPrice: 34.99'), Document(metadata={'source': './small_data.csv', 'row': 5}, page_content='ProductID: 1006\\nProductName: Running Shoes\\nCategory: Sports\\nPrice: 59.95'), Document(metadata={'source': './small_data.csv', 'row': 6}, page_content='ProductID: 1007\\nProductName: USB Cable\\nCategory: Electronics\\nPrice: 5.99'), Document(metadata={'source': './small_data.csv', 'row': 7}, page_content='ProductID: 1008\\nProductName: Coffee Mug\\nCategory: Home\\nPrice: 7.50'), Document(metadata={'source': './small_data.csv', 'row': 8}, page_content='ProductID: 1009\\nProductName: Pen Set\\nCategory: Stationery\\nPrice: 3.99'), Document(metadata={'source': './small_data.csv', 'row': 9}, page_content='ProductID: 1010\\nProductName: Headphones\\nCategory: Electronics\\nPrice: 29.99'), Document(metadata={'source': './small_data.csv', 'row': 10}, page_content='ProductID: 1011\\nProductName: Notebook Stand\\nCategory: Accessories\\nPrice: 15.99'), Document(metadata={'source': './small_data.csv', 'row': 11}, page_content='ProductID: 1012\\nProductName: Smart Watch\\nCategory: Electronics\\nPrice: 99.99'), Document(metadata={'source': './small_data.csv', 'row': 12}, page_content='ProductID: 1013\\nProductName: Gym Towel\\nCategory: Sports\\nPrice: 12.49'), Document(metadata={'source': './small_data.csv', 'row': 13}, page_content='ProductID: 1014\\nProductName: Sticky Notes\\nCategory: Stationery\\nPrice: 1.99'), Document(metadata={'source': './small_data.csv', 'row': 14}, page_content='ProductID: 1015\\nProductName: Travel Pillow\\nCategory: Accessories\\nPrice: 14.99'), Document(metadata={'source': './small_data.csv', 'row': 15}, page_content='ProductID: 1016\\nProductName: Desk Organizer\\nCategory: Home\\nPrice: 11.99'), Document(metadata={'source': './small_data.csv', 'row': 16}, page_content='ProductID: 1017\\nProductName: Power Bank\\nCategory: Electronics\\nPrice: 22.99'), Document(metadata={'source': './small_data.csv', 'row': 17}, page_content='ProductID: 1018\\nProductName: Waterproof Bag\\nCategory: Sports\\nPrice: 18.99'), Document(metadata={'source': './small_data.csv', 'row': 18}, page_content='ProductID: 1019\\nProductName: Marker Set\\nCategory: Stationery\\nPrice: 4.49'), Document(metadata={'source': './small_data.csv', 'row': 19}, page_content='ProductID: 1020\\nProductName: Table Clock\\nCategory: Home\\nPrice: 13.50')]\n"
     ]
    }
   ],
   "source": [
    "from langchain_community.document_loaders.csv_loader import CSVLoader\n",
    "\n",
    "## loading data in one go\n",
    "loader = CSVLoader(file_path=\"./small_data.csv\")\n",
    "doc= loader.load()\n",
    "print(doc)"
   ]
  },
  {
   "cell_type": "code",
   "execution_count": 2,
   "id": "20cbe341",
   "metadata": {},
   "outputs": [
    {
     "name": "stdout",
     "output_type": "stream",
     "text": [
      "Loaded document:0\n",
      "Loaded document:1\n",
      "Loaded document:2\n",
      "Loaded document:3\n",
      "Loaded document:4\n",
      "Loaded document:5\n",
      "Loaded document:6\n",
      "Loaded document:7\n",
      "Loaded document:8\n",
      "Loaded document:9\n",
      "Loaded document:10\n",
      "Loaded document:11\n",
      "Loaded document:12\n",
      "Loaded document:13\n",
      "Loaded document:14\n",
      "Loaded document:15\n",
      "Loaded document:16\n",
      "Loaded document:17\n",
      "Loaded document:18\n",
      "Loaded document:19\n",
      "Loaded document:20\n",
      "Loaded document:21\n",
      "Loaded document:22\n",
      "Loaded document:23\n",
      "Loaded document:24\n",
      "Loaded document:25\n",
      "Loaded document:26\n",
      "Loaded document:27\n",
      "Loaded document:28\n",
      "Loaded document:29\n",
      "Loaded document:30\n",
      "Loaded document:31\n",
      "Loaded document:32\n",
      "Loaded document:33\n",
      "Loaded document:34\n",
      "Loaded document:35\n",
      "Loaded document:36\n",
      "Loaded document:37\n",
      "Loaded document:38\n",
      "Loaded document:39\n",
      "Loaded document:40\n",
      "Loaded document:41\n",
      "Loaded document:42\n",
      "Loaded document:43\n",
      "Loaded document:44\n",
      "Loaded document:45\n",
      "Loaded document:46\n",
      "Loaded document:47\n",
      "Loaded document:48\n",
      "Loaded document:49\n",
      "Loaded document:50\n",
      "Loaded document:51\n",
      "Loaded document:52\n"
     ]
    }
   ],
   "source": [
    "## loading data one by one\n",
    "lazy_loader = CSVLoader(file_path='./large_data.csv')\n",
    "for doc in lazy_loader.lazy_load():\n",
    "    print(f'Loaded document:{doc.metadata.get('row')}')"
   ]
  },
  {
   "cell_type": "markdown",
   "id": "ce21a308",
   "metadata": {},
   "source": [
    "### CSVLoader\n",
    "\n",
    "CSVLoader converts each row into a Document object. You can specify metadata_columns to include specific columns in the document's metadata."
   ]
  },
  {
   "cell_type": "code",
   "execution_count": 3,
   "id": "d328b503",
   "metadata": {},
   "outputs": [
    {
     "name": "stdout",
     "output_type": "stream",
     "text": [
      "Number of documents loaded: 3\n",
      "Page Content: id: 1\n",
      "name: Laptop\n",
      "price: 1200\n",
      "Metadata: {'source': 'products.csv', 'row': 0, 'category': 'Electronics'}\n",
      "\n",
      "Page Content: id: 2\n",
      "name: Keyboard\n",
      "price: 75\n",
      "Metadata: {'source': 'products.csv', 'row': 1, 'category': 'Electronics'}\n",
      "\n",
      "Page Content: id: 3\n",
      "name: Desk\n",
      "price: 300\n",
      "Metadata: {'source': 'products.csv', 'row': 2, 'category': 'Furniture'}\n",
      "\n"
     ]
    }
   ],
   "source": [
    "from langchain_community.document_loaders.csv_loader import CSVLoader\n",
    "import os\n",
    "\n",
    "# Create a dummy CSV file for demonstration\n",
    "csv_file_path = \"products.csv\"\n",
    "with open(csv_file_path, \"w\") as f:\n",
    "    f.write(\"id,name,category,price\\n\")\n",
    "    f.write(\"1,Laptop,Electronics,1200\\n\")\n",
    "    f.write(\"2,Keyboard,Electronics,75\\n\")\n",
    "    f.write(\"3,Desk,Furniture,300\\n\")\n",
    "\n",
    "# Loading a CSV file and including 'category' and 'price' in metadata\n",
    "loader = CSVLoader(\n",
    "    file_path=csv_file_path,\n",
    "    ## column names to be used as metadata\n",
    "    metadata_columns=['category'],\n",
    "    #csv_args={\"delimiter\": \",\"}\n",
    ")\n",
    "documents = loader.load()\n",
    "\n",
    "\n",
    "print(f\"Number of documents loaded: {len(documents)}\")\n",
    "for doc in documents:\n",
    "    print(f\"Page Content: {doc.page_content.strip()}\")\n",
    "    print(f\"Metadata: {doc.metadata}\\n\")\n",
    "\n",
    "# Clean up dummy file\n",
    "os.remove(csv_file_path)"
   ]
  },
  {
   "cell_type": "markdown",
   "id": "e2741fb5",
   "metadata": {},
   "source": [
    "#### Text Loader\n",
    "\n",
    "The TextLoader is the simplest loader, designed to read plain text files. It takes the entire content of the file and places it into a single Document object. "
   ]
  },
  {
   "cell_type": "code",
   "execution_count": 4,
   "id": "094f5a34",
   "metadata": {},
   "outputs": [
    {
     "name": "stdout",
     "output_type": "stream",
     "text": [
      "Number of documents loaded: 1\n",
      "Page Content: This is a simple text document.\n",
      "It contains some random text for demo purpose\n",
      "Metadata: {'source': ' mydoc.txt'}\n",
      "\n"
     ]
    }
   ],
   "source": [
    "from langchain_community.document_loaders import TextLoader\n",
    "import os\n",
    "\n",
    "## create a dummy txt file\n",
    "text_file_path = ' mydoc.txt'\n",
    "with open(text_file_path,'w') as f:\n",
    "    f.write(\"This is a simple text document.\\n\")\n",
    "    f.write(\"It contains some random text for demo purpose\")\n",
    "    \n",
    "## Load the text file\n",
    "loader = TextLoader(text_file_path)\n",
    "documents = loader.load()\n",
    "\n",
    "print(f\"Number of documents loaded: {len(documents)}\")\n",
    "for doc in documents:\n",
    "    print(f\"Page Content: {doc.page_content.strip()}\")\n",
    "    print(f\"Metadata: {doc.metadata}\\n\")\n",
    "    \n",
    "## clean up \n",
    "os.remove(text_file_path)"
   ]
  },
  {
   "cell_type": "markdown",
   "id": "374e3528",
   "metadata": {},
   "source": [
    "## PDF\n",
    "\n",
    "**UnstructuredPDFLoader**: This loader leverages the unstructured library for advanced, intelligent content extraction. It's excellent for PDFs with complex layouts, scanned documents (using OCR), or mixed content, as it attempts to preserve structural elements. You can control extraction quality with mode and strategy parameters (e.g., 'hi_res', 'ocr_only', 'fast', 'auto').  \n",
    "\n",
    "\n",
    "**PyPDFLoader**: This loader is simpler and often faster for straightforward, text-based PDFs. It extracts text page by page, with each page typically becoming a separate Document object. It's a good default for PDFs where complex layout parsing isn't critical.   "
   ]
  },
  {
   "cell_type": "code",
   "execution_count": 47,
   "id": "405715aa",
   "metadata": {},
   "outputs": [
    {
     "data": {
      "text/plain": [
       "Document(metadata={'source': 'attention.pdf', 'coordinates': {'points': ((16.34, 213.92000000000007), (16.34, 253.92000000000007), (36.34, 253.92000000000007), (36.34, 213.92000000000007)), 'system': 'PixelSpace', 'layout_width': 612, 'layout_height': 792}, 'filename': 'attention.pdf', 'languages': ['eng'], 'last_modified': '2025-03-26T23:07:27', 'page_number': 1, 'filetype': 'application/pdf', 'category': 'UncategorizedText', 'element_id': 'da4d57fbf8f55a96700ed365e2d347f3'}, page_content='3 2 0 2')"
      ]
     },
     "execution_count": 47,
     "metadata": {},
     "output_type": "execute_result"
    }
   ],
   "source": [
    "\n",
    "from langchain_community.document_loaders import UnstructuredPDFLoader, PyPDFLoader\n",
    "import os\n",
    "pdf_path = 'attention.pdf'\n",
    "loader= UnstructuredPDFLoader(pdf_path, \n",
    "                            mode='elements', \n",
    "                            unstructured_kwargs = {\n",
    "                                'strategy':'hi_res',\n",
    "                                'extract_image_block_types':[\"Image\"],   # Add 'Table' to list to extract tables as images\n",
    "                                'extract_image_block_to_payload':True,   # Extract metadata element containing base64 object of the image                              \n",
    "                                'chunking_strategy':\"by_title\",          # Chunking strategy to use, can be 'by_title', 'basic'\n",
    "                                'max_characters':2000,                   # Maximum number of characters per chunk\n",
    "                                'combine_text_under_n_chars':500,        # Combine text blocks under this number of characters with previous text block\n",
    "                                'new_after_n_chars':6000,       \n",
    "                            })\n",
    "doc = loader.load()\n",
    "doc[0]\n"
   ]
  },
  {
   "cell_type": "code",
   "execution_count": 70,
   "id": "79394001",
   "metadata": {},
   "outputs": [
    {
     "name": "stdout",
     "output_type": "stream",
     "text": [
      "--- Loading with UnstructuredPDFLoader (attention.pdf) ---\n",
      "Number of documents (elements) loaded: 393\n",
      "First document content : 3 2 0 2\n",
      "First document metadata : {'source': 'attention.pdf', 'coordinates': {'points': ((16.34, 213.92000000000007), (16.34, 253.92000000000007), (36.34, 253.92000000000007), (36.34, 213.92000000000007)), 'system': 'PixelSpace', 'layout_width': 612, 'layout_height': 792}, 'filename': 'attention.pdf', 'languages': ['eng'], 'last_modified': '2025-03-26T23:07:27', 'page_number': 1, 'filetype': 'application/pdf', 'category': 'UncategorizedText', 'element_id': 'da4d57fbf8f55a96700ed365e2d347f3'}\n",
      "\n",
      "--- Loading with PyPDFLoader (attention.pdf) ---\n",
      "Number of documents (pages) loaded: 15\n",
      "First page content (partial): Provided proper attribution is provided, Google hereby grants permission to\n",
      "reproduce the tables and figures in this paper solely for use in journalistic or\n",
      "scholarly works.\n",
      "Attention Is All You Need\n",
      "...\n",
      "First page metadata: {'producer': 'pdfTeX-1.40.25', 'creator': 'LaTeX with hyperref', 'creationdate': '2024-04-10T21:11:43+00:00', 'author': '', 'keywords': '', 'moddate': '2024-04-10T21:11:43+00:00', 'ptex.fullbanner': 'This is pdfTeX, Version 3.141592653-2.6-1.40.25 (TeX Live 2023) kpathsea version 6.3.5', 'subject': '', 'title': '', 'trapped': '/False', 'source': 'attention.pdf', 'total_pages': 15, 'page': 0, 'page_label': '1'}\n"
     ]
    }
   ],
   "source": [
    "\n",
    "from langchain_community.document_loaders import UnstructuredPDFLoader, PyPDFLoader\n",
    "import os\n",
    "pdf_path = 'attention.pdf'\n",
    "\n",
    "print(f\"--- Loading with UnstructuredPDFLoader ({pdf_path}) ---\")\n",
    "# Loading a PDF in 'elements' mode with automatic strategy selection\n",
    "loader_unstructured= UnstructuredPDFLoader(pdf_path, mode='elements')                         \n",
    "document_unstructured = loader_unstructured.load()\n",
    "\n",
    "print(f\"Number of documents (elements) loaded: {len(document_unstructured)}\")\n",
    "if document_unstructured:\n",
    "    print(f\"First document content : {document_unstructured[0].page_content[:200]}\")\n",
    "    print(f'First document metadata : {document_unstructured[0].metadata}')\n",
    "    \n",
    "print(f\"\\n--- Loading with PyPDFLoader ({pdf_path}) ---\")\n",
    "# Loading a PDF page by page\n",
    "loader_pypdf = PyPDFLoader(pdf_path)\n",
    "documents_pypdf = loader_pypdf.load()\n",
    "\n",
    "print(f\"Number of documents (pages) loaded: {len(documents_pypdf)}\")\n",
    "if documents_pypdf:\n",
    "    print(f\"First page content (partial): {documents_pypdf[0].page_content[:200]}...\")\n",
    "    print(f\"First page metadata: {documents_pypdf[0].metadata}\")\n"
   ]
  },
  {
   "cell_type": "code",
   "execution_count": 71,
   "id": "11966e38",
   "metadata": {},
   "outputs": [
    {
     "data": {
      "text/plain": [
       "{'producer': 'pdfTeX-1.40.25',\n",
       " 'creator': 'LaTeX with hyperref',\n",
       " 'creationdate': '2024-04-10T21:11:43+00:00',\n",
       " 'author': '',\n",
       " 'keywords': '',\n",
       " 'moddate': '2024-04-10T21:11:43+00:00',\n",
       " 'ptex.fullbanner': 'This is pdfTeX, Version 3.141592653-2.6-1.40.25 (TeX Live 2023) kpathsea version 6.3.5',\n",
       " 'subject': '',\n",
       " 'title': '',\n",
       " 'trapped': '/False',\n",
       " 'source': 'attention.pdf',\n",
       " 'total_pages': 15,\n",
       " 'page': 0,\n",
       " 'page_label': '1'}"
      ]
     },
     "execution_count": 71,
     "metadata": {},
     "output_type": "execute_result"
    }
   ],
   "source": [
    "documents_pypdf[0].metadata"
   ]
  },
  {
   "cell_type": "code",
   "execution_count": 55,
   "id": "41ddc95b",
   "metadata": {},
   "outputs": [
    {
     "data": {
      "text/plain": [
       "{'source': 'attention.pdf',\n",
       " 'coordinates': {'points': ((16.34, 213.92000000000007),\n",
       "   (16.34, 253.92000000000007),\n",
       "   (36.34, 253.92000000000007),\n",
       "   (36.34, 213.92000000000007)),\n",
       "  'system': 'PixelSpace',\n",
       "  'layout_width': 612,\n",
       "  'layout_height': 792},\n",
       " 'filename': 'attention.pdf',\n",
       " 'languages': ['eng'],\n",
       " 'last_modified': '2025-03-26T23:07:27',\n",
       " 'page_number': 1,\n",
       " 'filetype': 'application/pdf',\n",
       " 'category': 'UncategorizedText',\n",
       " 'element_id': 'da4d57fbf8f55a96700ed365e2d347f3'}"
      ]
     },
     "execution_count": 55,
     "metadata": {},
     "output_type": "execute_result"
    }
   ],
   "source": [
    "document_unstructured[0].metadata"
   ]
  },
  {
   "cell_type": "code",
   "execution_count": 75,
   "id": "20645501",
   "metadata": {},
   "outputs": [
    {
     "name": "stdout",
     "output_type": "stream",
     "text": [
      "{'producer': 'pdfTeX-1.40.25', 'creator': 'LaTeX with hyperref', 'creationdate': '2024-04-10T21:11:43+00:00', 'author': '', 'keywords': '', 'moddate': '2024-04-10T21:11:43+00:00', 'ptex.fullbanner': 'This is pdfTeX, Version 3.141592653-2.6-1.40.25 (TeX Live 2023) kpathsea version 6.3.5', 'subject': '', 'title': '', 'trapped': '/False', 'source': 'attention.pdf', 'total_pages': 15, 'page': 2, 'page_label': '3'}\n",
      "page_content='Figure 1: The Transformer - model architecture.\n",
      "The Transformer follows this overall architecture using stacked self-attention and point-wise, fully\n",
      "connected layers for both the encoder and decoder, shown in the left and right halves of Figure 1,\n",
      "respectively.\n",
      "3.1 Encoder and Decoder Stacks\n",
      "Encoder: The encoder is composed of a stack of N = 6 identical layers. Each layer has two\n",
      "sub-layers. The first is a multi-head self-attention mechanism, and the second is a simple, position-\n",
      "wise fully connected feed-forward network. We employ a residual connection [11] around each of\n",
      "the two sub-layers, followed by layer normalization [ 1]. That is, the output of each sub-layer is\n",
      "LayerNorm(x + Sublayer(x)), where Sublayer(x) is the function implemented by the sub-layer\n",
      "itself. To facilitate these residual connections, all sub-layers in the model, as well as the embedding\n",
      "layers, produce outputs of dimension dmodel = 512.\n",
      "Decoder: The decoder is also composed of a stack of N = 6identical layers. In addition to the two\n",
      "sub-layers in each encoder layer, the decoder inserts a third sub-layer, which performs multi-head\n",
      "attention over the output of the encoder stack. Similar to the encoder, we employ residual connections\n",
      "around each of the sub-layers, followed by layer normalization. We also modify the self-attention\n",
      "sub-layer in the decoder stack to prevent positions from attending to subsequent positions. This\n",
      "masking, combined with fact that the output embeddings are offset by one position, ensures that the\n",
      "predictions for position i can depend only on the known outputs at positions less than i.\n",
      "3.2 Attention\n",
      "An attention function can be described as mapping a query and a set of key-value pairs to an output,\n",
      "where the query, keys, values, and output are all vectors. The output is computed as a weighted sum\n",
      "3' metadata={'producer': 'pdfTeX-1.40.25', 'creator': 'LaTeX with hyperref', 'creationdate': '2024-04-10T21:11:43+00:00', 'author': '', 'keywords': '', 'moddate': '2024-04-10T21:11:43+00:00', 'ptex.fullbanner': 'This is pdfTeX, Version 3.141592653-2.6-1.40.25 (TeX Live 2023) kpathsea version 6.3.5', 'subject': '', 'title': '', 'trapped': '/False', 'source': 'attention.pdf', 'total_pages': 15, 'page': 2, 'page_label': '3'}\n",
      "\n",
      "\n"
     ]
    }
   ],
   "source": [
    "for d in documents_pypdf:\n",
    "    if d.metadata['page']==2:\n",
    "        print(d.metadata)   \n",
    "        print(d)\n",
    "        print(\"\\n\")"
   ]
  },
  {
   "cell_type": "markdown",
   "id": "d8ac222d",
   "metadata": {},
   "source": [
    "## WebBaseLoader\n",
    "\n",
    "WebBaseLoader fetches content directly from URLs. Post-processing with libraries like BeautifulSoup is often needed to clean raw HTML."
   ]
  },
  {
   "cell_type": "code",
   "execution_count": null,
   "id": "aedfb248",
   "metadata": {},
   "outputs": [],
   "source": [
    "from langchain_community.document_loaders import WebBaseLoader\n",
    "from bs4 import BeautifulSoup\n",
    "\n",
    "## loading a blog from URL\n",
    "\n",
    "loader = WebBaseLoader(\"https://python.langchain.com/api_reference/community/document_loaders/langchain_community.document_loaders.pdf.UnstructuredPDFLoader.html\")\n",
    "web_document = loader.load()"
   ]
  },
  {
   "cell_type": "code",
   "execution_count": 78,
   "id": "1cef0588",
   "metadata": {},
   "outputs": [
    {
     "data": {
      "text/plain": [
       "Document(metadata={'source': 'https://www.langchain.com/blog/langchain-expression-language', 'title': '404', 'description': '404. Oops! page not found.', 'language': 'en'}, page_content='404\\n\\n\\n\\n\\n\\n\\n\\n\\n\\n\\n\\n\\n\\n\\n\\n\\n\\n\\n\\n\\nProducts\\n\\nFrameworksLangGraphLangChainPlatformsLangSmithLangGraph PlatformResources\\n\\nResources HubBlogCustomer StoriesLangChain AcademyCommunityExpertsChangelogDocs\\n\\nPythonLangGraphLangSmithLangChainJavaScriptLangGraphLangSmithLangChainCompany\\n\\nAboutCareersPricing\\n\\nLangSmithLangGraph PlatformGet a demoSign up404Oops! page not found.The page you are looking for might have been removed hadÂ\\xa0its name changed or is temporarily unavailable.Go to Home Page \\n\\n\\n\\n\\n\\n\\n')"
      ]
     },
     "execution_count": 78,
     "metadata": {},
     "output_type": "execute_result"
    }
   ],
   "source": [
    "web_document[0]"
   ]
  }
 ],
 "metadata": {
  "kernelspec": {
   "display_name": "Python 3",
   "language": "python",
   "name": "python3"
  },
  "language_info": {
   "codemirror_mode": {
    "name": "ipython",
    "version": 3
   },
   "file_extension": ".py",
   "mimetype": "text/x-python",
   "name": "python",
   "nbconvert_exporter": "python",
   "pygments_lexer": "ipython3",
   "version": "3.12.0"
  }
 },
 "nbformat": 4,
 "nbformat_minor": 5
}
