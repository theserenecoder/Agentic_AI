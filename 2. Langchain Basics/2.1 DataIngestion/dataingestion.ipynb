{
 "cells": [
  {
   "cell_type": "markdown",
   "id": "11f30976",
   "metadata": {},
   "source": [
    "### Document Loader\n",
    "\n",
    "Document Loaders are specialized components within LangChain designed to access and convert data from a vast array of formats and sources into a standardized Document object.1 This object is fundamental for streamlining content management in LLM workflows.\n",
    "\n",
    "The Document class is a core component in LangChain, encapsulating textual content alongside rich, contextual metadata.It primarily consists of two key attributes:\n",
    "\n",
    "- **page_content**: This attribute stores the actual textual data as a string.\n",
    "- **metadata**: This is a dictionary holding additional contextual information about the document.4 This can include details like the source URL or file path (source, url, filename), creation timestamp, author, or any custom attributes relevant to a specific use case.\n",
    "\n",
    "\n",
    "#### BaseLoader\n",
    "All LangChain document loaders adhere to the BaseLoader interface, ensuring a consistent approach to data loading.\n",
    "The primary loading methods are load() and lazy_load():\n",
    "\n",
    "- **load()**: Eagerly loads all documents into memory. Useful for prototyping or interactive work.\n",
    "- **lazy_load()**: Loads documents one by one, yielding them as a generator. Recommended for production code to efficiently handle large datasets and avoid memory issues."
   ]
  },
  {
   "cell_type": "code",
   "execution_count": 1,
   "id": "4a1a10ce",
   "metadata": {},
   "outputs": [
    {
     "data": {
      "text/plain": [
       "[Document(metadata={'source': './small_data.csv', 'row': 0}, page_content='ProductID: 1001\\nProductName: Wireless Mouse\\nCategory: Electronics\\nPrice: 19.99'),\n",
       " Document(metadata={'source': './small_data.csv', 'row': 1}, page_content='ProductID: 1002\\nProductName: Notebook\\nCategory: Stationery\\nPrice: 2.49'),\n",
       " Document(metadata={'source': './small_data.csv', 'row': 2}, page_content='ProductID: 1003\\nProductName: Water Bottle\\nCategory: Home\\nPrice: 8.99'),\n",
       " Document(metadata={'source': './small_data.csv', 'row': 3}, page_content='ProductID: 1004\\nProductName: Desk Lamp\\nCategory: Electronics\\nPrice: 24.50'),\n",
       " Document(metadata={'source': './small_data.csv', 'row': 4}, page_content='ProductID: 1005\\nProductName: Backpack\\nCategory: Accessories\\nPrice: 34.99'),\n",
       " Document(metadata={'source': './small_data.csv', 'row': 5}, page_content='ProductID: 1006\\nProductName: Running Shoes\\nCategory: Sports\\nPrice: 59.95'),\n",
       " Document(metadata={'source': './small_data.csv', 'row': 6}, page_content='ProductID: 1007\\nProductName: USB Cable\\nCategory: Electronics\\nPrice: 5.99'),\n",
       " Document(metadata={'source': './small_data.csv', 'row': 7}, page_content='ProductID: 1008\\nProductName: Coffee Mug\\nCategory: Home\\nPrice: 7.50'),\n",
       " Document(metadata={'source': './small_data.csv', 'row': 8}, page_content='ProductID: 1009\\nProductName: Pen Set\\nCategory: Stationery\\nPrice: 3.99'),\n",
       " Document(metadata={'source': './small_data.csv', 'row': 9}, page_content='ProductID: 1010\\nProductName: Headphones\\nCategory: Electronics\\nPrice: 29.99'),\n",
       " Document(metadata={'source': './small_data.csv', 'row': 10}, page_content='ProductID: 1011\\nProductName: Notebook Stand\\nCategory: Accessories\\nPrice: 15.99'),\n",
       " Document(metadata={'source': './small_data.csv', 'row': 11}, page_content='ProductID: 1012\\nProductName: Smart Watch\\nCategory: Electronics\\nPrice: 99.99'),\n",
       " Document(metadata={'source': './small_data.csv', 'row': 12}, page_content='ProductID: 1013\\nProductName: Gym Towel\\nCategory: Sports\\nPrice: 12.49'),\n",
       " Document(metadata={'source': './small_data.csv', 'row': 13}, page_content='ProductID: 1014\\nProductName: Sticky Notes\\nCategory: Stationery\\nPrice: 1.99'),\n",
       " Document(metadata={'source': './small_data.csv', 'row': 14}, page_content='ProductID: 1015\\nProductName: Travel Pillow\\nCategory: Accessories\\nPrice: 14.99'),\n",
       " Document(metadata={'source': './small_data.csv', 'row': 15}, page_content='ProductID: 1016\\nProductName: Desk Organizer\\nCategory: Home\\nPrice: 11.99'),\n",
       " Document(metadata={'source': './small_data.csv', 'row': 16}, page_content='ProductID: 1017\\nProductName: Power Bank\\nCategory: Electronics\\nPrice: 22.99'),\n",
       " Document(metadata={'source': './small_data.csv', 'row': 17}, page_content='ProductID: 1018\\nProductName: Waterproof Bag\\nCategory: Sports\\nPrice: 18.99'),\n",
       " Document(metadata={'source': './small_data.csv', 'row': 18}, page_content='ProductID: 1019\\nProductName: Marker Set\\nCategory: Stationery\\nPrice: 4.49'),\n",
       " Document(metadata={'source': './small_data.csv', 'row': 19}, page_content='ProductID: 1020\\nProductName: Table Clock\\nCategory: Home\\nPrice: 13.50')]"
      ]
     },
     "execution_count": 1,
     "metadata": {},
     "output_type": "execute_result"
    }
   ],
   "source": [
    "from langchain_community.document_loaders.csv_loader import CSVLoader\n",
    "\n",
    "## loading data in one go\n",
    "loader = CSVLoader(file_path=\"./small_data.csv\")\n",
    "doc= loader.load()\n",
    "print(doc)"
   ]
  },
  {
   "cell_type": "code",
   "execution_count": 3,
   "id": "20cbe341",
   "metadata": {},
   "outputs": [
    {
     "name": "stdout",
     "output_type": "stream",
     "text": [
      "Loaded document:0\n",
      "Loaded document:1\n",
      "Loaded document:2\n",
      "Loaded document:3\n",
      "Loaded document:4\n",
      "Loaded document:5\n",
      "Loaded document:6\n",
      "Loaded document:7\n",
      "Loaded document:8\n",
      "Loaded document:9\n",
      "Loaded document:10\n",
      "Loaded document:11\n",
      "Loaded document:12\n",
      "Loaded document:13\n",
      "Loaded document:14\n",
      "Loaded document:15\n",
      "Loaded document:16\n",
      "Loaded document:17\n",
      "Loaded document:18\n",
      "Loaded document:19\n",
      "Loaded document:20\n",
      "Loaded document:21\n",
      "Loaded document:22\n",
      "Loaded document:23\n",
      "Loaded document:24\n",
      "Loaded document:25\n",
      "Loaded document:26\n",
      "Loaded document:27\n",
      "Loaded document:28\n",
      "Loaded document:29\n",
      "Loaded document:30\n",
      "Loaded document:31\n",
      "Loaded document:32\n",
      "Loaded document:33\n",
      "Loaded document:34\n",
      "Loaded document:35\n",
      "Loaded document:36\n",
      "Loaded document:37\n",
      "Loaded document:38\n",
      "Loaded document:39\n",
      "Loaded document:40\n",
      "Loaded document:41\n",
      "Loaded document:42\n",
      "Loaded document:43\n",
      "Loaded document:44\n",
      "Loaded document:45\n",
      "Loaded document:46\n",
      "Loaded document:47\n",
      "Loaded document:48\n",
      "Loaded document:49\n",
      "Loaded document:50\n",
      "Loaded document:51\n",
      "Loaded document:52\n"
     ]
    }
   ],
   "source": [
    "## loading data one by one\n",
    "lazy_loader = CSVLoader(file_path='./large_data.csv')\n",
    "for doc in lazy_loader.lazy_load():\n",
    "    print(f'Loaded document:{doc.metadata.get('row')}')"
   ]
  },
  {
   "cell_type": "code",
   "execution_count": null,
   "id": "d328b503",
   "metadata": {},
   "outputs": [
    {
     "data": {
      "text/plain": [
       "[Document(metadata={'source': 'speech.txt'}, page_content=\"My colleagues in the Union Cabinet Jyotiraditya Scindia ji and Sukanta Majumdar ji, Governor of Manipur Ajay Bhalla ji, Chief Minister of Assam Himanta Biswa Sarma ji, Chief Minister of Arunachal Pradesh Pema Khandu ji, Chief Minister of Tripura Manik Saha ji, Chief Minister of Meghalaya Conrad Sangma ji, Chief Minister of Sikkim Prem Singh Tamang ji, Chief Minister of Nagaland Neiphiu Rio ji, Chief Minister of Mizoram Lalduhoma ji, all industry leaders, investors, ladies and gentlemen!\\n\\nOn this grand podium of Rising Northeast, I feel a sense of pride, warmth, belonging, and above all, immense confidence in the future. Just a few months ago, we celebrated the Ashtalakshmi Festival here at Bharat Mandapam. Today, we are celebrating a festival of investment in the Northeast. So many industry leaders have gathered here. This shows the enthusiasm, excitement, and new dreams that everyone has for the Northeast. I extend my heartfelt congratulations to all the ministries and the state governments for this achievement. Your efforts have created an excellent environment for investment there. On behalf of myself and the Government of Bharat, I wish you all the very best for the success of the North East Rising Summit.\\n\\nFriends,\\n\\nBharat is considered the world’s most diverse nation, and our Northeast is the most diverse part of this diverse nation. From trade to tradition, from textiles to tourism, the diversity of the Northeast is its greatest strength. Northeast means bio-economy and bamboo; Northeast means tea production and petroleum; Northeast means sports and skill; Northeast is emerging as a hub of eco-tourism; Northeast represents a new world of organic products; Northeast is a powerhouse of energy. That is why, the Northeast is our Ashtalakshmi (eight forms of prosperity). With the blessings of this Ashtalakshmi, every state in the Northeast is saying—we are ready for investment, we are ready to lead.\\n\\nFriends,\\n\\nIt is essential for Eastern Bharat to develop for the building of a ‘Viksit Bharat’ (Developed India). And the Northeast is the most important part of Eastern Bharat. For us, EAST is not just a direction—it stands for Empower, Act, Strengthen, and Transform. This is our government’s policy for Eastern Bharat. This same policy, this same priority, has brought Eastern Bharat—and our Northeast—to the centre stage of growth.\\n\\nFriends,\\n\\nThe transformation that the Northeast has seen in the last 11 years is not just about numbers—it is change that can be felt on the ground. We have not just built a connection with the Northeast through government schemes—we have built a bond from the heart. You might be surprised to hear this: ministers from our central government have visited the Northeast more than 700 times. And it wasn’t just about visiting and leaving—the rule was to stay overnight. They experienced the land, they saw the hope in people’s eyes, and they turned that trust into a development-driven policy. We did not view infrastructure as just bricks and cement—we made it a medium for emotional connection. We moved beyond the Look East policy to embrace the mantra of Act East, and today, we are seeing the results. There was a time when the Northeast was only referred to as a frontier region. Today, it is becoming the front-runner of growth.\\n\\nFriends,\\n\\nGood infrastructure makes tourism more attractive. Where there is strong infrastructure, investors also gain greater confidence. Better roads, robust power infrastructure, and an efficient logistics network are the backbone of any industry. Trade thrives where there is seamless connectivity—in other words, quality infrastructure is the foundation and first requirement of any kind of development. That’s why we have initiated an Infrastructure Revolution in the Northeast. For a long time, the Northeast remained neglected. But now, the Northeast is becoming a land of opportunities. We have invested hundreds of thousands of crores of rupees in connectivity infrastructure in the Northeast. If you go to Arunachal Pradesh, you’ll see infrastructure projects like the Sela Tunnel. In Assam, you’ll witness mega projects like the Bhupen Hazarika Bridge. In just one decade, we have built 11,000 kilometres of new highways in the Northeast. Hundreds of kilometres of new railway lines have been laid. The number of airports in the Northeast has doubled.  Waterways are being developed on the Brahmaputra and Barak rivers. Hundreds of mobile towers have been installed, and not just that—a 1,600-kilometre-long pipeline, the Northeast Gas Grid, has also been established. This ensures reliable gas supply for industry. In short—highways, railways, waterways, and i-ways—connectivity in every form is being strengthened in the Northeast. The ground has been prepared in the Northeast. Our industries must step forward and take full advantage of this opportunity. You must not miss out on the First Mover Advantage.\\n\\nFriends,\\n\\nIn the coming decade, the trade potential of the Northeast is set to grow manyfold. Today, the trade volume between Bharat and ASEAN is around $125 billion. In the coming years, it will surpass $200 billion, and the Northeast will become a strong bridge for this trade—a gateway to ASEAN. We are rapidly developing the necessary infrastructure to support this vision. The Bharat-Myanmar-Thailand Trilateral Highway will establish direct connectivity to Thailand through Myanmar. This will ease Bharat’s connectivity with countries like Thailand, Vietnam, and Laos. Our government is also working swiftly to complete the Kaladan Multimodal Transit Project, which will connect the Kolkata Port to Sittwe Port in Myanmar, and further link the rest of the Northeast via Mizoram. This will significantly reduce the distance between West Bengal and Mizoram and prove to be a major boon for industry and trade.\\n\\nFriends,\\n\\nToday, cities like Guwahati, Imphal, and Agartala are being developed as multi-modal logistics hubs. In Meghalaya and Mizoram, Land Customs Stations are now giving a new boost to international trade. With all these efforts, the Northeast is emerging as a new name in trade with Indo-Pacific countries. That means a whole new sky of possibilities is opening up for you in the Northeast.\\n\\nFriends,\\n\\nWe are working to establish Bharat as a global health and wellness solution provider. Our mission is to make the mantra “Heal in India” a global mantra. The Northeast is not only rich in nature, but it is also a perfect destination for an organic lifestyle. Its biodiversity, its climate—they work like natural medicine for wellness. That is why I urge you to explore the Northeast for investment opportunities in the Heal in India mission.\\n\\nFriends,\\n\\nMusic, dance, and celebration are woven into the very culture of the Northeast. That makes it a fantastic destination for global conferences, concerts, and destination weddings. In many ways, the Northeast is a complete package for tourism. Now that the benefits of development are reaching every corner of the Northeast, we are also seeing a positive impact on tourism. The number of tourists has doubled, and this is not just about numbers—home stays are being built in villages, youth are getting new opportunities as guides, and a full tour and travel ecosystem is developing. Now we must take this to even greater heights. In eco-tourism and cultural tourism, there are plenty of new investment opportunities waiting for all of you.\\n\\nFriends,\\n\\nFor the development of any region, the most important requirement is peace and law & order. Whether it is terrorism or Maoist insurgency, our government follows a zero-tolerance policy. There was a time when the Northeast was associated with bombs, guns, and blockades. Just the mention of the Northeast brought these images to mind. And this caused immense loss to the youth of the region—countless opportunities slipped away from their hands. Our focus is on the future of the youth of the Northeast. That’s why we have signed one peace agreement after another, giving young people the chance to join the mainstream of development. In the last 10–11 years, over 10,000 youth have chosen the path of peace by laying down their arms. Today, the youth of the Northeast are getting new opportunities for employment and self-employment right in their own region. Through the MUDRA Yojana, millions of youth in the Northeast have received financial assistance worth thousands of crores of rupees. The growing number of educational institutions is helping these youths enhance their skills. Now, the youth of the Northeast are not just internet users—they are becoming digital innovators. With more than 13,000 kilometres of optical fiber, 4G and 5G coverage, and emerging opportunities in technology, young people are now launching large-scale start-ups from their own towns. The Northeast is becoming Bharat’s digital gateway.\\n\\nFriends,\\n\\nWe all know how important skills are for growth and a better future. The Northeast provides a favourable environment for this as well. The central government is making massive investments in the education and skill development ecosystem of the region. In the last decade, over 21,000 crore rupees have been invested in the Northeast’s education sector. Around 850 new schools have been established. The first AIIMS (All India Institute of Medical Sciences) in the Northeast is now operational. Nine new medical colleges have been built. Two new IIITs (Indian Institutes of Information Technology) have been established in the region. A campus of the Indian Institute of Mass Communication has been set up in Mizoram. Approximately 200 new skill development institutes have been established across the Northeast. The country’s first Sports University is also being built there. Under the Khelo India program, projects worth hundreds of crores of rupees are underway in the Northeast. There are 8 Khelo India Centres of Excellence and over 250 Khelo India Centres in the region alone. This means the best talent across all sectors is available in the Northeast. You must make the most of this opportunity.\\n\\nFriends,\\n\\nToday, the global demand for organic food is rising. There's a growing inclination toward holistic healthcare, and I have a dream — that every dining table in the world should have at least one Indian food brand. The Northeast has a crucial role to play in fulfilling this dream. In the last decade, the scope of organic farming in the Northeast has doubled. Our region is known for products like tea, pineapples, oranges, lemons, turmeric, and ginger — and their taste and quality are truly exceptional. The demand for these products is increasing globally, and this growing demand opens up great opportunities for all of you.\\n\\nFriends,\\n\\nThe government is working to make it easier to set up food processing units in the Northeast. Improved connectivity is already helping, and in addition to that, we are building mega food parks, expanding the cold storage network and establishing testing laboratories.  The government has also launched the Oil Palm Mission. The soil and climate of the Northeast are highly suitable for oil palm cultivation. This can become a significant source of income for our farmers, and it will also help reduce Bharat’s dependency on imported edible oils. Palm oil farming is a big opportunity for our industries as well.\\n\\nFriends,\\n\\nOur Northeast is emerging as a key destination for two more sectors: energy and semiconductors. Whether it's hydropower or solar power, the government is making major investments in every state of the Northeast. Projects worth thousands of crores of rupees have already been approved. You not only have investment opportunities in plants and infrastructure, but also a golden opportunity in manufacturing. Whether it's solar modules, cells, storage, or research, we need greater investments. This is our future — and the more we invest in it today, the less dependent we will be on foreign countries. Today, the Northeast — especially Assam — is playing a significant role in strengthening the country’s semiconductor ecosystem. Very soon, the first Made-in-India chip from a semiconductor plant in the Northeast will be available to the country. This plant has opened the doors of opportunity for the semiconductor sector and other cutting-edge technologies in the region.\\n\\nFriends,\\n\\nRising Northeast is not just an investors' summit — it is a movement. It is a call to action. The future of Bharat will rise to new heights through the bright future of the Northeast. I have complete faith in all the business leaders. Come, let us together make our Ashtalakshmi an inspiration for a ‘Viksit Bharat’. I am fully confident that today’s collective efforts, your enthusiasm, and your commitment are turning hope into belief. And I am certain that by the time we hold the second Rising Northeast Summit, we will have achieved remarkable progress. Wishing you all the very best.\\n\\nThank you very much!\")]"
      ]
     },
     "execution_count": 3,
     "metadata": {},
     "output_type": "execute_result"
    }
   ],
   "source": [
    "#loader = TextLoader(\"speech.txt\")\n",
    "#text_loader = loader.load()\n",
    "#text_loader"
   ]
  },
  {
   "cell_type": "markdown",
   "id": "e2741fb5",
   "metadata": {},
   "source": [
    "#### Pdf Loader"
   ]
  },
  {
   "cell_type": "code",
   "execution_count": null,
   "id": "094f5a34",
   "metadata": {},
   "outputs": [],
   "source": []
  }
 ],
 "metadata": {
  "kernelspec": {
   "display_name": "Python 3",
   "language": "python",
   "name": "python3"
  },
  "language_info": {
   "codemirror_mode": {
    "name": "ipython",
    "version": 3
   },
   "file_extension": ".py",
   "mimetype": "text/x-python",
   "name": "python",
   "nbconvert_exporter": "python",
   "pygments_lexer": "ipython3",
   "version": "3.12.0"
  }
 },
 "nbformat": 4,
 "nbformat_minor": 5
}
